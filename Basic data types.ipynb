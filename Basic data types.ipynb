{
 "cells": [
  {
   "cell_type": "markdown",
   "metadata": {},
   "source": [
    "# 理論:基本的資料型態\n",
    "\n",
    "每個數據對象（變量或常量）的類型都描述要如何將其保存在內存中，可以對該對象執行哪種操作以及如何對其進行計算。\n",
    "\n",
    "Every data object (a variable or a constant) has a type that describes how to keep it in memory, which operation can be applied to this object and how to compute them.\n",
    "\n",
    "類型的真實世界可以是生物物種或特定對象之間共享的任何其他抽象屬性。您所見過的所有狗都具有dog類型，但它們中的每一個都是一個單獨的對象。將狗視為一種類型，您可以假設並進行一些操作，例如，狗可以吠叫。\n",
    "\n",
    "A real-world analogy of types may be biological species or any other abstract attribute shared among specific objects. All the dogs you've seen have type dog, but each of them is an individual object. Thinking about a dog as a type you can assume some operations available, for example, a dog can bark.\n",
    "\n",
    "在本主題中，我們將僅考慮編程實踐中常用的幾種最簡單的數據類型。\n",
    "\n",
    "In this topic, we will consider only a few simplest data types that are commonly used in programming practice."
   ]
  },
  {
   "cell_type": "markdown",
   "metadata": {},
   "source": [
    "## 1.字串\n",
    "\n",
    "每當您想在程序中使用某種文本信息時，都必須使用string。字符串類型稱為str。字符串在Python中非常普遍且有用。字符串文字可以使用單引號或雙引號分隔。\n",
    "\n",
    "Whenever you want to work with some kind of textual information in your program, you'll have to work with strings. The string type is called str. Strings are extremely common and useful in Python. String literals may be delimited using either single or double quotes.\n",
    "\n",
    "###### 雙引號中的字符串範例：\n",
    "\n",
    "###### Examples of strings in double quotes:"
   ]
  },
  {
   "cell_type": "code",
   "execution_count": null,
   "metadata": {},
   "outputs": [],
   "source": [
    "print(\"\")               # empty string\n",
    "print(\"string\")         # one word\n",
    "print(\"Hello, world!\")  # a sentence"
   ]
  },
  {
   "cell_type": "markdown",
   "metadata": {},
   "source": [
    "###### 單引號中的字符串範例：\n",
    "\n",
    "###### Examples of strings in single quotes:"
   ]
  },
  {
   "cell_type": "code",
   "execution_count": null,
   "metadata": {},
   "outputs": [],
   "source": [
    "print('a')                   # single character\n",
    "print('1234')                # a sequence of digits\n",
    "print('Bonjour, le monde!')  # a sentence"
   ]
  },
  {
   "cell_type": "markdown",
   "metadata": {},
   "source": [
    "在實際程序中，字符串可以代表個人或組織的電子郵件。\n",
    "\n",
    "In a real program, a string can represent an email of a person or an organization."
   ]
  },
  {
   "cell_type": "code",
   "execution_count": null,
   "metadata": {},
   "outputs": [],
   "source": [
    "print('hello@hyperskill.org')  # printing an email"
   ]
  },
  {
   "cell_type": "markdown",
   "metadata": {},
   "source": [
    "如您所見，字符串非常易於使用！\n",
    "\n",
    "As you can see, strings are very easy to use!"
   ]
  },
  {
   "cell_type": "markdown",
   "metadata": {},
   "source": [
    "## 2.數值類型\n",
    "\n",
    "數字對於任何程序員來說都是最重要的。如果不使用數字，幾乎沒有任何嚴肅的程序可以編寫，因此讓我們討論一些基本的數字類型：\n",
    "\n",
    "Numbers are the most important thing for any programmer. There is hardly any serious program you can write without using numbers, so let's discuss some basic numerical types:\n",
    "\n",
    "#### int（帶符號整數）。稱為整數或整數，它們是整數（正，負或零），沒有小數點；\n",
    "#### float（浮點數）。稱為浮點數，它們表示實數並具有小數點。\n",
    "\n",
    "#### int (signed integers). Called integers or ints, they are whole numbers (positive, negative, or zero), having no decimal point;\n",
    "#### float (floating-point numbers). Called floats, they represent real numbers and have a decimal point.\n",
    "\n",
    "您可以通過將數字打印出來開始使用它。\n",
    "\n",
    "You can start working with a number by just printing it out."
   ]
  },
  {
   "cell_type": "code",
   "execution_count": null,
   "metadata": {},
   "outputs": [],
   "source": [
    "print(11)    # prints 11\n",
    "print(11.0)  # prints 11.0"
   ]
  },
  {
   "cell_type": "markdown",
   "metadata": {},
   "source": [
    "即使11和11.0都是相同的數字，前者是整數，而後者是浮點數。區分它們的最簡單方法是浮點數有小數點，而整數沒有。留心！\n",
    "\n",
    "Even though 11 and 11.0 are the same number, the former is an integer, and the latter is a float. The simplest way to distinguish them is that floats have a decimal point and integers don't. Be attentive!\n",
    "\n",
    "###### 您還可以使用負數和零：\n",
    "###### You can also use negative numbers as well as zeroes:"
   ]
  },
  {
   "cell_type": "code",
   "execution_count": null,
   "metadata": {},
   "outputs": [],
   "source": [
    "print(0)      # prints 0\n",
    "print(-5)     # prints -5\n",
    "print(-1.03)  # prints -1.03"
   ]
  },
  {
   "cell_type": "markdown",
   "metadata": {},
   "source": [
    "整數可用於對現實世界中的事物進行計數，而浮點數則是統計和科學計算的理想選擇。\n",
    "\n",
    "Integer numbers can be used to count things in the real world while floating-point numbers are a good choice for statistical and scientific calculations."
   ]
  },
  {
   "cell_type": "markdown",
   "metadata": {},
   "source": [
    "## 3.列印類型\n",
    "\n",
    "我們也有一種方法可以使用type()，Python中的函數清楚地說明不同對象的類型。\n",
    "\n",
    "We also have a way to clearly demonstrate types of different objects using the type() function which is a part of Python."
   ]
  },
  {
   "cell_type": "code",
   "execution_count": null,
   "metadata": {},
   "outputs": [],
   "source": [
    "print(type('hello'))  # <class 'str'>\n",
    "print(type(\"world\"))  # <class 'str'>\n",
    " \n",
    "print(type(100))      # <class 'int'>\n",
    "print(type(-50))      # <class 'int'>\n",
    " \n",
    "print(type(3.14))     # <class 'float'>\n",
    "print(type(-0.5))     # <class 'float'>"
   ]
  },
  {
   "cell_type": "markdown",
   "metadata": {},
   "source": [
    "從上面的示例中可以看到，該type()函數指示單詞class之後的傳遞值的數據類型。\n",
    "\n",
    "As you can see from the examples above, the type() function indicates the data type of a passed value after the word class."
   ]
  },
  {
   "cell_type": "markdown",
   "metadata": {},
   "source": [
    "## 4.結論\n",
    "\n",
    "我們希望現在您對數據類型的概念有所了解。你應該記住的最簡單的類型叫str，int以及float如何編寫自己的文字。在以下主題中，我們將學習每種類型的特定功能。如果您需要了解對象的類型，只需使用type()函數進行打印即可。\n",
    "\n",
    "We hope that now you have some intuition about the concept of data types. You should remember the simplest types called str, int and float and how to write their literals. In the following topics, we will learn specific features of each of these types. If you need to know the type of an object, just print it using the type() function."
   ]
  },
  {
   "cell_type": "code",
   "execution_count": null,
   "metadata": {},
   "outputs": [],
   "source": []
  }
 ],
 "metadata": {
  "kernelspec": {
   "display_name": "Python 3",
   "language": "python",
   "name": "python3"
  },
  "language_info": {
   "codemirror_mode": {
    "name": "ipython",
    "version": 3
   },
   "file_extension": ".py",
   "mimetype": "text/x-python",
   "name": "python",
   "nbconvert_exporter": "python",
   "pygments_lexer": "ipython3",
   "version": "3.7.4"
  }
 },
 "nbformat": 4,
 "nbformat_minor": 2
}
