{
 "cells": [
  {
   "cell_type": "markdown",
   "metadata": {},
   "source": [
    "錯誤 (Errors)\n",
    "\n",
    "1.了解錯誤消息 Understanding the error message\n",
    "\n",
    "\"SyntaxError: unexpected EOF while parsing\"中的EOF是們什麼意思？ \n",
    "\n",
    "What does EOF in \"SyntaxError: unexpected EOF while parsing\" stands for?\n",
    "\n",
    "Select one option from the list\n",
    "\n",
    "(a)End of file\n",
    "\n",
    "(b)End of function\n",
    "\n",
    "(c)End of form\n",
    "\n",
    "(d)End of formula\n",
    "\n",
    "2.語法錯誤的識別 Indentification of syntax error\n",
    "\n",
    "以下哪個字串不會引起語法錯誤？\n",
    "\n",
    "Which of these strings WILL NOT cause syntax error?\n",
    "\n",
    "a = 'first string'\n",
    "b = \"second string = first string\"\n",
    "c = \"can it work, I wonder?'\n",
    "d = 'it's really easy to forget'\n",
    "e = 'we \"quote\" it, because we can, can't we?'\n",
    "f = \"\"\"is this even posssible!?\"\"\"\n",
    "\n",
    "3.混亂 Chaos\n",
    "\n",
    "查看下面的代碼並消除錯誤：第一行應打印出計算的結果，第二行應打出mathematics一詞。\n",
    "\n",
    "Look at the code below and eliminate the chaos: the first line should print the resulting number of the calculation and the second line should print the word mathematics.\n",
    "\n",
    "4.英語縮寫 English contractions\n",
    "\n",
    "露西正在為她的學生畫一張帶有英語縮寫的海報。我們將加入她的英語俱樂部，並提供學習教材方面的幫助\n",
    "\n",
    "Lucy is drawing a poster with English contractions for her students. We will join her English club and help with learning materials.\n",
    "\n",
    "打印以下帶有縮寫的字符串：\n",
    "\n",
    "Print the following strings with contractions:\n",
    "\n",
    "I am = I'm\n",
    "I have = I've\n",
    "I will = I'll\n",
    "I had / would = I'd\n",
    "\n",
    "5.視覺詩Visual poetry\n",
    "\n",
    "看看這首雞蛋形的詩！嘗試運行此代碼而不會出現錯誤。\n",
    "\n",
    "請保留詩的形狀。在print（）中編輯一個字符串，以便所有字符串都具有相同的長度。\n",
    "\n",
    "Just look at this piece of poetry in the shape of an egg! Try to run this code without errors.\n",
    "\n",
    "It would be nice to preserve the shape of the poem. Edit one string within print() so that all strings will have the same length.\n"
   ]
  },
  {
   "cell_type": "code",
   "execution_count": null,
   "metadata": {},
   "outputs": [],
   "source": [
    "print(\"      *  *  *     \")\n",
    "print(\"    *         *   \")\n",
    "print(\"  *    Which   *  \")\n",
    "print(\" *  came first: * \")\n",
    "print(\"*  the  chicken  *\")\n",
    "print(\" *   or   the   * \")\n",
    "  print(\" *   egg?   *\")\n",
    "print(\"     *  *  *      \")"
   ]
  }
 ],
 "metadata": {
  "kernelspec": {
   "display_name": "Python 3",
   "language": "python",
   "name": "python3"
  },
  "language_info": {
   "codemirror_mode": {
    "name": "ipython",
    "version": 3
   },
   "file_extension": ".py",
   "mimetype": "text/x-python",
   "name": "python",
   "nbconvert_exporter": "python",
   "pygments_lexer": "ipython3",
   "version": "3.7.6"
  }
 },
 "nbformat": 4,
 "nbformat_minor": 4
}
