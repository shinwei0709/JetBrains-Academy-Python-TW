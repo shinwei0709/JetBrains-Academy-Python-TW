{
 "cells": [
  {
   "cell_type": "markdown",
   "metadata": {},
   "source": [
    "# Avoiding bad comments\n",
    "\n",
    "如你所知，Python的特徵(所有Python程式設計師都喜歡)是容易理解的語法。但是除了語法本身之外，\n",
    "還有其他一些重要因素也可以提高程式的可讀性。 我們假設您已經熟悉註釋以及它們如何幫助您學習新語言。\n",
    "\n",
    "As you already know, a Python feature (beloved by all Python programmers) is its well-readable syntax. However, apart from the syntax itself, there are other important things that contribute to the readability of your program. We assume that you are already familiar with comments and how they help in learning a new language.\n",
    "\n",
    "在實際程式中，隨著程式變得越來越大和越來越複雜，註釋變得尤為重要。 沒有它們，即使在編寫程序後的幾個月內，您甚至可能也會感到困惑，更不用說其他第一次看到您的代碼的開發人員了。 但是寫註釋也有一個缺點，那就是說更多不一定代表更好，我們也將在下面進行討論。\n",
    "\n",
    "In real programs, comments become especially important as the program gets bigger and more complicated. Without them, things may get confusing even for you within a few months after writing the program, not to mention other developers who see your code for the first time. However, there is also a downside of making comments, meaning that more is not necessarily better, and we will discuss it below as well.\n",
    "\n",
    "## 1.When not to write comments?\n",
    "\n",
    "這聽起來可能很奇怪，但有時最好不要寫註解。 精心編寫的它們確實可以提高程序的可讀性，但這並不意味著您應該盡可能地增加它們。 相反，許多程式設計師相信，好的程式碼起初不需要任何註釋，因為它是如此透明和準確。 這就是我們所有人都應針對的目標。 因此，如果可以使代碼變得不言自明，則註釋是不必要的，最好更改代碼。 讓我們重點介紹開發人員需要少註釋的情況。\n",
    "\n",
    "This may sound strange but sometimes it's better not to write comments at all. Carefully written, they can indeed contribute to the readability of your program, but it doesn't mean you should include them wherever you can. On the contrary, many programmers are convinced that a good piece of code doesn't require any comments in the first place, for it is so transparent and accurate. That is what we all should aim at. So, if code can be made self-explanatory, comments are unnecessary, and it's better to change the code. Let's highlight cases when developers need to comment less.\n",
    "\n",
    "+ 如果一個註釋說明變數/函數，則通常可以刪除註釋並透過明確化命名變量/方法本身來減少註釋。 比較下面的程式碼：\n",
    "\n",
    "\n",
    "+ If a comment explains a variable/function, you can usually delete the comment and explicitly name the variable/method itself. Compare the following lines of code:"
   ]
  },
  {
   "cell_type": "code",
   "execution_count": null,
   "metadata": {},
   "outputs": [],
   "source": [
    "n = 0  # number of participants 參加人數\n",
    "participants_num = 0"
   ]
  },
  {
   "cell_type": "markdown",
   "metadata": {},
   "source": [
    "+避免寫下明顯的註釋，例如下面的註釋。 它們使您的代碼變得多餘，甚至難以閱讀。 您應始終遵循D.R.Y. （請勿重複）原則，而不是W.E.T. （對於憤世嫉俗者們，“將所有內容寫兩次”或“浪費每個人的時間”）。\n",
    "\n",
    "+ Avoid writing obvious comments, like the one below. They make your code redundant and even harder to read. You should always seek following the D.R.Y. (don't repeat yourself) principle, not W.E.T. (\"wrote everything twice\" or \"wasted everyone's time\" for more cynical ones)."
   ]
  },
  {
   "cell_type": "code",
   "execution_count": null,
   "metadata": {},
   "outputs": [],
   "source": [
    "age = 20  # age is 20 年齡為20\n",
    "greeting = 'hello'  # assign 'hello' to greeting 將greeting賦予值'hello'"
   ]
  },
  {
   "cell_type": "markdown",
   "metadata": {},
   "source": [
    "+ 如果你看到一種更改代碼從而不必使用註釋的方法，那你應該去執行這個方法。\n",
    "\n",
    "+ If you see a way to alter your code so that comments would become unnecessary - you should do that.\n",
    "\n",
    "\n",
    "也就是說，如果您可以避免註釋-最好的辦法!。 這樣一來，您的代碼將變得乾淨整潔，不會被不必要的細節所淹沒，也不會變得更加複雜而不是讓讀者更清楚。\n",
    "\n",
    "That is, if you can avoid commenting - you'd better do. Then your code would be clean, wouldn't be overloaded with unnecessary details and wouldn't become more complicated rather than clearer for readers to understand.\n",
    "\n",
    "## 2.How to write good comments?\n",
    "\n",
    "現在，讓我們談談決定寫註解的情況。 然後要記住的主要事情是，任何人（無論是未來的你還是其他程式設計師）註釋都易於給他們理解。 以下是有關實踐方法的一些提示：\n",
    "\n",
    "Now, let's turn to cases when you decide to write a comment. The main thing to remember then is that comments should be easily understandable by anyone, be that Future You or some other programmer. Here are some tips on how to achieve it:\n",
    "\n",
    "+ 通常，註解應回答\"why\"而不是\"What\"的問題。 但是，對於初學者來說，自己編寫註釋來解釋程式碼的作用可能會很有用，尤其是在使用新近學習的語法表達式時，例如：\n",
    "\n",
    "+ Generally, comments should answer the question \"why\" as opposed to \"what\". However, it may be useful for beginners to write comments for themselves explaining what the code does, especially when using a newly learned syntax expression, e.g.:\n"
   ]
  },
  {
   "cell_type": "code",
   "execution_count": null,
   "metadata": {},
   "outputs": [],
   "source": [
    "result = 15 % 4  # % is used for division with remainder  %是用來取餘數"
   ]
  },
  {
   "cell_type": "markdown",
   "metadata": {},
   "source": [
    "+ 確保您的註釋與程式碼不矛盾（這種情況比您想像的要多！）。 錯誤的註釋總比沒有住註釋還慘。\n",
    "\n",
    "+ Make sure that your comments do not contradict the code (that happens more often than you can imagine!). Wrong comments are worse than no comments at all.\n",
    "\n"
   ]
  },
  {
   "cell_type": "code",
   "execution_count": 3,
   "metadata": {},
   "outputs": [
    {
     "ename": "NameError",
     "evalue": "name 'counter' is not defined",
     "output_type": "error",
     "traceback": [
      "\u001b[1;31m---------------------------------------------------------------------------\u001b[0m",
      "\u001b[1;31mNameError\u001b[0m                                 Traceback (most recent call last)",
      "\u001b[1;32m<ipython-input-3-deea8431ac5b>\u001b[0m in \u001b[0;36m<module>\u001b[1;34m()\u001b[0m\n\u001b[0;32m      1\u001b[0m \u001b[1;31m# decrease the counter   減少 計數器 數值\u001b[0m\u001b[1;33m\u001b[0m\u001b[1;33m\u001b[0m\u001b[0m\n\u001b[1;32m----> 2\u001b[1;33m \u001b[0mcounter\u001b[0m \u001b[1;33m+=\u001b[0m \u001b[1;36m1\u001b[0m\u001b[1;33m\u001b[0m\u001b[0m\n\u001b[0m",
      "\u001b[1;31mNameError\u001b[0m: name 'counter' is not defined"
     ]
    }
   ],
   "source": [
    "# decrease the counter   減少 計數器 數值\n",
    "\n",
    "#~範例僅為取一行程式碼舉例，沒有賦予初始值，執行時會出錯\n",
    "\n",
    "counter += 1"
   ]
  },
  {
   "cell_type": "markdown",
   "metadata": {},
   "source": [
    "如果您修改程式碼，請不要忘記更新註釋。 這只會使讀者感到困惑，而不會幫助他們。 在下面的示例中，變量“ counter”曾經被指定為“ i”； 程序員在代碼中更改了名稱，但在註釋中未更改。\n",
    "\n",
    "\n",
    "+ Do not forget to update the comments if you modify the code. It will only confuse the reader instead of helping them. In the example below the variable \"counter\" used to be designated as \"i\"; the programmer changed its name in the code but not in the comment."
   ]
  },
  {
   "cell_type": "code",
   "execution_count": 2,
   "metadata": {},
   "outputs": [
    {
     "ename": "NameError",
     "evalue": "name 'counter' is not defined",
     "output_type": "error",
     "traceback": [
      "\u001b[1;31m---------------------------------------------------------------------------\u001b[0m",
      "\u001b[1;31mNameError\u001b[0m                                 Traceback (most recent call last)",
      "\u001b[1;32m<ipython-input-2-972aba56f92b>\u001b[0m in \u001b[0;36m<module>\u001b[1;34m()\u001b[0m\n\u001b[0;32m      1\u001b[0m \u001b[1;31m# i is incremented in case of errors\u001b[0m\u001b[1;33m\u001b[0m\u001b[1;33m\u001b[0m\u001b[0m\n\u001b[1;32m----> 2\u001b[1;33m \u001b[0mcounter\u001b[0m \u001b[1;33m+=\u001b[0m \u001b[1;36m1\u001b[0m\u001b[1;33m\u001b[0m\u001b[0m\n\u001b[0m",
      "\u001b[1;31mNameError\u001b[0m: name 'counter' is not defined"
     ]
    }
   ],
   "source": [
    "# i is incremented in case of errors \n",
    "# 如果發生錯誤i會增加\n",
    "counter += 1"
   ]
  },
  {
   "cell_type": "markdown",
   "metadata": {},
   "source": [
    "依照這些建議，您可以編寫整潔，有條理，易於理解且易於閱讀的代碼。\n",
    "\n",
    "Following these pieces of advice, you can write code that is clean, organized, easy to understand, and pleasant to read.\n",
    "\n",
    "## 3.Conclusion\n",
    "\n",
    "\n",
    "在註釋程式碼時，重要的是要知道在哪裡畫線。 程序過分註釋和註釋不足都可能難以理解，從而導致浪費時間和不愉快的時間來處理此類代程式碼。 因此，您應該始終嘗試僅在必要時謹慎地寫註釋。\n",
    "\n",
    "學習這樣做的最簡單方法就是做到這一點。 在您僅開始編碼時就開始練習是個好主意，因為您會習慣它，而到了解決一些更複雜的問題時，您就會知道如何正確編寫註釋。 從現在開始，嘗試在代碼中包含簡單的註釋，以解釋使您花一些時間才能理解的困難時刻。 回來查看較舊的程序並查看如何增強它們（包括註釋）也很有用。\n",
    "\n",
    "When annotating the code, it's important to know where to draw the line. Both over- and undercommented programs can be difficult to understand, resulting in wasted and unpleasant time spent working with such pieces of code. So, you should always try to write comments carefully and only when necessary.\n",
    "\n",
    "The simplest way to learn to do so is just by doing it. It's a good idea to start practicing when you only start coding because you will get used to it, and by the time some more complex problems should be solved, you will know how to write comments properly. From now on, try to include simple comments in your code to explain difficult moments that took you a while to understand. It is also useful to get back to review your older programs and see how they (including comments) could be enhanced."
   ]
  },
  {
   "cell_type": "code",
   "execution_count": null,
   "metadata": {},
   "outputs": [],
   "source": []
  },
  {
   "cell_type": "code",
   "execution_count": null,
   "metadata": {},
   "outputs": [],
   "source": []
  }
 ],
 "metadata": {
  "kernelspec": {
   "display_name": "Python 3",
   "language": "python",
   "name": "python3"
  },
  "language_info": {
   "codemirror_mode": {
    "name": "ipython",
    "version": 3
   },
   "file_extension": ".py",
   "mimetype": "text/x-python",
   "name": "python",
   "nbconvert_exporter": "python",
   "pygments_lexer": "ipython3",
   "version": "3.7.0"
  }
 },
 "nbformat": 4,
 "nbformat_minor": 2
}
