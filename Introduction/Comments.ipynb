{
 "cells": [
  {
   "cell_type": "markdown",
   "metadata": {},
   "source": [
    "# 理論：註釋\n",
    "\n",
    "有時您需要解釋程式碼中某些特定部分的用途。幸運的是Python給您提供了滿足您需求的機會。您可以留下稱為註釋的特殊註釋。它們對初學者特別有用。在整個課程中，我們將經常使用註釋來解釋我們的範例。\n",
    "\n",
    "Sometimes you need to explain what some particular parts of your code are for. Lucky you, since Python gives you an opportunity to fulfill your needs. You can leave special notes called comments. They are especially useful for beginners. Throughout this course, we will often use comments to explain our examples."
   ]
  },
  {
   "cell_type": "markdown",
   "metadata": {},
   "source": [
    "## 1.什麼是註釋?\n",
    "\n",
    "Python註釋以井號＃開頭。#號之後至行尾的所有內容均視為註釋，並且在運行程式碼時將被忽略 。\n",
    "\n",
    "Python comments start with a hash #. Everything after the hash mark and up to the end of the line is regarded as a comment and will be ignored when running the code."
   ]
  },
  {
   "cell_type": "code",
   "execution_count": 1,
   "metadata": {},
   "outputs": [
    {
     "name": "stdout",
     "output_type": "stream",
     "text": [
      "This will run.\n"
     ]
    }
   ],
   "source": [
    "print(\"This will run.\")  # This won't run"
   ]
  },
  {
   "cell_type": "markdown",
   "metadata": {},
   "source": [
    "在上面的示例中，您可以看到PEP 8稱為內聯註釋， 因為它與代碼寫在同一行。\n",
    "\n",
    "註釋也可以引用其後的程式碼塊：\n",
    "\n",
    "In the example above, you can see what PEP 8 calls an inline comment because it's written on the same line as the code.\n",
    "\n",
    "A comment can also refer to the block of code that follows it:"
   ]
  },
  {
   "cell_type": "code",
   "execution_count": null,
   "metadata": {},
   "outputs": [],
   "source": [
    "# Outputs three numbers\n",
    "print(\"1\")\n",
    "print(\"2\")\n",
    "print(\"3\")"
   ]
  },
  {
   "cell_type": "markdown",
   "metadata": {},
   "source": [
    "我們打算將此類註釋主要用於學習目的。現在，是時候找出如何正確註釋程式碼了。\n",
    "\n",
    "We intend to use such comments primarily for learning purposes. Now, it's time to find out how to comment code properly."
   ]
  },
  {
   "cell_type": "markdown",
   "metadata": {},
   "source": [
    "## 2.格式化註釋\n",
    "\n",
    "儘管寫註釋很容易，但讓我們討論如何根據最佳實踐來做註釋。\n",
    "\n",
    "首先，在#號後面應有一個空格，並且在內聯註釋中，程式碼末尾與#號之間至少應有兩個空格。\n",
    "\n",
    "Although it is pretty easy to write a comment, let's discuss how to do this in accordance with best practices.\n",
    "\n",
    "To begin with, after a hash mark there should be one space and, in inline comments, there should be at least two spaces between the end of the code and the hash mark."
   ]
  },
  {
   "cell_type": "code",
   "execution_count": null,
   "metadata": {},
   "outputs": [],
   "source": [
    "print(\"Learning Python is fun!\")  # This is a proper comment formatting\n",
    "print(\"PEP-8 is important!\")#This is a very bad example"
   ]
  },
  {
   "cell_type": "markdown",
   "metadata": {},
   "source": [
    "將您的註釋縮排至與其說明相同，例如，以下範例是錯誤的：\n",
    "\n",
    "Indent your comment to the same level as the statement it explains. E.g. the following example is wrong:"
   ]
  },
  {
   "cell_type": "code",
   "execution_count": null,
   "metadata": {},
   "outputs": [],
   "source": [
    "    # this comment is at the wrong place\n",
    "print(\"This is a statement to print.\")"
   ]
  },
  {
   "cell_type": "markdown",
   "metadata": {},
   "source": [
    "註釋不是python，不應太長。最好將長註釋分成幾行。您可以通過在每行的開頭添加一個井號來做到這一點：\n",
    "\n",
    "A comment is not a python: it should not be too long. It's better to split a long comment into several lines: you can do it by adding a hash mark at the beginning of each new line:"
   ]
  },
  {
   "cell_type": "code",
   "execution_count": null,
   "metadata": {},
   "outputs": [],
   "source": [
    "# Imagine that this is an example of a really long comment\n",
    "# that we need to spread over three lines, so we continue\n",
    "# to write it even here.\n",
    "print(\"The long comment above explains this line of code.\")"
   ]
  },
  {
   "cell_type": "markdown",
   "metadata": {},
   "source": [
    "跨越多行的註釋稱為多行或塊註釋。在Python中，沒有特殊的方式來指示它們。\n",
    "\n",
    "Comments that span multiple lines are called multi-line or block comments. In Python, there is no special way to indicate them.\n",
    "\n",
    "您可能還會遇到用三引號引起來的多行註釋\"\"\"...\"\"\"，但是，我們建議您為此使用多個#號標記。因此，您的程式碼將符合官方的樣式指南。三引號用於文檔字符串，或簡稱docstring。它們也提供信息，但是它們的使用僅限於功能，方法和其他幾種情況。\n",
    "\n",
    "You may come across multi-line comments enclosed in triple quotes \"\"\"...\"\"\", still, we recommend that you use several hash marks for this purpose. Thus, your code will comply with the official style guide. Triple quotes are reserved for documentation strings, or docstrings for short. They are also informative, but their use is limited to functions, methods and several other cases.\n",
    "\n",
    "希望我們的註釋能幫助您更好地理解我們的程式碼範例！\n",
    "\n",
    "We hope our comments will help you understand our code examples better!"
   ]
  },
  {
   "cell_type": "code",
   "execution_count": null,
   "metadata": {},
   "outputs": [],
   "source": []
  }
 ],
 "metadata": {
  "kernelspec": {
   "display_name": "Python 3",
   "language": "python",
   "name": "python3"
  },
  "language_info": {
   "codemirror_mode": {
    "name": "ipython",
    "version": 3
   },
   "file_extension": ".py",
   "mimetype": "text/x-python",
   "name": "python",
   "nbconvert_exporter": "python",
   "pygments_lexer": "ipython3",
   "version": "3.7.4"
  }
 },
 "nbformat": 4,
 "nbformat_minor": 2
}
