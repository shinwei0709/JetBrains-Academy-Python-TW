{
 "cells": [
  {
   "cell_type": "markdown",
   "metadata": {},
   "source": [
    "# 多行程式\n",
    "\n",
    "我們希望您已經掌握如何編寫簡單的Python單行程式來打印一行文本。 但實際程式包含很多行：從小型腳本的數十行到數百行，到大型專案的數千行甚至更多行。 因此在本課程中，您將設計印出多行的程式。\n",
    "\n",
    "以下程式碼精確地打印了三個字串，每個字串都從一個新行開始：\n",
    "\n",
    "\n"
   ]
  },
  {
   "cell_type": "code",
   "execution_count": null,
   "metadata": {},
   "outputs": [],
   "source": [
    "print(\"I\")\n",
    "print(\"know\")\n",
    "print(\"Python\")"
   ]
  },
  {
   "cell_type": "markdown",
   "metadata": {},
   "source": [
    "輸出為\n",
    "\n",
    ">I<br>\n",
    ">know<br>\n",
    ">Python"
   ]
  },
  {
   "cell_type": "markdown",
   "metadata": {},
   "source": [
    "如果您已經在計算機上安裝了python，可以在此處或者本地python上執行此程式。\n",
    "\n",
    "其實有其他方法透過一個print函數來印出多行文本，我們將會在後續單元討論。\n",
    "\n",
    "`print`函數允許你輸出未指定字串的空白行:"
   ]
  },
  {
   "cell_type": "code",
   "execution_count": null,
   "metadata": {},
   "outputs": [],
   "source": [
    "print(\"I\")\n",
    "print()\n",
    "print(\"know\")\n",
    "print()\n",
    "print(\"Python\")"
   ]
  },
  {
   "cell_type": "markdown",
   "metadata": {},
   "source": [
    "輸出結果變為\n",
    ">I\n",
    ">\n",
    ">know\n",
    ">\n",
    ">Python\n",
    "\n",
    "現在該開始解決一些問題了。\n",
    "\n",
    "---\n",
    "## 問題1:細微差別\n",
    "請問以下程式碼輸出了什麼?\n"
   ]
  },
  {
   "cell_type": "code",
   "execution_count": 3,
   "metadata": {},
   "outputs": [
    {
     "name": "stdout",
     "output_type": "stream",
     "text": [
      "1\n",
      "\n",
      "b\n",
      "3\n"
     ]
    }
   ],
   "source": [
    "print('1')\n",
    "print()\n",
    "print('b')\n",
    "\n",
    "print('3')  "
   ]
  },
  {
   "cell_type": "markdown",
   "metadata": {},
   "source": [
    ">a)<br>\n",
    ">1\n",
    "> \n",
    ">b\n",
    "> \n",
    ">3\n",
    "\n",
    "---\n",
    ">b)<br>\n",
    ">1<br>\n",
    ">b<br>\n",
    ">3<br>\n",
    "\n",
    "---\n",
    ">c)<br>\n",
    ">1<br>\n",
    "><br> \n",
    ">b<br>\n",
    ">3<br>\n",
    "\n",
    "---\n",
    ">d)<br>\n",
    ">1b<br>\n",
    ">3<br>\n"
   ]
  },
  {
   "cell_type": "markdown",
   "metadata": {},
   "source": [
    "---\n",
    "## 問題2:數空白\n",
    "請問有多少個**空白行**出現在以下程式印出的結果中?"
   ]
  },
  {
   "cell_type": "code",
   "execution_count": 22,
   "metadata": {},
   "outputs": [
    {
     "name": "stdout",
     "output_type": "stream",
     "text": [
      "hello\n",
      "\n",
      "\n",
      "bye\n"
     ]
    }
   ],
   "source": [
    "print(\"hello\")\n",
    "print(\"\")\n",
    "print()\n",
    " \n",
    "print(\"bye\")"
   ]
  },
  {
   "cell_type": "markdown",
   "metadata": {},
   "source": [
    "---\n",
    "## 問題3:First, second, third \n",
    "寫一個程式印出以下三行結果：\n",
    ">first<br>\n",
    ">second<br>\n",
    ">third<br>\n"
   ]
  },
  {
   "cell_type": "code",
   "execution_count": 9,
   "metadata": {},
   "outputs": [
    {
     "name": "stdout",
     "output_type": "stream",
     "text": [
      "first\n",
      "second\n",
      "third\n"
     ]
    }
   ],
   "source": [
    "print(\"first\")\n",
    "print(\"second\")\n",
    "\n",
    "print(\"third\")\n"
   ]
  },
  {
   "cell_type": "markdown",
   "metadata": {},
   "source": [
    "---\n",
    "## 問題4:井字遊戲\n",
    "寫一個程式能夠印出下方的井字遊戲樣式\n",
    ">O X X<br>\n",
    ">O X O<br>\n",
    ">X O X<br>"
   ]
  },
  {
   "cell_type": "code",
   "execution_count": 12,
   "metadata": {},
   "outputs": [
    {
     "name": "stdout",
     "output_type": "stream",
     "text": [
      "O X X\n",
      "O X O\n",
      "X O X\n"
     ]
    }
   ],
   "source": [
    "print(\"O X X\")\n",
    "print(\"O X O\")\n",
    "print(\"X O X\")"
   ]
  },
  {
   "cell_type": "markdown",
   "metadata": {},
   "source": [
    "---\n",
    "## 問題5:正方形\n",
    "\n",
    "寫一個程式能夠印出用`*`構成的正方形\n",
    ">`* * * *`<br>\n",
    ">`*     *`<br>\n",
    ">`*     *`<br>\n",
    ">`* * * *`<br>\n",
    "---\n",
    "## 問題6:行\n",
    "以下程式會印出幾行?"
   ]
  },
  {
   "cell_type": "code",
   "execution_count": null,
   "metadata": {},
   "outputs": [],
   "source": [
    "print()\n",
    "print(\"Monday\")\n",
    "print(\"Tuesday Wednesday\")\n",
    "print()\n",
    "print(\"Thursday\")"
   ]
  },
  {
   "cell_type": "markdown",
   "metadata": {},
   "source": [
    "---\n",
    "## 問題7:我們需要學習Python\n",
    "寫個程式印出下方文本格式輸出:\n",
    ">WE NEED<br>\n",
    "> <br>\n",
    ">TO LEARN PYTHON<br>\n",
    "> <br>\n",
    ">AS QUICKLY AS POSSIBLE<br>\n"
   ]
  },
  {
   "cell_type": "code",
   "execution_count": 23,
   "metadata": {},
   "outputs": [
    {
     "name": "stdout",
     "output_type": "stream",
     "text": [
      "WE NEED\n",
      "\n",
      "TO LEARN PYTHON\n",
      "\n",
      "AS QUICKLY AS POSSIBLE\n"
     ]
    }
   ],
   "source": [
    "#單行寫法\n",
    "print('WE NEED\\n\\nTO LEARN PYTHON\\n\\nAS QUICKLY AS POSSIBLE')"
   ]
  },
  {
   "cell_type": "code",
   "execution_count": null,
   "metadata": {},
   "outputs": [],
   "source": []
  }
 ],
 "metadata": {
  "kernelspec": {
   "display_name": "Python 3",
   "language": "python",
   "name": "python3"
  },
  "language_info": {
   "codemirror_mode": {
    "name": "ipython",
    "version": 3
   },
   "file_extension": ".py",
   "mimetype": "text/x-python",
   "name": "python",
   "nbconvert_exporter": "python",
   "pygments_lexer": "ipython3",
   "version": "3.7.0"
  }
 },
 "nbformat": 4,
 "nbformat_minor": 2
}
=======
{
 "cells": [
  {
   "cell_type": "markdown",
   "metadata": {},
   "source": [
    "# 多行程式\n",
    "\n",
    "Theory: Multi-line programs\n",
    "\n",
    "\n",
    "我們希望您已經掌握如何編寫簡單的Python單行程式來打印一行文本。 但實際程式包含很多行：從小型腳本的數十行到數百行，到大型專案的數千行甚至更多行。 因此在本課程中，您將設計印出多行的程式。\n",
    "\n",
    "We hope you have already learned how to write simple Python programs consisting of a single line that just prints a text. However, real programs contain a significant number of lines: from tens and hundreds for small scripts to thousands and even more for large projects. So, in this lesson, you will write programs that print multiple lines.\n",
    "\n",
    "以下程式碼精確地打印了三個字串，每個字串都從一個新行開始：\n",
    "\n",
    "Let's consider an example, the following code prints exactly three strings, each from a new line:\n",
    "\n"
   ]
  },
  {
   "cell_type": "code",
   "execution_count": null,
   "metadata": {},
   "outputs": [],
   "source": [
    "print(\"I\")\n",
    "print(\"know\")\n",
    "print(\"Python\")"
   ]
  },
  {
   "cell_type": "markdown",
   "metadata": {},
   "source": [
    "輸出為\n",
    "\n",
    "The output is:\n",
    "\n",
    ">I<br>\n",
    ">know<br>\n",
    ">Python"
   ]
  },
  {
   "cell_type": "markdown",
   "metadata": {},
   "source": [
    "如果您已經在計算機上安裝了python，可以在此處或者本地python上執行此程式。\n",
    "\n",
    "You can run this example here or locally if you have already installed Python on your computer.\n",
    "\n",
    "其實有其他方法透過一個print函數來印出多行文本，我們將會在後續單元討論。\n",
    "\n",
    "There are other ways to print the same text using just one function call. We will consider them in the next topics.\n",
    "\n",
    "`print`函數允許你輸出未指定字串的空白行:\n",
    "\n",
    "The print function also allows you to print an empty line with no string specified:"
   ]
  },
  {
   "cell_type": "code",
   "execution_count": null,
   "metadata": {},
   "outputs": [],
   "source": [
    "print(\"I\")\n",
    "print()\n",
    "print(\"know\")\n",
    "print()\n",
    "print(\"Python\")"
   ]
  },
  {
   "cell_type": "markdown",
   "metadata": {},
   "source": [
    "輸出結果變為\n",
    "\n",
    "Here's the output:\n",
    "\n",
    ">I\n",
    ">\n",
    ">know\n",
    ">\n",
    ">Python\n",
    "\n",
    "現在該開始解決一些問題了。\n",
    "\n",
    "Now it's time to solve some problems.\n",
    "\n",
    "---\n",
    "## 問題1:細微差別\n",
    "請問以下程式碼輸出了什麼?\n"
   ]
  },
  {
   "cell_type": "code",
   "execution_count": 3,
   "metadata": {},
   "outputs": [
    {
     "name": "stdout",
     "output_type": "stream",
     "text": [
      "1\n",
      "\n",
      "b\n",
      "3\n"
     ]
    }
   ],
   "source": [
    "print('1')\n",
    "print()\n",
    "print('b')\n",
    "\n",
    "print('3')  "
   ]
  },
  {
   "cell_type": "markdown",
   "metadata": {},
   "source": [
    ">a)<br>\n",
    ">1\n",
    "> \n",
    ">b\n",
    "> \n",
    ">3\n",
    "\n",
    "---\n",
    ">b)<br>\n",
    ">1<br>\n",
    ">b<br>\n",
    ">3<br>\n",
    "\n",
    "---\n",
    ">c)<br>\n",
    ">1<br>\n",
    "><br> \n",
    ">b<br>\n",
    ">3<br>\n",
    "\n",
    "---\n",
    ">d)<br>\n",
    ">1b<br>\n",
    ">3<br>\n"
   ]
  },
  {
   "cell_type": "markdown",
   "metadata": {},
   "source": [
    "---\n",
    "## 問題2:數空白\n",
    "請問有多少個**空白行**出現在以下程式印出的結果中?"
   ]
  },
  {
   "cell_type": "code",
   "execution_count": 22,
   "metadata": {},
   "outputs": [
    {
     "name": "stdout",
     "output_type": "stream",
     "text": [
      "hello\n",
      "\n",
      "\n",
      "bye\n"
     ]
    }
   ],
   "source": [
    "print(\"hello\")\n",
    "print(\"\")\n",
    "print()\n",
    " \n",
    "print(\"bye\")"
   ]
  },
  {
   "cell_type": "markdown",
   "metadata": {},
   "source": [
    "---\n",
    "## 問題3:First, second, third \n",
    "寫一個程式印出以下三行結果：\n",
    ">first<br>\n",
    ">second<br>\n",
    ">third<br>\n"
   ]
  },
  {
   "cell_type": "code",
   "execution_count": 9,
   "metadata": {},
   "outputs": [
    {
     "name": "stdout",
     "output_type": "stream",
     "text": [
      "first\n",
      "second\n",
      "third\n"
     ]
    }
   ],
   "source": [
    "print(\"first\")\n",
    "print(\"second\")\n",
    "\n",
    "print(\"third\")\n"
   ]
  },
  {
   "cell_type": "markdown",
   "metadata": {},
   "source": [
    "---\n",
    "## 問題4:井字遊戲\n",
    "寫一個程式能夠印出下方的井字遊戲樣式\n",
    ">O X X<br>\n",
    ">O X O<br>\n",
    ">X O X<br>"
   ]
  },
  {
   "cell_type": "code",
   "execution_count": 12,
   "metadata": {},
   "outputs": [
    {
     "name": "stdout",
     "output_type": "stream",
     "text": [
      "O X X\n",
      "O X O\n",
      "X O X\n"
     ]
    }
   ],
   "source": [
    "print(\"O X X\")\n",
    "print(\"O X O\")\n",
    "print(\"X O X\")"
   ]
  },
  {
   "cell_type": "markdown",
   "metadata": {},
   "source": [
    "---\n",
    "## 問題5:正方形\n",
    "\n",
    "寫一個程式能夠印出用`*`構成的正方形\n",
    ">`* * * *`<br>\n",
    ">`*     *`<br>\n",
    ">`*     *`<br>\n",
    ">`* * * *`<br>\n",
    "---\n",
    "## 問題6:行\n",
    "以下程式會印出幾行?"
   ]
  },
  {
   "cell_type": "code",
   "execution_count": null,
   "metadata": {},
   "outputs": [],
   "source": [
    "print()\n",
    "print(\"Monday\")\n",
    "print(\"Tuesday Wednesday\")\n",
    "print()\n",
    "print(\"Thursday\")"
   ]
  },
  {
   "cell_type": "markdown",
   "metadata": {},
   "source": [
    "---\n",
    "## 問題7:我們需要學習Python\n",
    "寫個程式印出下方文本格式輸出:\n",
    ">WE NEED<br>\n",
    "> <br>\n",
    ">TO LEARN PYTHON<br>\n",
    "> <br>\n",
    ">AS QUICKLY AS POSSIBLE<br>\n"
   ]
  },
  {
   "cell_type": "code",
   "execution_count": 23,
   "metadata": {},
   "outputs": [
    {
     "name": "stdout",
     "output_type": "stream",
     "text": [
      "WE NEED\n",
      "\n",
      "TO LEARN PYTHON\n",
      "\n",
      "AS QUICKLY AS POSSIBLE\n"
     ]
    }
   ],
   "source": [
    "#單行寫法\n",
    "print('WE NEED\\n\\nTO LEARN PYTHON\\n\\nAS QUICKLY AS POSSIBLE')"
   ]
  },
  {
   "cell_type": "code",
   "execution_count": null,
   "metadata": {},
   "outputs": [],
   "source": []
  }
 ],
 "metadata": {
  "kernelspec": {
   "display_name": "Python 3",
   "language": "python",
   "name": "python3"
  },
  "language_info": {
   "codemirror_mode": {
    "name": "ipython",
    "version": 3
   },
   "file_extension": ".py",
   "mimetype": "text/x-python",
   "name": "python",
   "nbconvert_exporter": "python",
   "pygments_lexer": "ipython3",
   "version": "3.7.0"
  }
 },
 "nbformat": 4,
 "nbformat_minor": 2
}

