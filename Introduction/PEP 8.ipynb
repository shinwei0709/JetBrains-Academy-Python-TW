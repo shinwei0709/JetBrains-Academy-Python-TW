{
 "cells": [
  {
   "cell_type": "markdown",
   "metadata": {},
   "source": [
    "# 理論：PEP 8\n",
    "如何編寫乾淨易讀的程式碼？從簡單的單行程序轉換為更複雜的程序時，這就是您遇到的問題。在開始時，它似乎並不重要，但是在現實生活中，編程是一個涉及很多人一起工作的過程，因此與編寫程式碼相比，您花費更多的時間閱讀程式碼。\n",
    " \n",
    "How to write code that is clean and easy to read? That is the question that you bump into when moving from simple single-line programs to more complicated ones. In the beginning, it may seem unimportant, but in real life, programming is a process that involves a lot of people that work together,  so you spend more time reading code than writing it.\n",
    "\n",
    "儘管Python的語法極簡，通常比其他編程語言更具可讀性，但僅語法本身是不夠的。這是影響一般可讀性的程式碼編寫方式。這就是為什麼您需要遵循有關編程風格的通用規定，以便其他程序員可以輕鬆閱讀您的程式碼的原因。\n",
    "\n",
    "Although Python is often more readable than other programming languages because of its minimalistic syntax, just syntax itself is not enough. It is the way you write code that affects general readability. That is why you need to follow common conventions about programming style, so other programmers could read your code easily.\n",
    "\n",
    "您可能會問，這些規定從何而來？有一個文檔稱為PEP 8。它的關鍵思想是對所有python項目使用相同的程式碼風格，就像它們是由同一位程序員編寫的一樣。本文檔保證即使是初學者也可以輕鬆理解任何其他開發人員編寫的程式碼 \n",
    "\n",
    "You may ask, where do these conventions come from? There is a document that is called PEP 8. The key idea of it is to use the same code style for all python projects as if they were written by the same programmer. This document guarantees that even a beginner will easily understand the code, written by any other developer. \n",
    "\n",
    "## 1.PEPs\n",
    "在繼續之前，讓我們先討論一下PEP。PEP代表Python增強建議。PEP有多種類型，對於初學者來說，最有用的一種是信息型PEP。這類PEP通常描述有關該語言的公認準則或約定，因此它們可能會非常有幫助。除了PEP 8（這是官方樣式指南）之外，另一個值得關注的PEP是Python的Zen。\n",
    "\n",
    "Before going further, let’s talk about PEP for a moment. PEP stands for Python Enhancement Proposal. There are different types of PEP and the most useful one for beginners is the informational PEP. PEPs of this kind typically describe commonly accepted guidelines or conventions about the language, so they can be very helpful. Besides PEP 8, which is an official style guide, another great PEP to look at is the Zen of Python.\n",
    "\n",
    "既然我們知道PEP 8是什麼，讓我們從中讀一點。\n",
    "\n",
    "Since we know, what PEP 8 is, let’s read a bit from it.\n",
    "\n",
    "## 2.線長\n",
    "在一行代碼中不要使用超過79個字符。較短的行在程式碼編輯器中看起來更好。在本課程中，我們將學習幾種實現方法。\n",
    "\n",
    "Do not use more than 79 characters in a line of code. Shorter lines look better in code editors. During this course, we will learn several ways to achieve it.\n",
    "\n",
    "## 3.避免多餘的空間\n",
    "有時候，即使您確實不需要，也可以添加一些空格。但是會降低程式碼的可讀性\n",
    "\n",
    "Sometimes you may add some spaces even if you don't really need it. This will reduce the readability of your code.\n",
    "\n",
    "避免在括號內使用多餘的空格。\n",
    "\n",
    "Avoid extra spaces within parentheses.\n",
    "\n"
   ]
  },
  {
   "cell_type": "markdown",
   "metadata": {},
   "source": [
    "###### 正確範例\n",
    "Good:"
   ]
  },
  {
   "cell_type": "code",
   "execution_count": 1,
   "metadata": {},
   "outputs": [
    {
     "name": "stdout",
     "output_type": "stream",
     "text": [
      "Hello!\n"
     ]
    }
   ],
   "source": [
    "print('Hello!')"
   ]
  },
  {
   "cell_type": "code",
   "execution_count": 5,
   "metadata": {},
   "outputs": [
    {
     "name": "stdout",
     "output_type": "stream",
     "text": [
      "some text\n"
     ]
    }
   ],
   "source": [
    "print('some text')"
   ]
  },
  {
   "cell_type": "markdown",
   "metadata": {},
   "source": [
    "###### 錯誤範例\n",
    "Bad:"
   ]
  },
  {
   "cell_type": "code",
   "execution_count": 2,
   "metadata": {},
   "outputs": [
    {
     "name": "stdout",
     "output_type": "stream",
     "text": [
      "Hello!\n"
     ]
    }
   ],
   "source": [
    "print( 'Hello!' )"
   ]
  },
  {
   "cell_type": "code",
   "execution_count": 6,
   "metadata": {},
   "outputs": [
    {
     "name": "stdout",
     "output_type": "stream",
     "text": [
      "some text\n"
     ]
    }
   ],
   "source": [
    "print ('some text')"
   ]
  },
  {
   "cell_type": "markdown",
   "metadata": {},
   "source": [
    "## 4.引號\n",
    "如前面所述，您可以使用單引號或雙引號來定義字符串。請選擇最喜歡的程式碼，並在程式碼中始終使用它。PEP 8中的唯一建議是，如果字符串包含單引號或雙引號，則應使用另一個引號來避免反斜杠。\n",
    "\n",
    "As it was already mentioned, you can use either single or double quotes to define strings. Please, choose one that you like the most and consistently use it in your code. The only recommendation in PEP 8 is that if a string contains single or double quotes, you should use the other one to avoid backslashes."
   ]
  },
  {
   "cell_type": "markdown",
   "metadata": {},
   "source": [
    "###### 正確範例"
   ]
  },
  {
   "cell_type": "code",
   "execution_count": 3,
   "metadata": {},
   "outputs": [
    {
     "name": "stdout",
     "output_type": "stream",
     "text": [
      "It's a good string!\n"
     ]
    }
   ],
   "source": [
    "print(\"It's a good string!\")"
   ]
  },
  {
   "cell_type": "markdown",
   "metadata": {},
   "source": [
    "###### 錯誤範例"
   ]
  },
  {
   "cell_type": "code",
   "execution_count": 4,
   "metadata": {},
   "outputs": [
    {
     "name": "stdout",
     "output_type": "stream",
     "text": [
      "It's a bad string!\n"
     ]
    }
   ],
   "source": [
    "print('It\\'s a bad string!')"
   ]
  },
  {
   "cell_type": "markdown",
   "metadata": {},
   "source": [
    " "
   ]
  },
  {
   "cell_type": "markdown",
   "metadata": {},
   "source": [
    " "
   ]
  },
  {
   "cell_type": "code",
   "execution_count": null,
   "metadata": {},
   "outputs": [],
   "source": []
  }
 ],
 "metadata": {
  "kernelspec": {
   "display_name": "Python 3",
   "language": "python",
   "name": "python3"
  },
  "language_info": {
   "codemirror_mode": {
    "name": "ipython",
    "version": 3
   },
   "file_extension": ".py",
   "mimetype": "text/x-python",
   "name": "python",
   "nbconvert_exporter": "python",
   "pygments_lexer": "ipython3",
   "version": "3.7.4"
  }
 },
 "nbformat": 4,
 "nbformat_minor": 2
}
