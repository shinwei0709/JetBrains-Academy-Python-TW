{
 "cells": [
  {
   "cell_type": "markdown",
   "metadata": {},
   "source": [
    "# Invoking a function 呼叫一個函式\n"
   ]
  },
  {
   "cell_type": "markdown",
   "metadata": {},
   "source": [
    "即使在Python中呼叫函式與鑄造咒語等無關，它有時也會運作。讓我們從概念開始。基本上，一個函式是一個結構化的程式碼片段，我們可能希望在多個地方多次使用。另一方面，函式使我們能夠更好地讀取我們的程式碼和其他人的程式碼。他們還不是您的最愛嗎？\n",
    "\n",
    "這是一個簡單的函數呼叫：\n",
    "\n",
    "multiply(1,7)\n",
    "\n",
    "這裡 multiply 是函式的名稱，括號（1、7）中的數字是其參數。什麼是參數？好吧，這只是一個值，將在函式內被使用。讓我們更進一步吧！"
   ]
  },
  {
   "cell_type": "markdown",
   "metadata": {},
   "source": [
    "Even though invoking functions in Python is not about casting a spell or the like, it does sometimes work wonders. Let's start with the concept. Basically, a function is a structured fragment of code we may want to use in more than one place and more than one time. For another thing, functions allow us to read both our code and that of someone else way better. Haven't they become your favorite yet?\n",
    "\n",
    "Here is a simple function call:\n",
    "\n",
    "multiply(1, 7)\n",
    "\n",
    "Here multiply is the name of the function, and numbers in parentheses (1, 7) are its arguments. What is an argument? Well, it's just a value, that will be used inside the body of the function. Let's go deeper into it!"
   ]
  },
  {
   "cell_type": "markdown",
   "metadata": {},
   "source": [
    "## 1.Invoking print()"
   ]
  },
  {
   "cell_type": "markdown",
   "metadata": {},
   "source": [
    "要呼叫或調用程式中的函式，只需編寫其名稱並在其後添加括號。這就是全部！有趣的事實是-如果您曾經輸入過像 print（“ Hello，world！”），您已經對函式有所了解。但是，在這個小例子中，我們看到在 print 函式的名字之後的括號內的 “ Hello，world！”。這是什麼意思？該字符串只是一個參數。而且函式確實經常有參數。至於 print 函式，我們也可以不帶任何參數甚至使用多個參數來使用它："
   ]
  },
  {
   "cell_type": "code",
   "execution_count": null,
   "metadata": {},
   "outputs": [],
   "source": [
    "print(\"Hello, world!\")\n",
    "print()\n",
    "print(\"Bye,\", \"then!\")"
   ]
  },
  {
   "cell_type": "markdown",
   "metadata": {},
   "source": [
    "然後這是他的輸出："
   ]
  },
  {
   "cell_type": "markdown",
   "metadata": {},
   "source": [
    "Hello, world!\n",
    " \n",
    "Bye, then!"
   ]
  },
  {
   "cell_type": "markdown",
   "metadata": {},
   "source": [
    "因此，第一個呼叫將印一個字符串，第二個不帶參數的 print 呼叫實際上將印空行，最後一個呼叫將兩個消息作為一個表達式輸出。您對這些結果感到驚訝嗎？然後，您可以從[這邊](https://docs.python.org/3/library/functions.html#print)中詳細了解 print 功能的工作方式。 Python 文檔包含有關您感興趣的功能的各種訊息，例如，期望使用的參數。"
   ]
  },
  {
   "cell_type": "markdown",
   "metadata": {},
   "source": [
    "To call, or invoke, a function in your program, simply write its name and add parentheses after it. That's all it takes! Fun fact - if you've ever typed an expression like this print(\"Hello, world!\"), you already know a little about functions. In this tiny example, however, we see the message \"Hello, world!\" in the parentheses after the name of the print function. What does it mean? This string is just an argument. And more often than not, functions do have arguments. As for the print function, we may as well use it with no argument at all or even with multiple arguments:"
   ]
  },
  {
   "cell_type": "code",
   "execution_count": null,
   "metadata": {},
   "outputs": [],
   "source": [
    "print(\"Hello, world!\")\n",
    "print()\n",
    "print(\"Bye,\", \"then!\")"
   ]
  },
  {
   "cell_type": "markdown",
   "metadata": {},
   "source": [
    "And here is the output:"
   ]
  },
  {
   "cell_type": "markdown",
   "metadata": {},
   "source": [
    "Hello, world!\n",
    " \n",
    "Bye, then!"
   ]
  },
  {
   "cell_type": "markdown",
   "metadata": {},
   "source": [
    "So, the first call prints one string, the second call of print without arguments prints, in fact, an empty line, and the last call outputs our two messages as one expression. Are you surprised by these results? Then you may learn how the print function works in more detail from its [documentation](https://docs.python.org/3/library/functions.html#print). The Python documentation contains all sorts of information about the function of your interest, for example, which arguments it expects."
   ]
  },
  {
   "cell_type": "markdown",
   "metadata": {},
   "source": [
    "## 2.Built-in functions"
   ]
  },
  {
   "cell_type": "markdown",
   "metadata": {},
   "source": [
    "只要人們意識到函式的存在，就能使生活更輕鬆。已經編寫了許多算法，因此除了出於教育目的之外，無需進行重新發明。Python 直釋器內置了許多功能和類型，因此它們始終可用。當前，內置函數的數量為 69（在最新版本的Python 3.8中）。其中一些用於轉換對像類型，例如，str（）返回一個字符串，int（）返回一個整數，float（）返回一個浮點數。其他則處理數字：您可以對它們進行 round() 和 sum()，找到最小的 min（）或最大的 max（）。還有一些給我們有關對象的信息：它的 type（）或 len（）長度。考慮它們的作用："
   ]
  },
  {
   "cell_type": "markdown",
   "metadata": {},
   "source": [
    "Functions can make life easier, provided one is aware of their existence. Many algorithms are already written, so there is no need for reinvention, except perhaps for educational purposes. The Python interpreter has a number of functions and types built into it, so they are always available. Currently, the number of built-in functions amounts to 69 (in the latest version Python 3.8). Some of them are used to convert the object type, for example, str() returns a string, int() returns an integer, float() returns a floating-point number. Others deal with numbers: you can round() them and sum() them, find the minimum min() or the maximum max(). Still others give us information about the object: its type() or length len(). Consider them in action:"
   ]
  },
  {
   "cell_type": "code",
   "execution_count": null,
   "metadata": {},
   "outputs": [],
   "source": [
    "number = \"111\"\n",
    " \n",
    "# finding the length of an object\n",
    "print(len(number))  # 3\n",
    " \n",
    "# converting types\n",
    "integer = int(number)\n",
    "float_number = float(number)\n",
    "print(str(float_number))  # \"111.0\"\n",
    " \n",
    "# adding and rounding numbers\n",
    "my_sum = sum((integer, float_number))\n",
    "print(my_sum)  # 222.0\n",
    "print(round(my_sum))  # 222\n",
    " \n",
    "# finding the minimum and the maximum\n",
    "print(min(integer, float_number))  # 111\n",
    "print(type(max(integer, float_number, my_sum)))  # <class 'float'>"
   ]
  },
  {
   "cell_type": "markdown",
   "metadata": {},
   "source": [
    "在我們的示例中，表明 len（）計算字符串中的字符數（任何序列都一樣）。然後，我們宣告變數 integer 和 float_number 並將其總和寫入 my_sum。順便說一句，sum（）函式還處理序列。結果是一個浮點數，該浮點數在印 my_sum 之後變得清楚。此外，您還可以看到如何找到最小值和最大值：最小數等於111，最大數 222.0 屬於 floats。還有更多值得探索的地方，但讓我們總結一下。"
   ]
  },
  {
   "cell_type": "markdown",
   "metadata": {},
   "source": [
    "In our example, it is shown that len() counts the number of characters in the string (the same goes for any sequence). Then we declare the variables integer and float_number and write their sum into my_sum. By the way, the sum() function also deals with sequences. The result is a floating-point number, which becomes clear after printing my_sum. Furthermore, you can see how to find the minimum and maximum values: the smallest number equals 111 and the largest number 222.0 belongs to floats . There is far more to explore, but let's sum it up."
   ]
  },
  {
   "cell_type": "markdown",
   "metadata": {},
   "source": [
    "## 3.Recap"
   ]
  },
  {
   "cell_type": "markdown",
   "metadata": {},
   "source": [
    "函式的優點在於，我們可以在不了解其內部結構以及它們如何執行所需功能的情況下使用它們。但是，如果您想充分利用某個函式，請確保檢查其文檔或嘗試調用特殊函式 help（）並將相關函式的名稱括在方括號中。例如，如果函式不返回任何值，將處理後的數據寫入文件或在螢幕上印輸出，可能有必要。"
   ]
  },
  {
   "cell_type": "markdown",
   "metadata": {},
   "source": [
    "The beauty of functions is that we can use them without clear insight into their inner structure and how they manage to perform what we need. But if you want to put a function to good use, make sure to check its documentation or try invoking the special function help() with the name of the function in question wrapped in round brackets. It may become necessary if, for example, the function does not return any value, writes processed data to a file or prints the output on the screen."
   ]
  },
  {
   "cell_type": "markdown",
   "metadata": {},
   "source": [
    "我們做個簡短的總結：\n",
    "\n",
    "- 函式是可重複使用的，這意味著我們可以自由地使用不同的參數多次應用它，\n",
    "- 要呼叫函式，請在函式名稱前寫上括號並在其中放入參數，\n",
    "- 通常，函式具有文檔，有時可能會對文檔有很大幫助。"
   ]
  },
  {
   "cell_type": "markdown",
   "metadata": {},
   "source": [
    "Let's make a brief summary:\n",
    "- functions are meant to be reusable, which means we are free to apply it multiple times with different arguments,\n",
    "- to call a function write its name followed by parentheses and place the arguments within,\n",
    "- normally, a function has documentation, which sometimes might be of huge help."
   ]
  }
 ],
 "metadata": {
  "kernelspec": {
   "display_name": "Python 3",
   "language": "python",
   "name": "python3"
  },
  "language_info": {
   "codemirror_mode": {
    "name": "ipython",
    "version": 3
   },
   "file_extension": ".py",
   "mimetype": "text/x-python",
   "name": "python",
   "nbconvert_exporter": "python",
   "pygments_lexer": "ipython3",
   "version": "3.5.5"
  }
 },
 "nbformat": 4,
 "nbformat_minor": 2
}
