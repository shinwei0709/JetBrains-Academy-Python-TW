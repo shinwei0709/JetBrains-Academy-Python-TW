{
 "cells": [
  {
   "cell_type": "markdown",
   "metadata": {},
   "source": [
    "# Theory: List comprehension"
   ]
  },
  {
   "cell_type": "markdown",
   "metadata": {},
   "source": [
    "列表理解是製作新列表的一種方法。它允許您以簡潔有效的方式從任何可迭代對象創建列表。請參見下面的基本語法："
   ]
  },
  {
   "cell_type": "markdown",
   "metadata": {},
   "source": [
    "List comprehension is a way of making new lists. It allows you to create a list from any iterable object in a concise and efficient manner. See the basic syntax below:"
   ]
  },
  {
   "cell_type": "code",
   "execution_count": null,
   "metadata": {},
   "outputs": [],
   "source": [
    "# list comprehension syntax\n",
    "new_list = [x for x in some_iterable]"
   ]
  },
  {
   "cell_type": "markdown",
   "metadata": {},
   "source": [
    "這裡您可以看到列表理解是由方括號指定的（就像列表本身一樣），在方括號內有一些可迭代對象的 for 循環。在我們的示例中，new_list 將僅包含some_iterable 對象中的所有元素。上面的代碼與下面的代碼完全等效，但是，它佔用的空間更少，並且工作速度更快！"
   ]
  },
  {
   "cell_type": "markdown",
   "metadata": {},
   "source": [
    "Here you can see that list comprehension is specified by square brackets (just like the list itself) inside which you have a for loop over some iterable object. In our example, new_list will simply consist of all elements from some_iterable object. The code above is completely equivalent to the one below, however, it takes less space and works a little bit faster!"
   ]
  },
  {
   "cell_type": "markdown",
   "metadata": {},
   "source": [
    "您可能想知道為什麼既然我們有 list（）函數，那麼根本就不需要列表理解。顯然，列表推導不僅用於將元素從某些可迭代對象複製到列表中，而且還主要用於以某種方式修改它們以創建特定的新列表。在這種情況下，我們首先將列表理解為變數的某些函式。例如，下面的代碼顯示瞭如何創建平方數列表。"
   ]
  },
  {
   "cell_type": "markdown",
   "metadata": {},
   "source": [
    "You may wonder why there is a need for list comprehensions at all since we have a list() function. Obviously, list comprehensions are used not just for copying elements from some iterable into a list, but mainly for modifying them in some way to create a specific new list. In this case, in the first place of the list comprehension, we write some function of our variable. For example, the code below shows how to create a list of squared numbers."
   ]
  },
  {
   "cell_type": "code",
   "execution_count": null,
   "metadata": {},
   "outputs": [],
   "source": [
    "# squared numbers\n",
    "numbers = [1, 2, 3]\n",
    "square_list = [x * x for x in numbers]  # [1, 4, 9]"
   ]
  },
  {
   "cell_type": "markdown",
   "metadata": {},
   "source": [
    "另外，我們可以使用列表推導將列表中的元素從一種數據類型轉換為另一種數據類型："
   ]
  },
  {
   "cell_type": "markdown",
   "metadata": {},
   "source": [
    "Also, we can use list comprehensions to convert elements of a list from one data type to another:"
   ]
  },
  {
   "cell_type": "code",
   "execution_count": 1,
   "metadata": {},
   "outputs": [],
   "source": [
    "# from string to float\n",
    "strings = [\"8.9\", \"6.0\", \"8.1\", \"7.5\"]\n",
    "floats = [float(num) for num in strings]  # [8.9, 6.0, 8.1, 7.5]"
   ]
  },
  {
   "cell_type": "markdown",
   "metadata": {},
   "source": [
    "## 1.List comprehension with if"
   ]
  },
  {
   "cell_type": "markdown",
   "metadata": {},
   "source": [
    "修改原始可迭代對象的另一種方法是將 if 語句引入列表理解中。基本語法是這樣的："
   ]
  },
  {
   "cell_type": "markdown",
   "metadata": {},
   "source": [
    "Another way to modify the original iterable object is by introducing the if statement into the list comprehension. The basic syntax is this:"
   ]
  },
  {
   "cell_type": "code",
   "execution_count": null,
   "metadata": {},
   "outputs": [],
   "source": [
    "# list comprehension with condition\n",
    "new_list = [x for x in some_iterable if condition]"
   ]
  },
  {
   "cell_type": "markdown",
   "metadata": {},
   "source": [
    "條件語句使您可以過濾原始集合的元素，並且僅使用所需的元素。 if 語句在這裡是理解語法的一部分。過濾條件不是必不可少的部分，但它可能非常有用。例如，此處用於從另一個列表創建一個奇數列表："
   ]
  },
  {
   "cell_type": "markdown",
   "metadata": {},
   "source": [
    "The conditional statement allows you to filter the elements of the original collection and work only with the elements you need. The if statement works here as a part of a comprehension syntax. The filtering condition is not an obligatory part, but it can be very useful. For instance, here it is used to create a list of odd numbers from another list:"
   ]
  },
  {
   "cell_type": "code",
   "execution_count": null,
   "metadata": {},
   "outputs": [],
   "source": [
    "# odd numbers\n",
    "numbers = [4, 8, 15, 16, 23, 42, 108]\n",
    "odd_list = [x for x in numbers if x % 2 == 1] # [15, 23]"
   ]
  },
  {
   "cell_type": "markdown",
   "metadata": {},
   "source": [
    "您也可以使用標準方法來修改條件。例如，如果要創建一個以-tion結尾的單詞列表，可以這樣進行："
   ]
  },
  {
   "cell_type": "markdown",
   "metadata": {},
   "source": [
    "You can also modify the condition by using standard methods. For instance, if you want to create a list of words that end in -tion, you can do it like this:"
   ]
  },
  {
   "cell_type": "code",
   "execution_count": null,
   "metadata": {},
   "outputs": [],
   "source": [
    "# conditions with functions\n",
    "text = [\"function\", \"is\", \"a\", \"synonym\", \"of\", \"occupation\"]\n",
    "words_tion = [word for word in text if word.endswith(\"tion\")]\n",
    "# result: [\"function\", \"occupation\"]"
   ]
  },
  {
   "cell_type": "markdown",
   "metadata": {},
   "source": [
    "## 2.Recap"
   ]
  },
  {
   "cell_type": "markdown",
   "metadata": {},
   "source": [
    "通常，應謹慎使用列表理解：如果效率提高，則會失去可讀性。不過，它是一個非常有用的工具，我們希望您可以在程序中使用它！"
   ]
  },
  {
   "cell_type": "markdown",
   "metadata": {},
   "source": [
    "In general, list comprehension should be used with caution: where it gains in efficiency it loses in readability. Nevertheless, it is a very useful tool and we hope you'll use it in your programs! "
   ]
  }
 ],
 "metadata": {
  "kernelspec": {
   "display_name": "Python 3",
   "language": "python",
   "name": "python3"
  },
  "language_info": {
   "codemirror_mode": {
    "name": "ipython",
    "version": 3
   },
   "file_extension": ".py",
   "mimetype": "text/x-python",
   "name": "python",
   "nbconvert_exporter": "python",
   "pygments_lexer": "ipython3",
   "version": "3.5.5"
  }
 },
 "nbformat": 4,
 "nbformat_minor": 2
}
