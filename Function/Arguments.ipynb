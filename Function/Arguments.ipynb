{
 "cells": [
  {
   "cell_type": "markdown",
   "metadata": {},
   "source": [
    "# Arguments\n",
    "目前為止你已經對於函數有了不錯的了解，因為你知道如何調用和宣告它們。讓我們加深你的知識，並發現函數一些新功能。\n",
    "\n",
    "By now, you are on good terms with functions, since you know how to invoke and declare them. Let's deepen your knowledge a bit and discover some new features of functions.\n",
    "\n",
    "首先應該在專業名詞\"argument引數\" and \"parameter參數\"之間劃一條線。\n",
    "參數表示該函數接受的內容。這些名稱將出現在函數定義中。\n",
    "同時，引數是調用函數時傳遞給函數的值，我們將進一步討論參數和引數。\n",
    "\n",
    "\n",
    "\n",
    "First, a line should be drawn between the terms \"argument\" and \"parameter\". Parameters represent what a function accepts, it's those names that appear in the function definition. Meanwhile, arguments are the values we pass to a function when calling it. We'll cover both arguments and parameters further.\n",
    "\n",
    "## 1.Positional arguments\n",
    "\n",
    " 將引數分配給函數有很多種方法。首先你可以僅按位置進行操作，在這種情況下，數值將與從我到又傳遞到函數的順序香關聯這樣的引數稱為位置型、非關鍵字型引數 。"
   ]
  },
  {
   "cell_type": "code",
   "execution_count": 2,
   "metadata": {},
   "outputs": [
    {
     "name": "stdout",
     "output_type": "stream",
     "text": [
      "7\n",
      "-7\n"
     ]
    }
   ],
   "source": [
    "def subtract(x, y):\n",
    "    return x - y\n",
    " \n",
    " \n",
    "print(subtract(11, 4))  # 7\n",
    "print(subtract(4, 11))  # -7"
   ]
  },
  {
   "cell_type": "markdown",
   "metadata": {},
   "source": [
    "在第二個函數中調換數字時，得到了不同的結果，你可以看到順序決定了引數的分配方式。\n",
    "\n",
    "When we swapped the numbers in the second function call, we got a different result. Thus, you can see that the order determines how arguments are assigned."
   ]
  },
  {
   "cell_type": "markdown",
   "metadata": {},
   "source": [
    "## 2.Named arguments\n",
    "\n",
    "分配引數的另一種方式是按照名稱，有時您可能想控制傳遞值的順序。那就是命名或者關鍵字引數起作用的地方。\n",
    "\n",
    "Another way to assign arguments is by name. Sometimes you might want to control the order of passed values. That's where named, or keyword, arguments come into play."
   ]
  },
  {
   "cell_type": "code",
   "execution_count": 9,
   "metadata": {},
   "outputs": [
    {
     "name": "stdout",
     "output_type": "stream",
     "text": [
      "Hello, Willy Wonka\n",
      "Hello, Willy Wonka\n"
     ]
    }
   ],
   "source": [
    "def greet(name, surname):\n",
    "    print(\"Hello,\", name, surname)\n",
    " \n",
    " \n",
    "# Non-keyword arguments\n",
    "greet(\"Willy\", \"Wonka\")               # Hello, Willy Wonka\n",
    " \n",
    "# Keyword arguments\n",
    "greet(surname=\"Wonka\", name=\"Willy\")  # Hello, Willy Wonka"
   ]
  },
  {
   "cell_type": "markdown",
   "metadata": {},
   "source": [
    "這裡的順序無關緊要，因為參數是按照名稱去匹配。但是在調用函數時，關鍵字引數總是寫在非關鍵字之後。\n",
    "\n",
    "The order doesn't matter here since parameters are matched by name. However, keyword arguments are always written after non-keyword arguments when you call a function:\n"
   ]
  },
  {
   "cell_type": "code",
   "execution_count": 5,
   "metadata": {},
   "outputs": [
    {
     "ename": "SyntaxError",
     "evalue": "positional argument follows keyword argument (<ipython-input-5-9ad497669cf3>, line 2)",
     "output_type": "error",
     "traceback": [
      "\u001b[1;36m  File \u001b[1;32m\"<ipython-input-5-9ad497669cf3>\"\u001b[1;36m, line \u001b[1;32m2\u001b[0m\n\u001b[1;33m    greet(name=\"Frodo\", \"Baggins\")     # SyntaxError: positional argument follows keyword argument\u001b[0m\n\u001b[1;37m                       ^\u001b[0m\n\u001b[1;31mSyntaxError\u001b[0m\u001b[1;31m:\u001b[0m positional argument follows keyword argument\n"
     ]
    }
   ],
   "source": [
    "greet(\"Frodo\", surname=\"Baggins\")  # Hello, Frodo Baggins\n",
    "greet(name=\"Frodo\", \"Baggins\")     # SyntaxError: positional argument follows keyword argument"
   ]
  },
  {
   "cell_type": "markdown",
   "metadata": {},
   "source": [
    "請確保提及每個參數一次。要理解為什麼這很重要，讓我們考慮下每次調用函數時會發生什麼。\n",
    "實際上，引數已經被初始化以便讓所有具有值的函數從頭開始運作。\n",
    "你不能兩次初始化引數，因為如果已經傳遞了值給某個參數將其關聯，你再次為該名稱的參數分配另一個值將會失敗\n",
    "\n",
    "\n",
    "Make sure to mention each parameter once. To understand why this is important, let's think about what happens every time we call a function. In fact, arguments are initialized so that all operations with the values in this function start from scratch. You cannot initialize an argument twice, so if a value has already been passed and associated with some parameter, attempts to assign another value to this name will fail."
   ]
  },
  {
   "cell_type": "code",
   "execution_count": null,
   "metadata": {},
   "outputs": [],
   "source": [
    "def greet(name, surname):\n",
    "    print(\"Hello,\", name, surname)\n",
    " \n",
    " \n",
    "greet(\"Clementine\", name=\"Rose\")\n",
    "# TypeError: greet() got multiple values for argument 'name'"
   ]
  },
  {
   "cell_type": "markdown",
   "metadata": {},
   "source": [
    "如範例中所示，同名稱多個值或導致錯誤，現在讓我們繼續下一部份並討論參數。\n",
    "\n",
    "As shown in the example, multiple values for the same name cause an error. Now, let's proceed to the next part and discuss parameters.\n",
    "\n",
    "\n",
    "\n",
    "## 3.Defaults\n",
    "\n",
    "默認值參數被指定在函數中定義，並包含函數的默認值，以防未在函數調用中傳遞它們，看以下程式碼。\n",
    "\n",
    "Default parameters are specified in a function definition and contain default values for arguments in case they are not passed in the function call. Have a look at this code:"
   ]
  },
  {
   "cell_type": "code",
   "execution_count": 7,
   "metadata": {},
   "outputs": [
    {
     "name": "stdout",
     "output_type": "stream",
     "text": [
      "Berlin on Earth\n",
      "Breakfast on Pluto\n",
      "Craters on Mercury\n"
     ]
    }
   ],
   "source": [
    "def locate(place, planet=\"Earth\"):\n",
    "    print(place, \"on\", planet)\n",
    " \n",
    " \n",
    "locate(\"Berlin\")  # Berlin on Earth\n",
    "locate(\"Breakfast\", planet=\"Pluto\")  # Breakfast on Pluto\n",
    "locate(\"Craters\", \"Mercury\")  # Craters on Mercury"
   ]
  },
  {
   "cell_type": "markdown",
   "metadata": {},
   "source": [
    "參數的默認值是在某種程度上是可以選擇的，你可以根據預設值在函數的調用中省越這些引數，\n",
    "如上範例所示大多數的地方都可能在地球上。但是可以通過名稱或者位置將新值賦予給它們。調用此類函數時，\n",
    "請先放置非默認函數，然後再放置具有默認值的函數。\n",
    "\n",
    "Parameters with default values are optional in some way. You can omit these arguments in the function call relying on preset values. As in the example above, most of the places we might want to find are highly likely to be on Earth. However, new values can be assigned to them either by name or by position. When you call such a function, place non-default arguments first and then those with default values.\n",
    "\n",
    "## 4.PEP time\n",
    "\n",
    "再看一次本主題中顯示已宣告的函數和函數調用，例如def locate(place, planet=\"Earth\"): ... or greet(name=\"Willy\", surname=\"Wonka\"). \n",
    "\n",
    "你是否注意到等號周圍缺少空格? 它們的缺席並非偶然。根據PEP8公約，在指示的關鍵字參數，請勿在=周圍放置空格。默認參數也是如此\n",
    "\n",
    "Look at the declared functions and function calls shown in this topic one more time, e.g. def locate(place, planet=\"Earth\"): ... or greet(name=\"Willy\", surname=\"Wonka\"). Have you noticed missing spaces around the equality sign? Their absence is not accidental. By PEP 8 convention, you should not put spaces around = when indicating a keyword argument. The same is true for default parameters.\n",
    "\n",
    "但是在註釋引數和設置默認值時，此規則會有偏差。在學習函數註釋之前可以安全的省略等號周圍的空格。\n",
    "\n",
    "Yet this rule has deviations when you are annotating arguments along with setting default values. But before you learn about function annotations, you can safely omit spaces around the equality sign.\n",
    "\n",
    "## 5.Conclusions\n",
    "\n",
    "現在，當我們已經討論了函數的一些高級功能，讓我們總結一下:\n",
    "\n",
    "+ 引數和參數是有區別的\n",
    "+ 你可以按照位置和名稱將引數傳遞給函數\n",
    "+ Python中函數非常靈活，你可以使用他在調用中傳遞更少的引數。\n",
    "+ 宣告參數的順序以及傳遞引數給函數的順序也非常重要，\n",
    "\n",
    "\n",
    "Now, when we've discussed some advanced features of functions, let's sum it up:\n",
    "+ There's a distinction between parameters and arguments.\n",
    "+ You can pass arguments to a function by position and by name.\n",
    "+ Functions in Python can be quite flexible, which you can use to pass fewer arguments in a call (thanks to default values).\n",
    "+ The order of declared parameters is important, as well as the order of arguments passed into a function.\n"
   ]
  },
  {
   "cell_type": "code",
   "execution_count": null,
   "metadata": {},
   "outputs": [],
   "source": []
  },
  {
   "cell_type": "code",
   "execution_count": null,
   "metadata": {},
   "outputs": [],
   "source": []
  }
 ],
 "metadata": {
  "kernelspec": {
   "display_name": "Python 3",
   "language": "python",
   "name": "python3"
  },
  "language_info": {
   "codemirror_mode": {
    "name": "ipython",
    "version": 3
   },
   "file_extension": ".py",
   "mimetype": "text/x-python",
   "name": "python",
   "nbconvert_exporter": "python",
   "pygments_lexer": "ipython3",
   "version": "3.7.0"
  }
 },
 "nbformat": 4,
 "nbformat_minor": 2
}
