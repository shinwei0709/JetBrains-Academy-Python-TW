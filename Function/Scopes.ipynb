{
 "cells": [
  {
   "cell_type": "markdown",
   "metadata": {},
   "source": [
    "# Theory: Scopes"
   ]
  },
  {
   "cell_type": "markdown",
   "metadata": {},
   "source": [
    "**作用域**是程序的一部分，通過它的名稱可以訪問某個變量。 範圍是編程中非常重要的概念，因為它定義了代碼塊中名稱的可見性。\n",
    "\n",
    "A **scope** is a part of the program where a certain variable can be reached by its name. The scope is a very important concept in programming because it defines the visibility of a name within the code block."
   ]
  },
  {
   "cell_type": "markdown",
   "metadata": {},
   "source": [
    "##  &sect;1. Global vs. Local"
   ]
  },
  {
   "cell_type": "markdown",
   "metadata": {},
   "source": [
    "定義變量時，它變為**全局變量**或**局部變量**。 如果在模塊的頂層定義了變量，則將其視為全局變量。 這意味著您可以在程序中的每個代碼塊中引用此變量。 當您需要在不同功能之間共享狀態或某些配置時，全局變量會很有用。 例如，您可以將當前用戶的名稱存儲在全局變量中，然後在需要時使用它。 它使您的代碼更易於更改-要設置新的用戶名，您只需更改一個變量即可。\n",
    "\n",
    "在函數主體中定義局部變量時會創建它們。 因此，其名稱只能在當前函數的作用域內解析。 它使您避免使用全局變量時可能發生的副作用問題。\n",
    "\n",
    "考慮示例以查看全局變量和局部變量之間的區別：\n",
    "\n",
    "When you define a variable it becomes either **global** or **local**. If a variable is defined at the top-level of the module it is considered global. That means that you can refer to this variable from every code block in your program. Global variables can be useful when you need to share state or some configuration between different functions. For example, you can store the name of a current user in a global variable and then use it where needed. It makes your code easier to change - in order to set a new user name you will only have to change a single variable.\n",
    "\n",
    "Local variables are created when you define them in the body of a function. So its name can only be resolved inside the current function's scope. It lets you avoid issues with side-effects that may happen when using global variables.\n",
    "\n",
    "Consider the example to see the difference between global and local variables:"
   ]
  },
  {
   "cell_type": "code",
   "execution_count": null,
   "metadata": {},
   "outputs": [],
   "source": [
    "phrase = \"Let it be\"\n",
    " \n",
    "def global_printer():\n",
    "    print(phrase)  # we can use phrase because it's a global variable\n",
    " \n",
    "global_printer()  # Let it be is printed\n",
    "print(phrase)  # we can also print it directly\n",
    " \n",
    "phrase = \"Hey Jude\"\n",
    " \n",
    "global_printer()  # Hey Jude is now printed because we changed the value of phrase\n",
    " \n",
    "def printer():\n",
    "    local_phrase = \"Yesterday\"\n",
    "    print(local_phrase)  # local_phrase is a local variable\n",
    " \n",
    "printer()  # Yesterday is printed as expected\n",
    " \n",
    "print(local_phrase)  # NameError is raised"
   ]
  },
  {
   "cell_type": "markdown",
   "metadata": {},
   "source": [
    "因此，既可以從模塊的頂層也可以從函數的主體訪問全局變量。 另一方面，局部變量僅在最近的作用域內部可見，而不能從外部訪問。\n",
    "\n",
    "Thus, a global variable can be accessed both from the top-level of the module and the function's body. On the other hand, a local variable is only visible inside the nearest scope and cannot be accessed from the outside."
   ]
  },
  {
   "cell_type": "markdown",
   "metadata": {},
   "source": [
    "##  &sect;2. LEGB rule"
   ]
  },
  {
   "cell_type": "markdown",
   "metadata": {},
   "source": [
    "Python中的可變分辨率遵循LEGB規則。 這意味著解釋器按以下順序查找名稱：\n",
    "- 1.**當地人**。 在函數體內定義且未聲明為全局的變量。\n",
    "- 2.**封閉**。 從內部到外部，所有封閉函數中的局部作用域名稱。\n",
    "- 3.**全球** 名稱在模塊的頂級定義或使用global關鍵字聲明為```global```。\n",
    "- 4.**內置的** Python中的任何內置名稱。\n",
    "\n",
    "\n",
    "A variable resolution in Python follows the **LEGB rule**. That means that the interpreter looks for a name in the following order:\n",
    "\n",
    "- 1.**Locals**. Variables defined within the function body and not declared global.\n",
    "- 2.**Enclosing**. Names of the local scope in all enclosing functions from inner to outer.\n",
    "- 3.**Globals**. Names defined at the top-level of a module or declared ```global``` with a global keyword.\n",
    "- 4.**Built-in**. Any built-in name in Python.\n"
   ]
  },
  {
   "cell_type": "markdown",
   "metadata": {},
   "source": [
    "讓我們考慮一個示例來說明LEGB規則：\n",
    "\n",
    "Let's consider an example to illustrate the LEGB rule:"
   ]
  },
  {
   "cell_type": "code",
   "execution_count": null,
   "metadata": {},
   "outputs": [],
   "source": [
    "x = \"global\"\n",
    "def outer():\n",
    "    x = \"outer local\"\n",
    "    def inner():\n",
    "        x = \"inner local\"\n",
    "        def func():\n",
    "            x = \"func local\"\n",
    "            print(x)\n",
    "        func()\n",
    "    inner()\n",
    " \n",
    "outer()"
   ]
  },
  {
   "cell_type": "markdown",
   "metadata": {},
   "source": [
    "當調用```func（）```內部的```print（）```函數時，解釋器需要解析名稱x。 搜索順序如下：```func（）```locals，```inner（）```locals，```outer（）```locals，globals，內置名稱。 因此，如果我們執行上面的代碼，它將在本地打印```func```。\n",
    "\n",
    "When the ```print()``` function inside the ```func()``` is called the interpreter needs to resolve the name x. The search order will be as following: ```func()``` locals, ```inner()``` locals, ```outer()``` locals, globals, built-in names. So if we execute the code above it will print **func local**."
   ]
  },
  {
   "cell_type": "markdown",
   "metadata": {},
   "source": [
    "##  &sect;3. Keywords \"nonlocal\" and \"global\""
   ]
  },
  {
   "cell_type": "markdown",
   "metadata": {},
   "source": [
    "我們已經提到了分配全局變量的一種方法：在模塊的頂層進行定義。 但是，還有一個特殊的關鍵字global，它使我們可以在函數體內聲明變量```global```。\n",
    "\n",
    "如果不使用```global```關鍵字，則無法在函數內部更改全局變量的值：\n",
    "\n",
    "We already mentioned one way to assign a global variable: make a definition at the top-level of a module. But there is also a special keyword ```global``` that allows us to declare a variable global inside a function's body.\n",
    "\n",
    "You can't change the value of a global variable inside the function without using the ```global``` keyword:"
   ]
  },
  {
   "cell_type": "code",
   "execution_count": null,
   "metadata": {},
   "outputs": [],
   "source": [
    "x = 1\n",
    "def print_global():\n",
    "    print(x)\n",
    " \n",
    "print_global()  # 1\n",
    " \n",
    "def modify_global():\n",
    "    print(x)\n",
    "    x = x + 1\n",
    " \n",
    "modify_global()  # UnboundLocalError"
   ]
  },
  {
   "cell_type": "markdown",
   "metadata": {},
   "source": [
    "出現錯誤是因為我們試圖將包含```x```的表達式分配給局部變量```x```，並且解釋器無法在局部範圍內找到此變量。 要解決此錯誤，我們需要聲明```x``` global：\n",
    "\n",
    "An error is raised because we are trying to assign to a local variable ```x``` the expression that contains ```x``` and the interpreter can't find this variable in a local scope. To fix this error, we need to declare ```x``` global:"
   ]
  },
  {
   "cell_type": "code",
   "execution_count": null,
   "metadata": {},
   "outputs": [],
   "source": [
    "x = 1\n",
    "def global_func():\n",
    "    global x\n",
    "    print(x)\n",
    "    x = x + 1\n",
    " \n",
    "global_func()  # 1\n",
    "global_func()  # 2\n",
    "global_func()  # 3"
   ]
  },
  {
   "cell_type": "markdown",
   "metadata": {},
   "source": [
    "當```x```為全局變量時，您可以在函數內部遞增其值。\n",
    "\n",
    "```nonlocal```關鍵字使我們可以為外部（而非全局）範圍內的變量賦值：\n",
    "\n",
    "When ```x``` is global you can increment its value inside the function.\n",
    "\n",
    "```nonlocal``` keyword lets us assign to variables in the outer (but not global) scope:"
   ]
  },
  {
   "cell_type": "code",
   "execution_count": null,
   "metadata": {},
   "outputs": [],
   "source": [
    "def func():\n",
    "    x = 1\n",
    "    def inner():\n",
    "        x = 2\n",
    "        print(\"inner:\", x)\n",
    "    inner()\n",
    "    print(\"outer:\", x)\n",
    " \n",
    "def nonlocal_func():\n",
    "    x = 1\n",
    "    def inner():\n",
    "        nonlocal x\n",
    "        x = 2\n",
    "        print(\"inner:\", x)\n",
    "    inner()\n",
    "    print(\"outer:\", x)\n",
    " \n",
    "func()  # inner: 2\n",
    "        # outer: 1\n",
    " \n",
    "nonlocal_func()  # inner: 2\n",
    "                 # outer: 2"
   ]
  },
  {
   "cell_type": "markdown",
   "metadata": {},
   "source": [
    "儘管該語言中存在```全局```和```非本地語言```，但實際上並不經常使用它們。 這是因為這些關鍵字使程序難以預測且難以理解。\n",
    "\n",
    "Though ```global``` and ```nonlocal``` are present in the language, they are not often used in practice. This is because these keywords make programs less predictable and harder to understand."
   ]
  }
 ],
 "metadata": {
  "kernelspec": {
   "display_name": "Python 3",
   "language": "python",
   "name": "python3"
  },
  "language_info": {
   "codemirror_mode": {
    "name": "ipython",
    "version": 3
   },
   "file_extension": ".py",
   "mimetype": "text/x-python",
   "name": "python",
   "nbconvert_exporter": "python",
   "pygments_lexer": "ipython3",
   "version": "3.6.8"
  }
 },
 "nbformat": 4,
 "nbformat_minor": 2
}
