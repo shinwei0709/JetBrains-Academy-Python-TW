{
 "cells": [
  {
   "cell_type": "markdown",
   "metadata": {},
   "source": [
    "# 理論:宣告一個函式\n",
    "通常，內建函式不能滿足初學者的需要。在這種情況下，我們別無選擇，只能使用關鍵字def（正確，從define派生）來創建自己的函式。讓我們看一下語法：\n",
    "\n",
    "Often enough, built-in functions cannot suffice even beginners. In such a case, there is no choice but to create your own function using the keyword def (right, derived from define). Let's have a look at the syntax:"
   ]
  },
  {
   "cell_type": "code",
   "execution_count": null,
   "metadata": {},
   "outputs": [],
   "source": [
    "def function_name(parameter1, parameter2, ...):\n",
    "    # function's body\n",
    "    ...\n",
    "    return \"return value\""
   ]
  },
  {
   "cell_type": "markdown",
   "metadata": {},
   "source": [
    "def之後，我們在圓括號中寫下函式的名稱（以便稍後調用）和函式可以接受的參數的名稱。不要錯過行尾的冒號。函式的名稱及其參數與變量名稱遵循相同的規定，應使用小寫字母並在單詞之間使用下劃線。\n",
    "\n",
    "After def, we write the name of our function (so as to invoke it later) and the names of parameters, which our function can accept, enclosed in parentheses. Do not miss the colon at the end of the line. The names of a function and its parameters follow the same convention as variable names, that is, they should be written in lowercase with underscores between words.\n",
    "\n",
    "縮排的4個空格表示在函式主體的開始位置和結束位置。函式主體中的所有語句都必須縮排。您可以在函式內部進行計算，並使用return關鍵字將結果發送回去。僅當縮排不存在時，函式的定義才結束。\n",
    "\n",
    "An indent of 4 spaces shows the interpreter where the function's body starts and where it ends. All statements in the function's body must be indented. You can make calculations inside your function and use the return keyword to send the result back. Only when the indentation is absent, the definition of the function ends.\n",
    "\n",
    "def完函式後，參數採用在函式調用中傳遞的值。我們傳遞給函式的那些值稱為參數。參數和參數之間的唯一區別是，我們在函式定義中引入了參數，並在函式調用中給出了參數（某些特定的值）。這是一個不太抽象的函式範例：\n",
    "\n",
    "Later, the parameters take on values passed in a function call. Those values we pass to a function are known as arguments. The only distinction between parameters and arguments is that we introduce parameters in a function definition and give arguments (some specific values) in a function call. Here is a bit less abstract example of a function:"
   ]
  },
  {
   "cell_type": "code",
   "execution_count": null,
   "metadata": {},
   "outputs": [],
   "source": [
    "# Function definition\n",
    "def multiply(x, y):\n",
    "    return x * y\n",
    " \n",
    "# Function calls\n",
    "a = multiply(3, 5)   # 15\n",
    "b = multiply(a, 10)  # 150"
   ]
  },
  {
   "cell_type": "markdown",
   "metadata": {},
   "source": [
    "###### 如果您不想傳遞任何參數，則圓括號保持為空：\n",
    "###### In case you don't want to pass any arguments, the round brackets remain empty:"
   ]
  },
  {
   "cell_type": "code",
   "execution_count": null,
   "metadata": {},
   "outputs": [],
   "source": [
    "def welcome():\n",
    "    print(\"Hello, people!\")"
   ]
  },
  {
   "cell_type": "markdown",
   "metadata": {},
   "source": [
    "###### 您還可以使用以下pass語句聲明某種空函式：\n",
    "###### You can also declare a sort of empty function with pass statement:"
   ]
  },
  {
   "cell_type": "code",
   "execution_count": null,
   "metadata": {},
   "outputs": [],
   "source": [
    "# This function does nothing (yet)\n",
    "def lazy_func(param):\n",
    "    pass"
   ]
  },
  {
   "cell_type": "markdown",
   "metadata": {},
   "source": [
    "當您選擇lazy_func()使用任意值作為其參數進行調用時，將不會發生任何事情。所以pass只是一個佔位符，但至少您的程式碼將對它有效。\n",
    "\n",
    "When you choose to call lazy_func() with an arbitrary value as its parameter, nothing will happen. So pass is just a placeholder, but at least your code will be valid with it."
   ]
  },
  {
   "cell_type": "markdown",
   "metadata": {},
   "source": [
    "## 1.參數與參數\n",
    "現在還不清楚，參數是什麼？實際上，參數只是值的別名，可以將其傳遞給函式。參考以下範例：\n",
    "\n",
    "It's not quite clear right now, what the parameters are, is it? In fact, parameters are just aliases for values, which can be passed to a function. Consider the following example:"
   ]
  },
  {
   "cell_type": "code",
   "execution_count": null,
   "metadata": {},
   "outputs": [],
   "source": [
    "def send_postcard(address, message):\n",
    "    print(\"Sending a postcard to\", address)\n",
    "    print(\"With the message:\", message)\n",
    " \n",
    " \n",
    "send_postcard(\"Hilton, 97\", \"Hello, bro!\")\n",
    "# Sending a postcard to Hilton, 97\n",
    "# With the message: Hello, bro!\n",
    " \n",
    "send_postcard(\"Piccadilly, London\", \"Hi, London!\")\n",
    "# Sending a postcard to Piccadilly, London\n",
    "# With the message: Hi, London!"
   ]
  },
  {
   "cell_type": "markdown",
   "metadata": {},
   "source": [
    "如您所見，此函式是可以重複使用的程式碼段，可以使用不同的參數（即，將不同的值傳遞給此函式）執行。在這裡，address和message僅僅是別名，函式將根據該別名接收值，然後在主體中對其進行處理。\n",
    "\n",
    "As you can see, this function is a reusable piece of code, that can be executed with different arguments, i.e. different values passed into this function. Here, address and message are just the aliases under which the function receives values and then processes them in the body.\n",
    "\n",
    "該函式正好接受2個參數，因此您將無法使用多於或少於2個參數來執行該函式：\n",
    "\n",
    "This function takes exactly 2 arguments, so you will not be able to execute it with more or less than 2 arguments:"
   ]
  },
  {
   "cell_type": "code",
   "execution_count": null,
   "metadata": {},
   "outputs": [],
   "source": [
    "send_postcard(\"Big Ben, London\")\n",
    " \n",
    "TypeError: send_postcard() missing 1 required positional argument: 'message'"
   ]
  },
  {
   "cell_type": "markdown",
   "metadata": {},
   "source": [
    "## 2.執行和遞迴\n",
    "我們之前的函式僅執行了一些操作，但沒有任何返回值。您可能需要在函式中計算某些內容並在某個時候返回結果。參考以下範例：\n",
    "\n",
    "Our previous function only performed some actions, but it didn't have any return value. However, you might want to calculate something in a function and return the result at some point. Check the following example:"
   ]
  },
  {
   "cell_type": "code",
   "execution_count": null,
   "metadata": {},
   "outputs": [],
   "source": [
    "def celsius_to_fahrenheit(temps_c):\n",
    "    temps_f = temps_c * 9 / 5 + 32\n",
    "    return round(temps_f, 2)\n",
    " \n",
    "\n",
    "# Convert the boiling point of water\n",
    "water_bp = celsius_to_fahrenheit(100)\n",
    "print(water_bp)  # 212.0"
   ]
  },
  {
   "cell_type": "markdown",
   "metadata": {},
   "source": [
    "關鍵字return用於指示函式輸出什麼值。基本上，這是函式調用的結果。因此，在上面的範例中，我們將函式返回的值存儲在variable中water_bp。並且列印了結果。\n",
    "\n",
    "The keyword return is used to indicate what values the function outputs. Basically, it is the result of the function call. So, in the example above, we've stored the value returned by our function in the variable water_bp. Just to be sure, we printed the result."
   ]
  },
  {
   "cell_type": "markdown",
   "metadata": {},
   "source": [
    "還有一點要說的是，函式不一定具有返回值。眾所周知的函式print()實際上不返回任何東西。參考以下代碼：\n",
    "\n",
    "One more thing to say is that functions do not necessarily have return values. The well-known print() function does not, in fact, return anything. Examine the code below:"
   ]
  },
  {
   "cell_type": "code",
   "execution_count": null,
   "metadata": {},
   "outputs": [],
   "source": [
    "chant = print(\"We Will Rock You\")\n",
    "print(chant)"
   ]
  },
  {
   "cell_type": "markdown",
   "metadata": {},
   "source": [
    "And its output:"
   ]
  },
  {
   "cell_type": "code",
   "execution_count": null,
   "metadata": {},
   "outputs": [],
   "source": [
    "We Will Rock You\n",
    "None"
   ]
  },
  {
   "cell_type": "markdown",
   "metadata": {},
   "source": [
    "我們宣告了變量chant並調用了print()。很明顯該功能執行了，但是變量本身卻是None對象，這意味著被調用函式沒有任何返回值。因此chant的值是沒有的。\n",
    "\n",
    "We declared the variable chant and invoked print(). Obviously, the function was executed. But the variable itself turned out to be the None object, which means the called function had nothing to return. The value of chant is None."
   ]
  },
  {
   "cell_type": "markdown",
   "metadata": {},
   "source": [
    "Python解釋器在之後停止執行該功能return。但是，如果函式主體包含多個 return語句怎麼辦？執行會在第一個執行之後結束。請記住這一點！\n",
    "\n",
    "Python interpreter stops performing the function after return. But what if the function body contains more than one return statement? Then the execution will end after the first one. Please, keep that in mind!"
   ]
  },
  {
   "cell_type": "markdown",
   "metadata": {},
   "source": [
    "## 3.結論\n",
    "因此，我們了解了宣告函式的語法。現在您還知道：\n",
    "\n",
    "Thus, we've learned the syntax for declaring functions. Now you also know that:\n",
    "\n",
    "函式的參數只是要傳遞給它們的值的別名或占位符。每次調用該函式時，參數都會重新初始化。在函式內部，您可以訪問這些值，這意味著您可以對它們執行計算。\n",
    "一個函式可以簡單地執行一個動作，而不返回任何東西或返回特定的結果。如果您的函式未返回任何內容，則將其結果分配給變量或打印出來的話，其結果為None。\n",
    "\n",
    "Parameters of a function are simply aliases, or placeholders, for values that you will pass to them. Parameters are re-initialized every time you call the function. Inside the function, you have access to these values, which means you can perform calculations on them.\n",
    "A function can simply perform an action without returning anything or return a specific result. If your function doesn't return anything, assigning its result to a variable or printing it will give you None.\n",
    "\n",
    "宣告自己的函式可使程式碼更具結構化和重複使用性。每當您想要多次使用同一段程式碼時，請嘗試創建該函式！\n",
    "\n",
    "Declaring your own functions makes your code more structured and reusable. Whenever you use the same piece of code more than once, try to create a function of it!"
   ]
  },
  {
   "cell_type": "code",
   "execution_count": null,
   "metadata": {},
   "outputs": [],
   "source": []
  }
 ],
 "metadata": {
  "kernelspec": {
   "display_name": "Python 3",
   "language": "python",
   "name": "python3"
  },
  "language_info": {
   "codemirror_mode": {
    "name": "ipython",
    "version": 3
   },
   "file_extension": ".py",
   "mimetype": "text/x-python",
   "name": "python",
   "nbconvert_exporter": "python",
   "pygments_lexer": "ipython3",
   "version": "3.7.4"
  }
 },
 "nbformat": 4,
 "nbformat_minor": 2
}
