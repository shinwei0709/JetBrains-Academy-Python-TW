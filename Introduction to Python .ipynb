{
 "cells": [
  {
   "cell_type": "markdown",
   "metadata": {},
   "source": [
    "# python 入門\n",
    "## 1. Python 是什麼?\n",
    "\n",
    "  **Python** 是一種現代泛用的程式語言，最初由一名荷蘭的程式設計師Guido van Rossum\n",
    "在1980年代末開發。Python這名子來自由當時流行節目:Monty Python，而不是您想像的蛇。該語言具有簡潔、統一、容易閱讀的語法，旨在易於學習跟使用。\n",
    "\n",
    "   根據TIOBE Index調查，如今Python已經成為全球最後歡迎的程式語言之一，並且使用他的程式設計師每天都在增長，該語言在全球擁有龐大的開發人員社群。如果遇到問題可以隨時找其他使用Python的程式設計師尋求幫助，或者在諸如Stack Overflow的網站上面找到合適的答案。\n",
    "\n",
    "    使用Python開發軟體既簡單又有趣:)\n",
    "\n",
    "\n",
    "<img src=\"https://ucarecdn.com/33368eeb-d6f0-4356-90d4-c5aab4126fbc/\" alt=\"Drawing\" style=\"width: 200px;\"/>\n",
    "\n",
    "<center>The Python logo</center>\n",
    "\n",
    "**Python**有相當廣泛的應用，包含:\n",
    "\n",
    "- 網站開發\n",
    "- 資料科學(包含機器學習)\n",
    "- 手稿語言 Scripting (任務自動化，模擬使用者操作)\n",
    "\n",
    "桌面開發也有，但是比較不常見。\n",
    "\n",
    "## 2.Python的簡短歷史\n",
    "像其他程式語言一樣，Python經歷了許多版本。Python 1.0於1994年發布，奠定了該語言的基本原理，著重於簡易性。\n",
    "\n",
    "Python 2.0於2000年發布。此版本在程式設計師中非常流行。在各種專案和函式庫中仍使用不同的2.x子版本（2.6、2.7）。 2.x中的符號x表示Python 2的任何版本。\n",
    "\n",
    "Python 3.0是2.0後於2008年發布的下個主要版本。它打破了與先前版本的向後兼容性，從而擺脫了歷史混亂的語言，並使Python更具可讀性和一致性。\n",
    "\n",
    "因此，今天通常使用兩個相似但不兼容的Python版本。在本課程中，我們將學習Python3.x。\n",
    "\n",
    "## 3.第一個程式範例\n",
    "\n",
    "這是一行Python的程式碼，會輸出`Learn Python to be great!`這行字\n"
   ]
  },
  {
   "cell_type": "code",
   "execution_count": 1,
   "metadata": {},
   "outputs": [
    {
     "name": "stdout",
     "output_type": "stream",
     "text": [
      "Learn Python to be great!\n"
     ]
    }
   ],
   "source": [
    "print(\"Learn Python to be great!\")"
   ]
  },
  {
   "cell_type": "markdown",
   "metadata": {},
   "source": [
    "---\n",
    "## 問題1:Python版本\n",
    "\n",
    ">請問本堂課使用何種版本的Python?\n",
    "> + 1.x\n",
    "+ 2.x\n",
    "+ 2.7\n",
    "+ 3.x\n",
    "---\n",
    "## 問題2:Python應用\n",
    ">作為一種泛用的程式語言，Python有很多應用。\n",
    ">請選擇以下Python主要的代表性應用\n",
    ">+ machine learing 機械學習\n",
    ">+ task automation 任務自動化\n",
    ">+ web development 網站開發\n",
    ">+ mobile development 行動裝置應用開發\n",
    "---\n",
    "## 問題3:Hello, Python \n",
    ">以下是一個單行的簡單python程式碼，可以印出文本。\n",
    ">將其複製到下面的區域，然後點`RUN`按鈕\n",
    ">我們的服務器將會驗證程式是否正確，並告訴你結果。"
   ]
  },
  {
   "cell_type": "code",
   "execution_count": 2,
   "metadata": {},
   "outputs": [
    {
     "name": "stdout",
     "output_type": "stream",
     "text": [
      "Learn Python to be great!\n"
     ]
    }
   ],
   "source": [
    "print(\"Learn Python to be great!\")"
   ]
  }
 ],
 "metadata": {
  "kernelspec": {
   "display_name": "Python 3",
   "language": "python",
   "name": "python3"
  },
  "language_info": {
   "codemirror_mode": {
    "name": "ipython",
    "version": 3
   },
   "file_extension": ".py",
   "mimetype": "text/x-python",
   "name": "python",
   "nbconvert_exporter": "python",
   "pygments_lexer": "ipython3",
   "version": "3.7.0"
  }
 },
 "nbformat": 4,
 "nbformat_minor": 2
}
=======
{
 "cells": [
  {
   "cell_type": "markdown",
   "metadata": {},
   "source": [
    "# python 入門\n",
    "Theory: Introduction to Python\n",
    "## 1. Python 是什麼?\n",
    "1.What is Python?\n",
    "\n",
    "  **Python** 是一種現代泛用的程式語言，最初由一名荷蘭的程式設計師Guido van Rossum\n",
    "在1980年代末開發。Python這名子來自由當時流行節目:Monty Python，而不是您想像的蛇。該語言具有簡潔、統一、容易閱讀的語法，旨在易於學習跟使用。\n",
    "\n",
    "Python is a modern general-purpose programming language initially developed by a Dutch programmer named Guido van Rossum in the late 1980s. The name comes from the popular Monty Python show, not the snake as you might think. This language has a clean, uniform and well-readable syntax and is designed to be easy to learn and use in practice.\n",
    "\n",
    "\n",
    "   根據TIOBE Index調查，如今Python已經成為全球最後歡迎的程式語言之一，並且使用他的程式設計師每天都在增長，該語言在全球擁有龐大的開發人員社群。如果遇到問題可以隨時找其他使用Python的程式設計師尋求幫助，或者在諸如Stack Overflow的網站上面找到合適的答案。\n",
    "   \n",
    "   Nowadays, Python is one of the most popular programming languages worldwide according to the TIOBE index and the number of programmers who use it is growing every day. The language has a huge community of developers around the world. If you have a problem, you can always ask other programmers for help or find a suitable answer on a site like Stack Overflow.\n",
    "\n",
    "    使用Python開發軟體既簡單又有趣:)<br>\n",
    "    Developing software with Python is easy and fun :)\n",
    "\n",
    "<img src=\"https://ucarecdn.com/33368eeb-d6f0-4356-90d4-c5aab4126fbc/\" alt=\"Drawing\" style=\"width: 200px;\"/>\n",
    "\n",
    "<center>The Python logo</center>\n",
    "\n",
    "**Python**有相當廣泛的應用，包含:<br>\n",
    "Python has a wide range of possible applications, especially in:\n",
    "\n",
    "\n",
    "- 網站開發<br>\n",
    "web development\n",
    "- 資料科學(包含機器學習)<br>\n",
    "data science (including machine learning)\n",
    "- 手稿語言 Scripting (任務自動化，模擬使用者操作)<br>\n",
    "scripting (task automation, e.g. text processing or a simulation of typical user actions)\n",
    "\n",
    "桌面開發也有，但是比較不常見。<br>\n",
    "Less commonly, it is also used in desktop development.\n",
    "\n",
    "## 2.Python的簡短歷史\n",
    "2.Short history of Python\n",
    "\n",
    "\n",
    "像其他程式語言一樣，Python經歷了許多版本。Python 1.0於1994年發布，奠定了該語言的基本原理，著重於簡易性。\n",
    "\n",
    "Like other programming languages, Python has gone through a number of versions. Python 1.0 was released in 1994 and laid the basic principles of the language with emphasis on simplicity.\n",
    "\n",
    "Python 2.0於2000年發布。此版本在程式設計師中非常流行。在各種專案和函式庫中仍使用不同的2.x子版本（2.6、2.7）。 2.x中的符號x表示Python 2的任何版本。\n",
    "\n",
    "Python 2.0 was released in 2000. This version has become very popular among programmers. Different 2.x subversions (2.6, 2.7) are still used in various projects and libraries. The symbol x in 2.x means any subversion of Python 2.\n",
    "\n",
    "Python 3.0是2.0後於2008年發布的下個主要版本。它打破了與先前版本的向後兼容性，從而擺脫了歷史混亂的語言，並使Python更具可讀性和一致性。\n",
    "\n",
    "Python 3.0 was the next major version released in 2008. It broke backward compatibility with its predecessors in order to rid the language of historic clutter and make Python more readable and consistent.\n",
    "\n",
    "因此，今天通常使用兩個相似但不兼容的Python版本。在本課程中，我們將學習Python3.x。\n",
    "\n",
    "So, today two similar but incompatible versions of Python are commonly in use. Throughout this course, we will learn Python 3.x.\n",
    "\n",
    "## 3.第一個程式範例\n",
    "3.First program example\n",
    "\n",
    "\n",
    "這是一行Python的程式碼，會輸出`Learn Python to be great!`這行字\n",
    "\n",
    "Here is a single line of Python code that prints Learn Python to be great!.\n"
   ]
  },
  {
   "cell_type": "code",
   "execution_count": 1,
   "metadata": {},
   "outputs": [
    {
     "name": "stdout",
     "output_type": "stream",
     "text": [
      "Learn Python to be great!\n"
     ]
    }
   ],
   "source": [
    "print(\"Learn Python to be great!\")"
   ]
  },
  {
   "cell_type": "markdown",
   "metadata": {},
   "source": [
    "---\n",
    "## 問題1:Python版本\n",
    "\n",
    ">請問本堂課使用何種版本的Python?\n",
    "> + 1.x\n",
    "+ 2.x\n",
    "+ 2.7\n",
    "+ 3.x\n",
    "---\n",
    "## 問題2:Python應用\n",
    ">作為一種泛用的程式語言，Python有很多應用。\n",
    ">請選擇以下Python主要的代表性應用\n",
    ">+ machine learing 機械學習\n",
    ">+ task automation 任務自動化\n",
    ">+ web development 網站開發\n",
    ">+ mobile development 行動裝置應用開發\n",
    "---\n",
    "## 問題3:Hello, Python \n",
    ">以下是一個單行的簡單python程式碼，可以印出文本。\n",
    ">將其複製到下面的區域，然後點`RUN`按鈕\n",
    ">我們的服務器將會驗證程式是否正確，並告訴你結果。"
   ]
  },
  {
   "cell_type": "code",
   "execution_count": 2,
   "metadata": {},
   "outputs": [
    {
     "name": "stdout",
     "output_type": "stream",
     "text": [
      "Learn Python to be great!\n"
     ]
    }
   ],
   "source": [
    "print(\"Learn Python to be great!\")"
   ]
  }
 ],
 "metadata": {
  "kernelspec": {
   "display_name": "Python 3",
   "language": "python",
   "name": "python3"
  },
  "language_info": {
   "codemirror_mode": {
    "name": "ipython",
    "version": 3
   },
   "file_extension": ".py",
   "mimetype": "text/x-python",
   "name": "python",
   "nbconvert_exporter": "python",
   "pygments_lexer": "ipython3",
   "version": "3.7.0"
  }
 },
 "nbformat": 4,
 "nbformat_minor": 2
}
