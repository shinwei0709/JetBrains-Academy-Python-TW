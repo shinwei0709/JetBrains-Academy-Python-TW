{
 "cells": [
  {
   "cell_type": "markdown",
   "metadata": {},
   "source": [
    "# Theory: Load module"
   ]
  },
  {
   "cell_type": "markdown",
   "metadata": {},
   "source": [
    "## 1.Module basics"
   ]
  },
  {
   "cell_type": "markdown",
   "metadata": {},
   "source": [
    "在處理簡單示例時，您可能會直接在直釋器中輸入程式碼。但是，每次退出直釋器並重新啟動它時，您都會丟失之前所做的所有定義。因此，當您開始編寫較大的程式時，先使用文本編輯器準備代碼，然後使用直釋器運作它是有意義的。包含進一步讀取和解釋的操作列表的文件稱為腳本。"
   ]
  },
  {
   "cell_type": "markdown",
   "metadata": {},
   "source": [
    "While working on simple examples you probably type your code directly into the interpreter. But every time you quit from the interpreter and start it again you lose all the definitions you made before. So as you start writing larger programs it makes sense to prepare your code in advance using a text editor and then run it with the interpreter. A file containing a list of operations that further are read and interpreted is called script."
   ]
  },
  {
   "cell_type": "markdown",
   "metadata": {},
   "source": [
    "您可能還想編寫一些函式，然後在其他程式中使用它們，甚至重用其他人之前編寫的程式碼。一種方法是將程式碼複製到您的程式中，但是很快就會導致結構混亂且難以閱讀的程式碼。幸運的是，Python 中還有另一種組織和重用程式碼的方式，稱為 modules。"
   ]
  },
  {
   "cell_type": "markdown",
   "metadata": {},
   "source": [
    "You also may want to write some functions and then use them in other programs or even reuse code someone else wrote before. One way is just to copy the code into your program, but it soon leads to code that is bad-structured and hard to read. Luckily, there is another way in Python to organize and reuse code called modules."
   ]
  },
  {
   "cell_type": "markdown",
   "metadata": {},
   "source": [
    "該模塊只是一個包含 Python 語句和定義的文件。它通常具有.py擴展名。真正使模塊系統強大的功能是能夠從另一個模塊加載或導入一個模塊。"
   ]
  },
  {
   "cell_type": "markdown",
   "metadata": {},
   "source": [
    "The module is simply a file that contains Python statements and definitions. It usually has a .py extension. What really makes the module system powerful is the ability to load or import one module from another."
   ]
  },
  {
   "cell_type": "markdown",
   "metadata": {},
   "source": [
    "## 2.Module loading"
   ]
  },
  {
   "cell_type": "markdown",
   "metadata": {},
   "source": [
    "要讀入模塊，只需使用 import 語句。在基本形式中，它具有以下語法導入模塊。"
   ]
  },
  {
   "cell_type": "markdown",
   "metadata": {},
   "source": [
    "To load a module just use an import statement. In a basic form, it has the following syntax import module."
   ]
  },
  {
   "cell_type": "code",
   "execution_count": null,
   "metadata": {},
   "outputs": [],
   "source": [
    "import super_module\n",
    " \n",
    "super_module.super_function()  # calling a function defined in super_module\n",
    " \n",
    "print(super_module.super_variable)  # accessing a variable defined in super_module"
   ]
  },
  {
   "cell_type": "markdown",
   "metadata": {},
   "source": [
    "super_module 是要導入的模塊的名稱。例如，名為 super_module.py 的文件的名稱為 super_module 。為了可以導入，super_module.py 應該與您嘗試從中導入文件的目錄位於同一目錄中。首先，Python 導入系統在當前目錄中查找模塊，然後檢查內置模塊，如果未找到任何內容，將引發錯誤。導入後，該模塊將以其名稱變為可用，您可以使用點符號訪問其中定義的函數和變量。\n",
    "\n",
    "僅從模塊中導入所需的函數或變量，而不是從模塊本身導入也很常見。您可以使用 from 形式的 import 語句來完成此操作。"
   ]
  },
  {
   "cell_type": "markdown",
   "metadata": {},
   "source": [
    "super_module is the name of the module you want to import. For example, a file called super_module.py has a name super_module. In order to be available for import, super_module.py should be located in the same directory as the file you are trying to import it from. At first, Python importing system looks for a module in the current directory, then it checks the built-in modules, and if nothing is found an error will be raised. After importing, the module becomes available under its name and you can access functions and variables defined in it using the dot notation.\n",
    "\n",
    "It's also common to only import required functions or variables from a module but not the module itself. You can do this by using a from form of import statement."
   ]
  },
  {
   "cell_type": "code",
   "execution_count": null,
   "metadata": {},
   "outputs": [],
   "source": [
    "from super_module import super_function\n",
    " \n",
    "super_function()  # super_function is now available directly at the current module\n",
    " \n",
    "super_module.super_function()  # note, that in this case name super_module is not imported, \n",
    "                               # so this line leads to an error"
   ]
  },
  {
   "cell_type": "markdown",
   "metadata": {},
   "source": [
    "一個好的做法是在一行中加載單個模塊，並將所有導入內容放在文件頂部，因為這樣可以提高可讀性。"
   ]
  },
  {
   "cell_type": "markdown",
   "metadata": {},
   "source": [
    "A good practice is to load a single module in a single line and put all your imports at the top of the file because it increases readability."
   ]
  },
  {
   "cell_type": "code",
   "execution_count": null,
   "metadata": {},
   "outputs": [],
   "source": [
    "import module1\n",
    "import module2\n",
    "import module3\n",
    " \n",
    "# the rest of module code goes here"
   ]
  },
  {
   "cell_type": "markdown",
   "metadata": {},
   "source": [
    "特殊形式的 import 語句使您可以加載模塊中定義的所有名稱。這稱為通配符導入，具有模塊 import * 的語法。您通常應該在代碼中避免這種情況。這可能會導致意外的行為，因為您不知道將什麼名稱准確導入到當前名稱空間中。此外，這些名稱可能在您不知情的情況下掩蓋了一些現有名稱。最好將其明確並指定要導入的內容。\n",
    "\n",
    "如果必須使用多個導入語句，請注意其順序：\n",
    "\n",
    "- 標準庫導入\n",
    "- 第三方依賴進口\n",
    "- 本地應用程序導入\n",
    "\n",
    "將導入分組後，可以在導入部分之間放置空白行。另外，包括我們的指南在內的一些準則建議按字母順序對導入進行排序。"
   ]
  },
  {
   "cell_type": "markdown",
   "metadata": {},
   "source": [
    "A special form of import statement allows you to load all the names defined in a module. It is called wildcard import and has syntax from module import *. You should generally avoid this in your code. It can cause unexpected behavior because you don't know what names exactly are imported into the current namespace. Besides, these names may shadow some of the existing ones without your knowledge. It's better to make it explicit and specify what you're importing.\n",
    "\n",
    "In case you have to use several import statements, pay attention to their order:\n",
    "\n",
    "- standard library imports\n",
    "- third party dependency imports\n",
    "- local application imports\n",
    "\n",
    "Having your imports grouped, you may put a blank line between import sections. Also, some guidelines, including ours, recommend sorting imports alphabetically."
   ]
  },
  {
   "cell_type": "markdown",
   "metadata": {},
   "source": [
    "## 3.Built-in modules"
   ]
  },
  {
   "cell_type": "markdown",
   "metadata": {},
   "source": [
    "Python 附帶了一個很棒的標準庫。它包含許多內置模塊，這些模塊提供有用的功能和數據結構。另一個優點是，在安裝了 Python 的每個系統上都可以使用標準庫。在這裡您可以找到正式的圖書館參考資料。\n",
    "\n",
    "Python 有一個數學模塊，提供對數學函數的訪問。"
   ]
  },
  {
   "cell_type": "markdown",
   "metadata": {},
   "source": [
    "Python comes with a great standard library. It contains a lot of built-in modules that provide useful functions and data structures. Another advantage is that the standard library is available on every system that has Python installed. Here you can find an official library reference.\n",
    "\n",
    "Python has a math module that provides access to mathematical functions."
   ]
  },
  {
   "cell_type": "code",
   "execution_count": null,
   "metadata": {},
   "outputs": [],
   "source": [
    "import math\n",
    " \n",
    "print(math.factorial(5))  # prints the value of 5!\n",
    " \n",
    "print(math.log(10))  # prints the natural logarithm of 10\n",
    " \n",
    "print(math.pi)  # math also contains several constants\n",
    "print(math.e)"
   ]
  },
  {
   "cell_type": "markdown",
   "metadata": {},
   "source": [
    "string 模塊包含常見的字符串操作和常數。"
   ]
  },
  {
   "cell_type": "markdown",
   "metadata": {},
   "source": [
    "string module contains common string operations and constants."
   ]
  },
  {
   "cell_type": "code",
   "execution_count": null,
   "metadata": {},
   "outputs": [],
   "source": [
    "from string import digits\n",
    " \n",
    "print(digits)  # prints all the digit symbols"
   ]
  },
  {
   "cell_type": "markdown",
   "metadata": {},
   "source": [
    "random 模塊提供的功能可讓您做出隨機選擇。"
   ]
  },
  {
   "cell_type": "markdown",
   "metadata": {},
   "source": [
    "random module provides functions that let you make a random choice."
   ]
  },
  {
   "cell_type": "code",
   "execution_count": null,
   "metadata": {},
   "outputs": [],
   "source": [
    "from random import choice\n",
    " \n",
    "print(choice(['red', 'green', 'yellow']))  # print a random item from the list"
   ]
  }
 ],
 "metadata": {
  "kernelspec": {
   "display_name": "Python 3",
   "language": "python",
   "name": "python3"
  },
  "language_info": {
   "codemirror_mode": {
    "name": "ipython",
    "version": 3
   },
   "file_extension": ".py",
   "mimetype": "text/x-python",
   "name": "python",
   "nbconvert_exporter": "python",
   "pygments_lexer": "ipython3",
   "version": "3.7.0"
  }
 },
 "nbformat": 4,
 "nbformat_minor": 2
}
