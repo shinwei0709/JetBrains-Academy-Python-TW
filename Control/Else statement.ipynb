{
 "cells": [
  {
   "cell_type": "markdown",
   "metadata": {},
   "source": [
    "# Theory: Else statement"
   ]
  },
  {
   "cell_type": "markdown",
   "metadata": {},
   "source": [
    "## 1. 簡單的 if-else  Simple if-else"
   ]
  },
  {
   "cell_type": "markdown",
   "metadata": {},
   "source": [
    "**if-else 語句**是 Python 中的另一種條件表達式。它與 **if 語句**的區別在於其他關鍵字```else```的存在。當您的 if 語句的條件不成立時（布林值為```False```），將執行```else```所包含的代碼塊。由於 else 語句可以替代 if 語句，因此只能執行一個代碼塊。另外，```else```不需要任何條件：\n",
    "\n",
    "An **if-else statement** is another type of conditional expressions in Python. It differs from an **if statement** by the presence of the additional keyword ```else```. The block of code that ```else``` contains executes when the condition of your if statement does not hold (the Boolean value is ```False```). Since an else statement is an alternative for an if statement, only one block of code can be executed. Also,  ```else``` doesn't require any condition:"
   ]
  },
  {
   "cell_type": "code",
   "execution_count": 1,
   "metadata": {},
   "outputs": [
    {
     "ename": "NameError",
     "evalue": "name 'today' is not defined",
     "output_type": "error",
     "traceback": [
      "\u001b[1;31m---------------------------------------------------------------------------\u001b[0m",
      "\u001b[1;31mNameError\u001b[0m                                 Traceback (most recent call last)",
      "\u001b[1;32m<ipython-input-1-16a40128d4fc>\u001b[0m in \u001b[0;36m<module>\u001b[1;34m\u001b[0m\n\u001b[1;32m----> 1\u001b[1;33m \u001b[1;32mif\u001b[0m \u001b[0mtoday\u001b[0m \u001b[1;33m==\u001b[0m \u001b[1;34m\"holiday\"\u001b[0m\u001b[1;33m:\u001b[0m\u001b[1;33m\u001b[0m\u001b[1;33m\u001b[0m\u001b[0m\n\u001b[0m\u001b[0;32m      2\u001b[0m     \u001b[0mprint\u001b[0m\u001b[1;33m(\u001b[0m\u001b[1;34m\"Lucky you!\"\u001b[0m\u001b[1;33m)\u001b[0m\u001b[1;33m\u001b[0m\u001b[1;33m\u001b[0m\u001b[0m\n\u001b[0;32m      3\u001b[0m \u001b[1;32melse\u001b[0m\u001b[1;33m:\u001b[0m\u001b[1;33m\u001b[0m\u001b[1;33m\u001b[0m\u001b[0m\n\u001b[0;32m      4\u001b[0m     \u001b[0mprint\u001b[0m\u001b[1;33m(\u001b[0m\u001b[1;34m\"Keep your chin up, then.\"\u001b[0m\u001b[1;33m)\u001b[0m\u001b[1;33m\u001b[0m\u001b[1;33m\u001b[0m\u001b[0m\n",
      "\u001b[1;31mNameError\u001b[0m: name 'today' is not defined"
     ]
    }
   ],
   "source": [
    "if today == \"holiday\":\n",
    "    print(\"Lucky you!\")\n",
    "else:\n",
    "    print(\"Keep your chin up, then.\")"
   ]
  },
  {
   "cell_type": "markdown",
   "metadata": {},
   "source": [
    "請注意，四空格**縮排**規則也適用於此。\n",
    "\n",
    "Note that the 4-space **indentation** rule applies here too.\n",
    "\n",
    "您很快就會發現，程序員確實喜歡各種快捷方式。對於條件表達式也有一個技巧–您可以像這樣在一行中編寫 **if-else 語句**：\n",
    "\n",
    "As you may soon find out, programmers do like all sorts of shortcuts. For conditional expressions there's a trick as well – you can write an if-else statement in one line just like that:"
   ]
  },
  {
   "cell_type": "code",
   "execution_count": 5,
   "metadata": {},
   "outputs": [
    {
     "ename": "NameError",
     "evalue": "name 'sun' is not defined",
     "output_type": "error",
     "traceback": [
      "\u001b[1;31m---------------------------------------------------------------------------\u001b[0m",
      "\u001b[1;31mNameError\u001b[0m                                 Traceback (most recent call last)",
      "\u001b[1;32m<ipython-input-5-c4aa8e224c40>\u001b[0m in \u001b[0;36m<module>\u001b[1;34m\u001b[0m\n\u001b[1;32m----> 1\u001b[1;33m \u001b[0mprint\u001b[0m\u001b[1;33m(\u001b[0m\u001b[1;34m\"It’s a day now!\"\u001b[0m \u001b[1;32mif\u001b[0m \u001b[0msun\u001b[0m \u001b[1;32melse\u001b[0m \u001b[1;34m\"It’s a night for sure!\"\u001b[0m\u001b[1;33m)\u001b[0m\u001b[1;33m\u001b[0m\u001b[1;33m\u001b[0m\u001b[0m\n\u001b[0m",
      "\u001b[1;31mNameError\u001b[0m: name 'sun' is not defined"
     ]
    }
   ],
   "source": [
    "print(\"It’s a day now!\" if sun else \"It’s a night for sure!\")"
   ]
  },
  {
   "cell_type": "markdown",
   "metadata": {},
   "source": [
    "或更籠統地說：\n",
    "\n",
    "Or, more generally:"
   ]
  },
  {
   "cell_type": "code",
   "execution_count": 6,
   "metadata": {},
   "outputs": [
    {
     "ename": "NameError",
     "evalue": "name 'condition' is not defined",
     "output_type": "error",
     "traceback": [
      "\u001b[1;31m---------------------------------------------------------------------------\u001b[0m",
      "\u001b[1;31mNameError\u001b[0m                                 Traceback (most recent call last)",
      "\u001b[1;32m<ipython-input-6-596be2c3e898>\u001b[0m in \u001b[0;36m<module>\u001b[1;34m\u001b[0m\n\u001b[1;32m----> 1\u001b[1;33m \u001b[0mfirst_alternative\u001b[0m \u001b[1;32mif\u001b[0m \u001b[0mcondition\u001b[0m \u001b[1;32melse\u001b[0m \u001b[0msecond_alternative\u001b[0m\u001b[1;33m\u001b[0m\u001b[1;33m\u001b[0m\u001b[0m\n\u001b[0m",
      "\u001b[1;31mNameError\u001b[0m: name 'condition' is not defined"
     ]
    }
   ],
   "source": [
    "first_alternative if condition else second_alternative"
   ]
  },
  {
   "cell_type": "markdown",
   "metadata": {},
   "source": [
    "這是為了方便起見，但是請記住，您創建的代碼仍應可讀。\n",
    "\n",
    "It's a matter of convenience, but remember that the code you create should still be readable."
   ]
  },
  {
   "cell_type": "markdown",
   "metadata": {},
   "source": [
    "## 2. 巢狀 if-else  Nested if-else"
   ]
  },
  {
   "cell_type": "markdown",
   "metadata": {},
   "source": [
    "應該提到的是，if-else 語句的巢狀方式與 if 語句相同。一個附加的條件表達式可能會出現在```if```部分之後以及```else```部分之後。再一次，不要忘記正確縮進：\n",
    "\n",
    "It should be mentioned, that ```if-else``` statements can be **nested** the same way as ```if``` statements. An additional conditional expression may appear after the ```if``` section as well as after the ```else``` section. Once again, don't forget to indent properly:"
   ]
  },
  {
   "cell_type": "code",
   "execution_count": 4,
   "metadata": {},
   "outputs": [
    {
     "name": "stdout",
     "output_type": "stream",
     "text": [
      "x = 100\n",
      "This will be printed only because x >= 100\n"
     ]
    }
   ],
   "source": [
    "if x < 100:\n",
    "    print('x < 100')\n",
    "else:\n",
    "    if x == 100:\n",
    "        print('x = 100')\n",
    "    else:\n",
    "        print('x > 100')\n",
    "    print('This will be printed only because x >= 100')"
   ]
  },
  {
   "cell_type": "markdown",
   "metadata": {},
   "source": [
    "現在，您不僅可以設置條件，還可以考慮其他選擇。恭喜你！\n",
    "\n",
    "Now you are ready not only to set conditions but also to consider different alternatives. Congratulations!"
   ]
  },
  {
   "cell_type": "code",
   "execution_count": null,
   "metadata": {},
   "outputs": [],
   "source": []
  }
 ],
 "metadata": {
  "kernelspec": {
   "display_name": "Python 3",
   "language": "python",
   "name": "python3"
  },
  "language_info": {
   "codemirror_mode": {
    "name": "ipython",
    "version": 3
   },
   "file_extension": ".py",
   "mimetype": "text/x-python",
   "name": "python",
   "nbconvert_exporter": "python",
   "pygments_lexer": "ipython3",
   "version": "3.6.9"
  }
 },
 "nbformat": 4,
 "nbformat_minor": 2
}
