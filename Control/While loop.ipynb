{
 "cells": [
  {
   "cell_type": "markdown",
   "metadata": {},
   "source": [
    "# Theory: While loop"
   ]
  },
  {
   "cell_type": "markdown",
   "metadata": {},
   "source": [
    "有時，一個語句的一次**迭代**（=執行）不足以獲取所需的結果。因此，Python 提供了一條特殊的語句，該語句將多次執行代碼塊。滿足**迴圈**命令，通用迴圈之一是 **while** 迴圈。\n",
    "\n",
    "Sometimes one iteration (=execution) of a statement is not enough to get the result that you need. For this reason, Python offers a special statement that will execute the block of code several times. Meet the loop command and one of the universal loops is the while loop.\n",
    "\n",
    "人們通常不選擇Python來編寫**快速**代碼。 Python的主要優點是可讀性和簡單性。由於 **while 迴圈**需要引入額外的變量，因此迭代花費更多時間。因此，while 迴圈非常慢並且不太流行。它類似於條件運算符：使用 while 迴圈，只要條件為真，我們就可以執行一組語句。\n",
    "\n",
    "People generally don't choose Python to write fast code. The main advantages of Python are readability and simplicity. As the while loop requires the introduction of extra variables, it takes more time for an iteration. Thus, the while loop is quite slow and not so popular. It resembles a conditional operator: using the while loop, we can execute a set of statements as long as the condition is true.\n",
    "\n",
    "條件本身（2）寫入迴圈**主體**之前（有人稱其為條件代碼），並在主體執行之前對其進行檢查。如果條件為真（3a），則迭代繼續。如果條件為假（3b），則迴圈執行終止，程序控制進一步移至下一個操作。\n",
    "\n",
    "The condition itself (2) is written before the **body** of the loop (some call it the conditional code) and is being checked before the body is executed. If the condition is true (3a), the iterations continue. If the condition is false (3b), the loop execution is terminated and the program control moves further to the next operation.\n",
    "\n",
    "![123](https://i.imgur.com/zsAuOeM.png)"
   ]
  },
  {
   "cell_type": "markdown",
   "metadata": {},
   "source": [
    "## 1. 可視化  Visualization"
   ]
  },
  {
   "cell_type": "markdown",
   "metadata": {},
   "source": [
    "如果我們可視化 while 迴圈，它將看起來像這樣：\n",
    "\n",
    "If we visualize the while loop, it’ll look like this:"
   ]
  },
  {
   "cell_type": "code",
   "execution_count": null,
   "metadata": {},
   "outputs": [],
   "source": [
    "number = 0\n",
    "while number < 5:\n",
    "    print(number)\n",
    "    number += 1\n",
    "print('Now, number is greater than or equal to 5')"
   ]
  },
  {
   "cell_type": "markdown",
   "metadata": {},
   "source": [
    "變量```number```在這裡起到**計數器**的作用-每次迭代後都會更改其值的變量。在這種情況下，迭代將一直持續到數字等於5為止。當計數器的值達到5時，程序控制將移至下一個操作並打印消息。\n",
    "\n",
    "The variable number plays here the role of a counter – a variable that changes its value after each iteration. In this case, the iterations continue until the number is equal to 5. When the value of a counter reaches 5, the program control moves to the next operation and prints the message. "
   ]
  },
  {
   "cell_type": "markdown",
   "metadata": {},
   "source": [
    "## 2. 無限迴圈  The infinite loop"
   ]
  },
  {
   "cell_type": "markdown",
   "metadata": {},
   "source": [
    "如果刪除條件代碼中增加計數器值的部分，則會陷入**無限迴圈**。這是什麼意思？由於您不增加變量，因此條件永遠不會變為假，並且會永遠有效。通常，這是一個邏輯上的謬誤，您必須使用特殊語句停止迴圈或手動完成迴圈。\n",
    "\n",
    "If you delete the part of the conditional code where you increase the value of a counter, you will bump into the **infinite loop**. What does it mean? Since you don’t increase your variable, a condition never becomes false and can work forever. Usually, it is a logical fallacy, and you'll have to stop the loop using special statements or finishing the loop manually.\n",
    "\n",
    "有時無限迴圈會很有用，例如當迴圈持續工作以向用戶提供持續的信息交換時，查詢客戶端的方法。您可以通過在```while```標頭後面寫```True```作為條件來實現它。\n",
    "\n",
    "Sometimes the infinite loop can be useful, e.g. in querying a client when the loop works continuously to provide the constant exchange of information with a user. You can implement it by writing ```True``` as a condition after the ```while``` header.\n",
    "\n",
    "現在您已經熟悉了 while 迴圈及其用法。不要忘記計數器的作用，否則，您將不得不處理無限迴圈。在編寫代碼之後，請嘗試將其當作 Python 程序一樣運行。這樣可以幫助您了解迴圈的工作原理。\n",
    "\n",
    "Now you are familiar with the while loop and its usage. Don’t forget about the role of a counter, otherwise, you’ll have to deal with the infinite loop. And after you’ve written the code, try to run it through as if you were a Python program. That’ll help you to understand, how the loop works.\n",
    "\n",
    "編程就是為了簡化，所以代碼應該可讀，簡短。不要忘記註釋和語法。剛開始時，while 迴圈似乎不太容易實現，但是經過幾次，您會意識到它是一個非常有用的工具。\n",
    "\n",
    "Programming is all about simplifying, so the code should be readable, short and clear. Don’t forget about comments and syntax. In the beginning, it may seem that the while loop is not that easy to implement, but after a couple of times, you’ll realize that it’s a very useful tool."
   ]
  },
  {
   "cell_type": "code",
   "execution_count": null,
   "metadata": {},
   "outputs": [],
   "source": []
  }
 ],
 "metadata": {
  "kernelspec": {
   "display_name": "Python 3",
   "language": "python",
   "name": "python3"
  },
  "language_info": {
   "codemirror_mode": {
    "name": "ipython",
    "version": 3
   },
   "file_extension": ".py",
   "mimetype": "text/x-python",
   "name": "python",
   "nbconvert_exporter": "python",
   "pygments_lexer": "ipython3",
   "version": "3.6.9"
  }
 },
 "nbformat": 4,
 "nbformat_minor": 2
}
