{
 "cells": [
  {
   "cell_type": "markdown",
   "metadata": {},
   "source": [
    "# Theory: If statement"
   ]
  },
  {
   "cell_type": "markdown",
   "metadata": {},
   "source": [
    "## 1. 簡單的 if 語句  Simple if statement"
   ]
  },
  {
   "cell_type": "markdown",
   "metadata": {},
   "source": [
    "在某些情況下，僅當滿足特定條件時程序才需要執行某些代碼。這樣的一段代碼應放在 **if 語句**的主體內。該模式與英語中的模式相同：首先是關鍵字```if```，然後是條件，然後是要執行的表達式列表。條件始終是**布林表達式**，即其值等於```True```或```False```。\n",
    "這是一個帶有條件表達式的代碼應如下所示的示例：\n",
    "\n",
    "There are situations when your program needs to execute some piece of the code only if a particular condition is true.  Such a piece of the code should be placed within the body of an **if statement**. The pattern is the same as in the English language: first comes the keyword ```if``` , then a condition, and then a list of expressions to execute. The condition is always a **Boolean expression**, that is, its value equals either ```True``` or ```False```. Here is one example of how the code with a conditional expression should look like:"
   ]
  },
  {
   "cell_type": "code",
   "execution_count": 1,
   "metadata": {},
   "outputs": [
    {
     "name": "stdout",
     "output_type": "stream",
     "text": [
      "It's time for tea!\n"
     ]
    }
   ],
   "source": [
    "biscuits = 17\n",
    "if biscuits >= 5:\n",
    "    print(\"It's time for tea!\")"
   ]
  },
  {
   "cell_type": "markdown",
   "metadata": {},
   "source": [
    "請注意，條件以冒號結尾，而新的一行以**縮排**開頭。通常，使用4個空格來分隔不同的代碼塊。```if```語句僅在其條件成立（布林值為```True```）時才執行，否則將被跳過。\n",
    "\n",
    "Note that the condition ends with a colon and a new line starts with an **indentation**. Usually, 4 spaces are used to separate different blocks of code. An ```if``` statement is executed only if its condition holds (the Boolean value is ```True```), otherwise, it's skipped.\n",
    "\n",
    "布林值基本上使您清楚是否需要執行一段代碼。由於比較會導致```bool```，因此將它們用作條件總是一個好主意。\n",
    "\n",
    "Boolean values basically make it clear whether a piece of code needs to be executed or not. Since comparisons result in ```bool```, it's always a good idea to use them as a condition."
   ]
  },
  {
   "cell_type": "markdown",
   "metadata": {},
   "source": [
    "<mark style=background-color:#FFEC8B>但是有一個陷阱。您不應該將比較運算符```==```與賦值運算符```=```混淆。只有前者提供了適當的條件。嘗試避免在代碼中出現此常見錯誤。</mark>\n",
    "\n",
    "<mark style=background-color:#FFEC8B>There is one pitfall, though. You should not confuse the comparison operator for equality ```==``` with the assignment operator ```=```. Only the former provides for a proper condition. Try to avoid this common mistake in your code.</mark>"
   ]
  },
  {
   "cell_type": "markdown",
   "metadata": {},
   "source": [
    "## 2. 巢狀 if 語句  Nested if statement"
   ]
  },
  {
   "cell_type": "markdown",
   "metadata": {},
   "source": [
    "有時，對於簡單的```if```語句而言，條件恰好過於復雜。在這種情況下，可以使用所謂的**巢狀**```if```語句。如果巢狀的```if```語句越多，代碼就會變得越複雜，這通常不是一件好事。但是，這並不意味著您需要不惜一切代價避免巢狀```if```語句。 讓我們看一下下面的代碼：\n",
    "\n",
    "Sometimes a condition happens to be too complicated for a simple ```if``` statement. In this case,  you can use so-called **nested** ```if``` statements. The more ```if``` statements are nested, the more complex your code gets, which is usually not a good thing. However, this doesn't mean that you need to avoid nested ```if``` statements at whatever cost. Let's take a look at the code below:"
   ]
  },
  {
   "cell_type": "code",
   "execution_count": 2,
   "metadata": {},
   "outputs": [
    {
     "name": "stdout",
     "output_type": "stream",
     "text": [
      "Wow, your color is in the rainbow!\n",
      "Oh, by the way, it's a warm color.\n"
     ]
    }
   ],
   "source": [
    "rainbow = \"red, orange, yellow, green, blue, indigo, violet\"\n",
    "warm_colors = \"red, yellow, orange\"\n",
    "my_color = \"orange\"\n",
    " \n",
    "if my_color in rainbow:\n",
    "    print(\"Wow, your color is in the rainbow!\")\n",
    "    if my_color in warm_colors:\n",
    "        print(\"Oh, by the way, it's a warm color.\")"
   ]
  },
  {
   "cell_type": "markdown",
   "metadata": {},
   "source": [
    "上面的示例說明了一個巢狀的```if```語句。如果變量```my_color```是包含在```rainbow```中顏色名稱的字符串，則我們進入第一個```if```語句的主體。首先，我們打印消息，然後檢查我們的顏色是否屬於暖色。成員資格運算符(*The membership operator*)```in```簡單的顯示```my_color```是否為個別字符串```rainbow```還是```warm_colors```的子字符串。就像算術比較一樣，它返回布林值。\n",
    "\n",
    "The example above illustrates a nested ```if``` statement. If the variable ```my_color``` is a string that contains the name of a color from the rainbow,  we enter the body of the first ```if``` statement. First, we print the message and then check if our color belongs to the warm colors. The membership operator in simply shows whether ```my_color``` is a substring of the respective string, ```rainbow``` or ```warm_colors```. Just like arithmetic comparisons, it returns a boolean value.\n",
    "\n",
    "當涉及巢狀```if```語句時，適當的縮排至關重要，因此請不要忘記縮排以```if```關鍵字開頭的每個語句。\n",
    "\n",
    "When it comes to nested ```if``` statements, proper indentation is crucial, so do not forget to indent each statement that starts with the ```if``` keyword."
   ]
  }
 ],
 "metadata": {
  "kernelspec": {
   "display_name": "Python 3",
   "language": "python",
   "name": "python3"
  },
  "language_info": {
   "codemirror_mode": {
    "name": "ipython",
    "version": 3
   },
   "file_extension": ".py",
   "mimetype": "text/x-python",
   "name": "python",
   "nbconvert_exporter": "python",
   "pygments_lexer": "ipython3",
   "version": "3.6.9"
  }
 },
 "nbformat": 4,
 "nbformat_minor": 2
}
