{
 "cells": [
  {
   "cell_type": "markdown",
   "metadata": {},
   "source": [
    "# Theory: For loop"
   ]
  },
  {
   "cell_type": "markdown",
   "metadata": {},
   "source": [
    "## 1. 什麼是迭代？  What is iteration?"
   ]
  },
  {
   "cell_type": "markdown",
   "metadata": {},
   "source": [
    "計算機以處理人們認為無聊且耗能的功能而著稱。例如，重複執行相同的任務而沒有任何錯誤是這些事情之一。在 Python 中，重複執行同一代碼塊的過程稱為**迭代**。\n",
    "\n",
    "Computers are known for their ability to do things which people consider to be boring and energy-consuming. For example, repeating identical tasks without any errors is one of these things. In Python, the process of repetitive execution of the same block of code is called an **iteration**.\n",
    "\n",
    "有兩種類型的迭代：\n",
    "\n",
    "There are two types of iteration:\n",
    "\n",
    "確定迭代，其中重複次數已預先說明。\n",
    "\n",
    "**Definite iteration**, where the number of repetitions is stated in advance.\n",
    "\n",
    "不定迭代，只要預先說明的條件為真，代碼塊就會執行。\n",
    "\n",
    "**Indefinite iteration**, where the code block executes as long as the condition stated in advance is true.\n",
    "\n",
    "第一次迭代後，程序將返回到代碼正文的開頭並重複執行，形成了所謂的**迴圈**。最常用的是```for```**迴圈**，以提供代碼執行的```for```**運算符**命名。\n",
    "\n",
    "After the first iteration, the program comes back to the beginning of the code’s body and repeats it, making the so-called **loop**. The most used one is the ```for``` **loop**, named after the ```for``` **operator** that provides the code’s execution."
   ]
  },
  {
   "cell_type": "markdown",
   "metadata": {},
   "source": [
    "## 2. For迴圈語法  For loop syntax"
   ]
  },
  {
   "cell_type": "markdown",
   "metadata": {},
   "source": [
    "這是迴圈的方案：\n",
    "\n",
    "Here is the scheme of the loop:"
   ]
  },
  {
   "cell_type": "code",
   "execution_count": null,
   "metadata": {},
   "outputs": [],
   "source": [
    "for variable in iterable:\n",
    "    statement"
   ]
  },
  {
   "cell_type": "markdown",
   "metadata": {},
   "source": [
    "**statement** 是為 **iterate** 中的每個項目執行的操作塊，迭代中使用的對象（例如字符串或列表）。每次迭代後，變量取下一個可迭代的值。\n",
    "\n",
    "where **statement** is a block of operations executed for each item in **iterable**, an object used in iteration (e.g. string or list). Variable takes the value of the next iterable after each iteration.\n",
    "\n",
    "現在嘗試猜測如果執行以下代碼，將會得到哪個輸出：\n",
    "\n",
    "Now try to guess which output we’ll get if we execute the following piece of code:"
   ]
  },
  {
   "cell_type": "code",
   "execution_count": 1,
   "metadata": {},
   "outputs": [
    {
     "name": "stdout",
     "output_type": "stream",
     "text": [
      "Atlantic\n",
      "Pacific\n",
      "Indian\n",
      "Southern\n",
      "Arctic\n"
     ]
    }
   ],
   "source": [
    "oceans = ['Atlantic', 'Pacific', 'Indian', 'Southern', 'Arctic']\n",
    "for ocean in oceans:\n",
    "    print(ocean)"
   ]
  },
  {
   "cell_type": "markdown",
   "metadata": {},
   "source": [
    "在每次迭代期間，程序將從列表中取出項目並執行它們的語句\n",
    "\n",
    "During each iteration the program will take the items from the list and execute the statements with them"
   ]
  },
  {
   "cell_type": "markdown",
   "metadata": {},
   "source": [
    "甚至字符串都是可迭代的，因此您可以拼寫單詞，例如：\n",
    "\n",
    "Even strings are iterable, so you can spell the word, for example:"
   ]
  },
  {
   "cell_type": "code",
   "execution_count": 2,
   "metadata": {},
   "outputs": [
    {
     "name": "stdout",
     "output_type": "stream",
     "text": [
      "m\n",
      "a\n",
      "g\n",
      "i\n",
      "c\n"
     ]
    }
   ],
   "source": [
    "for char in 'magic':\n",
    "    print(char)"
   ]
  },
  {
   "cell_type": "markdown",
   "metadata": {},
   "source": [
    "## 3. 輸入數據處理  Input data processing "
   ]
  },
  {
   "cell_type": "markdown",
   "metadata": {},
   "source": [
    "您還可以使用```input（）```**函數**來幫助用戶將值傳遞給某個變量並使用它。因此，您可以獲得與上一段代碼相同的輸出：\n",
    "\n",
    "You can also use the ```input()``` **function** that helps a user to pass a value to some variable and work with it. Thus, you can get the same output as with the previous piece of code:"
   ]
  },
  {
   "cell_type": "code",
   "execution_count": null,
   "metadata": {},
   "outputs": [],
   "source": [
    "word = input()\n",
    "for char in word:\n",
    "    print(char)"
   ]
  },
  {
   "cell_type": "markdown",
   "metadata": {},
   "source": [
    "哦，看，您可以編寫出具有實際用途的代碼：\n",
    "\n",
    "Oh, look, you can write a piece of code with a practical purpose:"
   ]
  },
  {
   "cell_type": "code",
   "execution_count": null,
   "metadata": {},
   "outputs": [],
   "source": [
    "times = int(input('How many times should I say \"Hello\"?'))\n",
    "for i in range(times):\n",
    "    print('Hello!')"
   ]
  },
  {
   "cell_type": "markdown",
   "metadata": {},
   "source": [
    "因此，您可以要求用戶指定要執行的迭代次數。\n",
    "\n",
    "You can, therefore, ask a user to specify the number of iterations to be performed."
   ]
  },
  {
   "cell_type": "markdown",
   "metadata": {},
   "source": [
    "## 4. 範圍功能  Range function"
   ]
  },
  {
   "cell_type": "markdown",
   "metadata": {},
   "source": [
    "```range（）```**函數**用於指定迭代次數。它從0（默認）返回一個數字序列，並以指定的數字結尾。請注意：最後一個數字不會出現在輸出中\n",
    "\n",
    "The ```range()``` **function** is used to specify the number of iterations. It returns a sequence of numbers from 0 (by default) and ends at a specified number. Be careful: the last number won’t be in the output.\n",
    "\n",
    "讓我們看下面的例子：\n",
    "\n",
    "Let's look at the example below:"
   ]
  },
  {
   "cell_type": "code",
   "execution_count": null,
   "metadata": {},
   "outputs": [],
   "source": [
    "for i in range(5):\n",
    "    print(i)"
   ]
  },
  {
   "cell_type": "markdown",
   "metadata": {},
   "source": [
    "如果您不滿意0，則可以更改起始值；此外，還可以通過添加第三個參數來配置增量（步進）值：\n",
    "\n",
    "You can change the **starting value** if you’re not satisfied with 0, moreover, you can configure the **increment (step)** value by adding a third parameter:"
   ]
  },
  {
   "cell_type": "code",
   "execution_count": null,
   "metadata": {},
   "outputs": [],
   "source": [
    "for i in range(5,30,5):\n",
    "    print(i)"
   ]
  },
  {
   "cell_type": "markdown",
   "metadata": {},
   "source": [
    "根據所包含的參數，我們要求打印5到30之間的數字，其增量值為5。再次注意，輸出中不包括最後一個值：\n",
    "\n",
    "According to the parameters included, we’ve asked to print the numbers from 5 to 30 with an increment value of 5. Be careful again, the last value is not included in the output:"
   ]
  },
  {
   "cell_type": "markdown",
   "metadata": {},
   "source": [
    "## 5. 巢狀迴圈  Nested loop"
   ]
  },
  {
   "cell_type": "markdown",
   "metadata": {},
   "source": [
    "在 Python 中，將一個迴圈放在另一個迴圈中很容易-巢狀迴圈。內迴圈和外迴圈的類型無關緊要，首先執行的是外迴圈，然後執行內迴圈：\n",
    "\n",
    "In Python, it is easy to put one loop inside another one – a nested loop. The type of inner and outer loops doesn’t matter, the first to execute is the outer loop, then the inner one executes:"
   ]
  },
  {
   "cell_type": "code",
   "execution_count": null,
   "metadata": {},
   "outputs": [],
   "source": [
    "names = ['Rose', 'Daniel']\n",
    "surnames = ['Miller']\n",
    "for name in names:\n",
    "    for surname in surnames:\n",
    "         print(name, surname)"
   ]
  },
  {
   "cell_type": "markdown",
   "metadata": {},
   "source": [
    "在此示例中，我們使用兩個```for```循環創建虛構的人的名字。顯然，您可以處理不同大小的可迭代對象，而不必大驚小怪。\n",
    "\n",
    "In this example,  we use the two ```for``` loops to create fictional people's names. Obviously, you can deal with iterable objects of different sizes without too much fuss."
   ]
  },
  {
   "cell_type": "markdown",
   "metadata": {},
   "source": [
    "## 6. 總結一下  To sum up"
   ]
  },
  {
   "cell_type": "markdown",
   "metadata": {},
   "source": [
    "總而言之，```for```迴圈是自動化某些重複動作的有效方法。您可以添加變量和操作以創建巢狀迴圈。此外，您可以藉助```range（）```函數來控制迭代次數。請謹慎使用語法：縮進或冒號過多可能會導致錯誤！\n",
    "\n",
    "All in all, ```for``` loops are an efficient way to automatize some repetitive actions. You can add variables and operations to make a nested loop. Moreover, you can control the number of iterations with the help of the ```range()``` function. Be careful with the syntax: an extra indent or lack of colon can cause a mistake!"
   ]
  }
 ],
 "metadata": {
  "kernelspec": {
   "display_name": "Python 3",
   "language": "python",
   "name": "python3"
  },
  "language_info": {
   "codemirror_mode": {
    "name": "ipython",
    "version": 3
   },
   "file_extension": ".py",
   "mimetype": "text/x-python",
   "name": "python",
   "nbconvert_exporter": "python",
   "pygments_lexer": "ipython3",
   "version": "3.6.9"
  }
 },
 "nbformat": 4,
 "nbformat_minor": 2
}
