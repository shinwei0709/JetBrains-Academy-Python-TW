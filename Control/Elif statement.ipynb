{
 "cells": [
  {
   "cell_type": "markdown",
   "metadata": {},
   "source": [
    "# Theory: Elif statement"
   ]
  },
  {
   "cell_type": "markdown",
   "metadata": {},
   "source": [
    "由於您熟悉基本的條件語句，例如 **if 語句**和 **if-else 語句**，因此該使用更高級的 **elif 語句**了。\n",
    "\n",
    "Since you are familiar with basic conditional statements, such as **if** statement and **if-else** statement, it’s time for the more advanced **elif statement**.\n",
    "\n",
    "當我們要在代碼中指定多個條件時，將使用 **elif語句**。它與 **if-else 語句**有何不同？很簡單，在這裡我們為其他條件添加了```elif```關鍵字。它主要與```if```和```else```運算符一起使用，基本語法如下所示：\n",
    "\n",
    "**Elif statement** is used when we want to specify several conditions in our code. How does it differ from **if-else statements**? Well, it's simple. Here we add the **elif** keyword for our additional conditions. It is mostly used with both if and else operators and the basic syntax looks like this:"
   ]
  },
  {
   "cell_type": "code",
   "execution_count": null,
   "metadata": {},
   "outputs": [],
   "source": [
    "# basic elif syntax\n",
    "if condition1:\n",
    "    action1\n",
    "elif condition2:\n",
    "    action2\n",
    "else:\n",
    "    action3"
   ]
  },
  {
   "cell_type": "markdown",
   "metadata": {},
   "source": [
    "該條件後跟一個冒號，就像 if-else 語句一樣，然後將所需的動作放在```elif```主體內，不要忘記縮排，即在新行的開頭有4個空格。在這裡，我們首先在 if 語句中檢查 condition1 並確定其是否成立（布林表達式的值為```True```），然後執行 action1。如果為```False```，則跳過 action1 ，然後在 elif 語句中檢查 condition2。同樣，如果 condition2 為```True```，則執行 action2，否則，我們將其跳過並轉到代碼的```else```部分。\n",
    "\n",
    "The condition is followed by a colon, just like with the **if-else** statements, then desired action is placed within the **elif** body and don't forget about an **indentation**, i.e., 4 spaces at the beginning of a new line. Here we first check the condition1 in the **if** statement and if it holds (the value of the Boolean expression is **True**), action1 is performed. If it is **False**, we skip action1 and then check the condition2 in the **elif** statement. Again, if condition2 is True, action2 is performed, otherwise, we skip it and go to the **else** part of the code. \n",
    "\n",
    "讓我們看下面的例子：\n",
    "\n",
    "Let's take a look at the example below:"
   ]
  },
  {
   "cell_type": "code",
   "execution_count": null,
   "metadata": {},
   "outputs": [],
   "source": [
    "# elif example\n",
    "price = ... # int value\n",
    "if price > 5000:\n",
    "    print(\"That's too expensive!\")\n",
    "elif price > 500:\n",
    "    print(\"I can afford that!\")\n",
    "else:\n",
    "    print(\"That's too cheap!\")"
   ]
  },
  {
   "cell_type": "markdown",
   "metadata": {},
   "source": [
    "買還是不買？為了回答這個問題，我們首先檢查價格是否高於5000。如果```price> 5000```為```True```，我們打印出它太貴了，出發去尋找更便宜的東西。但是，如果價格低於5000怎麼辦？在這種情況下，我們檢查下一個條件是```價格> 500```，再次，如果它是```True```，則打印出可以負擔得起的價格；如果它是```False```，則轉到```else```塊並打印它也是便宜的。因此，如果價格低於5000但高於500，則將打印 \"I can afford that！\"，如果價格低於500，則將 \"That's too cheap!\"。\n",
    "\n",
    "To buy or not to buy? To answer the question we first check if the price is higher than 5000. If ‘price > 5000’ is True, we print that it’s too expensive and set off, looking for something cheaper. But what if the price was less than 5000? In this case, we check the next condition is ‘price > 500’, and again, if it is True, we print out that we can afford that, and if it is False, we go to the **else** block and print that it's too cheap. So “I can afford it!” will be printed if the price is less than 5000 but more than 500, and “That’s too cheap” if the price is lower than 500.\n",
    "\n",
    "elif 語句在一個關鍵時刻不同於```else```：它表示另一個特定選項，而```else```適用於所有不屬於 if 語句給定條件的情況。這就是為什麼有時您可能會遇到沒有```else```的條件語句的原因：\n",
    "\n",
    "**Elif** statement differs from **else** in one key moment: it represents another specific option while **else** fits all cases that don't fall into the condition given in **if** statement. That's why sometimes you may encounter conditional statements without **else**:"
   ]
  },
  {
   "cell_type": "code",
   "execution_count": null,
   "metadata": {},
   "outputs": [],
   "source": [
    "pet = '...'\n",
    " \n",
    "# cats vs dogs conditional\n",
    "if pet == 'cat':\n",
    "    print('Oh, you are a cat person. Meow!')\n",
    "elif pet == 'dog':\n",
    "    print('Oh, you are a dog person. Woof!')"
   ]
  },
  {
   "cell_type": "markdown",
   "metadata": {},
   "source": [
    "在此示例中，可以添加 else 語句以稍微擴展視角，但是如果我們僅對貓和狗感興趣，則沒有必要。\n",
    "\n",
    "In this example, it's possible to add an **else** statement to slightly expand a perspective, but it's not necessary if we are only interested in dogs and cats."
   ]
  },
  {
   "cell_type": "markdown",
   "metadata": {},
   "source": [
    "## 1. 多個 elif 和一個決策樹  Multiple elifs and a decision tree"
   ]
  },
  {
   "cell_type": "markdown",
   "metadata": {},
   "source": [
    "您可以根據需要使用任意數量的 elif 語句，因此您的條件可以非常詳細。不管您有多少條 elif 語句，語法始終是相同的。唯一的區別是我們添加了更多```elif```：\n",
    "\n",
    "There can be as many **elif** statements as you need, so your conditions can be very detailed. No matter, how many **elif** statements you have, the syntax is always the same. The only difference is that we add more **elifs**:"
   ]
  },
  {
   "cell_type": "code",
   "execution_count": null,
   "metadata": {},
   "outputs": [],
   "source": [
    "# multiple elifs syntax\n",
    "if condition1:\n",
    "    action1\n",
    "elif condition2:\n",
    "    action2\n",
    "# here you can add as many elifs as you need\n",
    "elif conditionN:\n",
    "    actionN\n",
    "else:\n",
    "    actionN1"
   ]
  },
  {
   "cell_type": "markdown",
   "metadata": {},
   "source": [
    "僅當```else```塊前的所有條件均為```False```時，才會執行該區代碼。請參見以下示例：\n",
    "\n",
    "The code inside the **else** block is executed only if all conditions before it are **False**. See the following example: "
   ]
  },
  {
   "cell_type": "code",
   "execution_count": null,
   "metadata": {},
   "outputs": [],
   "source": [
    "# multiple elifs example\n",
    "light = \"...\" # some str\n",
    "if light == \"green\":\n",
    "    print(\"You can go!\")\n",
    "elif light == \"yellow\":\n",
    "    print(\"Get ready!\")\n",
    "elif light == \"red\":\n",
    "    print(\"Just wait.\")\n",
    "else:\n",
    "    print(\"No such traffic light color, do whatever you want\")"
   ]
  },
  {
   "cell_type": "markdown",
   "metadata": {},
   "source": [
    "在此程序中，```else```塊中的消息將針對我們編寫特殊消息的除綠色，黃色和紅色以外的任何顏色的光進行打印。\n",
    "\n",
    "In this program, the message from the **else** block is printed for the light of any color except green, yellow and red for which we’ve written special messages.\n",
    "\n",
    "具有多個分支的條件語句構成一個決策樹(decision tree)，其中的一個節點是布林表達式，而分支則用```True```或```False```標記。標記為```True```的分支導致必須執行的操作，而```False```分支則導致下一個條件。下圖顯示了我們的示例中帶有交通信號燈的決策樹。\n",
    "\n",
    "Conditionals with multiple branches make a **decision tree**, in which a node is a Boolean expression and branches are marked with either **True** or **False**. The branch marked as True leads to the action that has to be executed, and the False branch leads to the next condition. The picture below shows such a decision tree of our example with traffic lights."
   ]
  },
  {
   "cell_type": "markdown",
   "metadata": {},
   "source": [
    "![image.png](https://i.imgur.com/2Pfp6at.png)"
   ]
  },
  {
   "cell_type": "markdown",
   "metadata": {},
   "source": [
    "## 2. 巢狀 elif 語句  Nested elif statements"
   ]
  },
  {
   "cell_type": "markdown",
   "metadata": {},
   "source": [
    "elif 語句也可以嵌套，就像 if-else 語句一樣。我們可以使用巢狀條件重寫交通燈示例：\n",
    "\n",
    "Elif statements can also be **nested**, just like **if-else** statements. We can rewrite our example of traffic lights with nested conditionals:"
   ]
  },
  {
   "cell_type": "code",
   "execution_count": null,
   "metadata": {},
   "outputs": [],
   "source": [
    "# nested elifs example\n",
    "traffic_lights = \"green, yellow, red\"\n",
    "# a string with one color\n",
    "light = \"...\"\n",
    "if light in traffic_lights:\n",
    "    if light == \"green\":\n",
    "        print(\"You can go!\")\n",
    "    elif light == \"yellow\":\n",
    "        print(\"Get ready!\")\n",
    "    else:\n",
    "        # if the lights are red\n",
    "        print(\"Just wait.\")\n",
    "else:\n",
    "    print(\"No such traffic light color, do whatever you want\")"
   ]
  },
  {
   "cell_type": "markdown",
   "metadata": {},
   "source": [
    "由於您已經掌握了條件語句的主題，因此從現在開始，您可以使程序在需要時執行所需的操作！\n",
    "\n",
    "Since you have mastered the topic of conditionals, from now on you can make your program do what you want when you want it! "
   ]
  }
 ],
 "metadata": {
  "kernelspec": {
   "display_name": "Python 3",
   "language": "python",
   "name": "python3"
  },
  "language_info": {
   "codemirror_mode": {
    "name": "ipython",
    "version": 3
   },
   "file_extension": ".py",
   "mimetype": "text/x-python",
   "name": "python",
   "nbconvert_exporter": "python",
   "pygments_lexer": "ipython3",
   "version": "3.6.9"
  }
 },
 "nbformat": 4,
 "nbformat_minor": 2
}
