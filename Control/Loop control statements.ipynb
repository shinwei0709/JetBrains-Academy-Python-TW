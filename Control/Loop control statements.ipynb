{
 "cells": [
  {
   "cell_type": "markdown",
   "metadata": {},
   "source": [
    "# Theory: Loop control statements"
   ]
  },
  {
   "cell_type": "markdown",
   "metadata": {},
   "source": [
    "## 1. 修改迴圈  Modifying loops"
   ]
  },
  {
   "cell_type": "markdown",
   "metadata": {},
   "source": [
    "迴圈控制語句嵌套在迴圈內部，旨在更改其典型行為。在本主題中，我們將了解它們的工作原理和用途。\n",
    "\n",
    "Loop control statements are nested inside loops and designed to change their typical behavior. In this topic, we'll find out how they work and what they are used for."
   ]
  },
  {
   "cell_type": "markdown",
   "metadata": {},
   "source": [
    "## 2. 如何打破  How to break"
   ]
  },
  {
   "cell_type": "markdown",
   "metadata": {},
   "source": [
    "**break** 語句用於終止任何類型的迴圈（即```for```和```while```迴圈）。可以說，中斷\"跳出\"了它所在的迴圈。我們來看一個小例子：\n",
    "\n",
    "The **break** statement is used to terminate a loop of any type (i. e. ```for``` and ```while``` loops). It may be said that **break** \"jumps out\" of the loop where it was placed. Let’s examine a tiny example:"
   ]
  },
  {
   "cell_type": "code",
   "execution_count": null,
   "metadata": {},
   "outputs": [],
   "source": [
    "pets = ['dog', 'cat', 'parrot']\n",
    "for pet in pets:\n",
    "    print(pet)\n",
    "    if pet == 'cat':\n",
    "        break"
   ]
  },
  {
   "cell_type": "markdown",
   "metadata": {},
   "source": [
    "我們想在最後一次迭代之前停止迴圈。為此，我們引入了何時應停止迴圈的條件。\n",
    "\n",
    "We wanted to stop the loop before it iterated for the last time. For that purpose, we introduced a condition when the loop should be stopped."
   ]
  },
  {
   "cell_type": "markdown",
   "metadata": {},
   "source": [
    "注意將```print（）```放在何處。如果將其放在迴圈末尾，則輸出將僅返回第一個值\"dog\"。發生這種情況是因為 **break** 立即退出迴圈。\n",
    "\n",
    "Be careful where you put print(). If you put it at the loop’s end, the output will return only the first value – ‘dog’. This happens because break exits from the loop immediately.\n",
    "\n",
    "通常，**break** 用來停止無休止的```while```迴圈，如下所示：\n",
    "\n",
    "Often enough, **break** is used to stop endless ```while``` loops like this one:"
   ]
  },
  {
   "cell_type": "code",
   "execution_count": null,
   "metadata": {},
   "outputs": [],
   "source": [
    "count = 0\n",
    "while True:\n",
    "    print(\"I am Infinite Loop\")\n",
    "    count += 1\n",
    "    if count == 13:\n",
    "        break"
   ]
  },
  {
   "cell_type": "markdown",
   "metadata": {},
   "source": [
    "## 3. 如何繼續  How to continue"
   ]
  },
  {
   "cell_type": "markdown",
   "metadata": {},
   "source": [
    "**continue** 操作符也很常用。如果您的條件為 true，則可以停止迭代並返回到迴圈的開頭（即，跳轉到迴圈的頂部，並使用下一個值繼續執行）。看下面的例子：\n",
    "\n",
    "The continue operator is commonly used, too. You can stop the iteration if your condition is true and return to the beginning of the loop (that is, jump to the loop's top and continue execution with the next value). Look at the following example:"
   ]
  },
  {
   "cell_type": "code",
   "execution_count": null,
   "metadata": {},
   "outputs": [],
   "source": [
    "pets = ['dog', 'cat', 'parrot']\n",
    "for pet in pets:\n",
    "    if pet == 'dog':\n",
    "        continue\n",
    "    print(pet)"
   ]
  },
  {
   "cell_type": "markdown",
   "metadata": {},
   "source": [
    "由於滿足條件，輸出將包含除第一個（\"dog\"）之外的所有值：\n",
    "\n",
    "The output will contain all values except the first one ('dog') since it fulfills the condition:"
   ]
  },
  {
   "cell_type": "markdown",
   "metadata": {},
   "source": [
    "因此，迴圈僅跳過一個值並繼續運行。\n",
    "\n",
    "Thus, the loop just skips one value and goes on running.\n",
    "\n",
    "值得一提的是：**continue** 操作符應適當使用。有時，您可以通過簡單地使用帶有相反條件的if語句來縮短代碼：\n",
    "\n",
    "One nuance is worth mentioning: the **continue** operator should be used moderately. Sometimes you can shorten the code by simply using an if statement with the **reversed** condition:"
   ]
  },
  {
   "cell_type": "code",
   "execution_count": null,
   "metadata": {},
   "outputs": [],
   "source": [
    "pets = ['dog', 'cat', 'parrot']\n",
    "for pet in pets:\n",
    "    if pet != 'dog':\n",
    "        print(pet)"
   ]
  },
  {
   "cell_type": "markdown",
   "metadata": {},
   "source": [
    "在這種情況下，輸出將保持不變。\n",
    "\n",
    "In this case, the output will remain the same:"
   ]
  },
  {
   "cell_type": "markdown",
   "metadata": {},
   "source": [
    "## 4. 迴圈else子句  Loop else clause"
   ]
  },
  {
   "cell_type": "markdown",
   "metadata": {},
   "source": [
    "如果迴圈未遇到 break 語句，則可以使用 **else 子句**來指定要在迴圈後執行的代碼塊。\n",
    "\n",
    "If the loop didn’t encounter the break statement, an **else clause** can be used to specify a block of code to be executed after the loop."
   ]
  },
  {
   "cell_type": "code",
   "execution_count": null,
   "metadata": {},
   "outputs": [],
   "source": [
    "pets = ['dog', 'cat', 'parrot']\n",
    "for pet in pets:\n",
    "    print(pet)\n",
    "else:\n",
    "    print('We need a turtle!')"
   ]
  },
  {
   "cell_type": "markdown",
   "metadata": {},
   "source": [
    "因此，在迴圈主體之後，**else** 語句將執行：\n",
    "\n",
    "So after the loop body, the else statement will execute:"
   ]
  },
  {
   "cell_type": "markdown",
   "metadata": {},
   "source": [
    "重要的是，迴圈```else```僅在迴圈正常退出（不**中斷**）的情況下運行。而且，它在迴圈不曾執行時運行（例如，從一開始，```while```迴圈的條件就為假）。考慮一個例子：\n",
    "\n",
    "\n",
    "Importantly, loop ```else``` runs if and only if the loop is exited normally (without hitting **break**). Also, it is run when the loop is never executed (e. g. the condition of the ```while``` loop is false right from the start). Consider an example: "
   ]
  },
  {
   "cell_type": "code",
   "execution_count": 1,
   "metadata": {},
   "outputs": [
    {
     "name": "stdout",
     "output_type": "stream",
     "text": [
      "I'm the happiest human being in the world!\n",
      "I'm the happiest human being in the world!\n",
      "Now I have no pancakes!\n"
     ]
    }
   ],
   "source": [
    "pancakes = 2\n",
    "while pancakes > 0:\n",
    "    print(\"I'm the happiest human being in the world!\")\n",
    "    pancakes -= 1\n",
    "    if pancakes == 0:\n",
    "        print(\"Now I have no pancakes!\")\n",
    "        break\n",
    "else:\n",
    "    print(\"No pancakes...\")"
   ]
  },
  {
   "cell_type": "markdown",
   "metadata": {},
   "source": [
    "第二次執行代碼片段（不滿足條件時，對於```pancakes = 0```）將以另一條消息結束：\n",
    "\n",
    "Execution of the code snippet for the second time (when the condition is not met, for ```pancakes = 0```) will end up with another message:"
   ]
  },
  {
   "cell_type": "code",
   "execution_count": 2,
   "metadata": {},
   "outputs": [
    {
     "name": "stdout",
     "output_type": "stream",
     "text": [
      "No pancakes...\n"
     ]
    }
   ],
   "source": [
    "pancakes = 0\n",
    "while pancakes > 0:\n",
    "    print(\"I'm the happiest human being in the world!\")\n",
    "    pancakes -= 1\n",
    "    if pancakes == 0:\n",
    "        print(\"Now I have no pancakes!\")\n",
    "        break\n",
    "else:\n",
    "    print(\"No pancakes...\")"
   ]
  },
  {
   "cell_type": "markdown",
   "metadata": {},
   "source": [
    "## 5. 結論  In conclusion"
   ]
  },
  {
   "cell_type": "markdown",
   "metadata": {},
   "source": [
    "綜上所述，迴圈控制語句代表了一種改變迴圈工作方式的有用工具。您可以使用```break```，```continue```和```else```運算符引入其他條件。此外，它們使您可以在成功執行代碼後打印消息，跳過預先選擇的一組值，甚至終止無限迴圈。明智地使用它們，它們會產生奇蹟。\n",
    "\n",
    "To sum up, loop control statements represent a useful tool to alter the way a loop works. You can introduce extra conditions using ```break```, ```continue``` and ```else``` operators.  In addition, they allow you to print a message after the successful code execution, skip a beforehand selected set of values, or even terminate an endless loop. Use them wisely and they'll work wonders."
   ]
  },
  {
   "cell_type": "code",
   "execution_count": null,
   "metadata": {},
   "outputs": [],
   "source": []
  }
 ],
 "metadata": {
  "kernelspec": {
   "display_name": "Python 3",
   "language": "python",
   "name": "python3"
  },
  "language_info": {
   "codemirror_mode": {
    "name": "ipython",
    "version": 3
   },
   "file_extension": ".py",
   "mimetype": "text/x-python",
   "name": "python",
   "nbconvert_exporter": "python",
   "pygments_lexer": "ipython3",
   "version": "3.6.9"
  }
 },
 "nbformat": 4,
 "nbformat_minor": 2
}
