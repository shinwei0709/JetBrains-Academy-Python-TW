{
 "cells": [
  {
   "cell_type": "markdown",
   "metadata": {},
   "source": [
    "# Theory: Nested lists"
   ]
  },
  {
   "cell_type": "markdown",
   "metadata": {},
   "source": [
    "Python中的列表可以包含任何對像作為其元素，包括其他列表–它們稱為嵌套列表。這是嵌套列表的幾個示例："
   ]
  },
  {
   "cell_type": "markdown",
   "metadata": {},
   "source": [
    "A list in Python may contain any objects as its elements, including other lists – they are called nested lists. Here is a couple of examples of nested lists:"
   ]
  },
  {
   "cell_type": "code",
   "execution_count": null,
   "metadata": {},
   "outputs": [],
   "source": [
    "nested_letters  = ['a', 'b', ['c', 'd'], 'e']\n",
    "nested_numbers = [[1], [2], [3]]"
   ]
  },
  {
   "cell_type": "markdown",
   "metadata": {},
   "source": [
    "## 1.Accessing elements of nesting lists"
   ]
  },
  {
   "cell_type": "markdown",
   "metadata": {},
   "source": [
    "與常規列表一樣，嵌套列表的元素可以由索引訪問。請注意，嵌套列表仍視為其父列表中的單個元素。"
   ]
  },
  {
   "cell_type": "markdown",
   "metadata": {},
   "source": [
    "Like with regular lists, elements of a nested list can be accessed by indexes. Note that the nested list still counts as a single element in its parent list."
   ]
  },
  {
   "cell_type": "code",
   "execution_count": null,
   "metadata": {},
   "outputs": [],
   "source": [
    "numbers = [1, [2, 3], 4]\n",
    "nested_numbers = numbers[1]\n",
    " \n",
    "print(nested_numbers)     # [2, 3]\n",
    "print(nested_numbers[1])  # 3"
   ]
  },
  {
   "cell_type": "markdown",
   "metadata": {},
   "source": [
    "在此示例中，我們通過索引1獲得數字的第二個元素。該元素是嵌套列表[2，3]。然後，我們通過索引1打印 nested_numbers 的第二個元素。該元素為3。\n",
    "\n",
    "也可以使用方括號序列訪問嵌套列表的元素而無需其他變量。"
   ]
  },
  {
   "cell_type": "markdown",
   "metadata": {},
   "source": [
    "In this example, we obtain the second element of numbers by index 1. This element is the nested list [2, 3]. Then we print the second element of nested_numbers by index 1. This element is 3.\n",
    "\n",
    "It is also possible to access an element of a nested list without an additional variable using a sequence of square brackets."
   ]
  },
  {
   "cell_type": "code",
   "execution_count": null,
   "metadata": {},
   "outputs": [],
   "source": [
    "lists = [0, [1, [2, 3]]]\n",
    "print(lists[1][1][0])   # 2"
   ]
  },
  {
   "cell_type": "markdown",
   "metadata": {},
   "source": [
    "基本上，在建立索引時，我們從外部列表更深入到最內部。自然地，如果我們請求一個不存在的級別的元素，則會收到錯誤消息："
   ]
  },
  {
   "cell_type": "markdown",
   "metadata": {},
   "source": [
    "Basically, we go deeper from the outer list to the innermost when indexing. Naturally, if we ask for an element at the level that doesn't exist, we'll get an error:"
   ]
  },
  {
   "cell_type": "code",
   "execution_count": null,
   "metadata": {},
   "outputs": [],
   "source": [
    "print(lists[1][1][0][1])  # TypeError: 'int' object is not subscriptable"
   ]
  },
  {
   "cell_type": "markdown",
   "metadata": {},
   "source": [
    "就像我們正在訪問不存在的元素一樣，在存在的級別上："
   ]
  },
  {
   "cell_type": "markdown",
   "metadata": {},
   "source": [
    "Just as if we were accessing an element that doesn't exist, at the level that does exist:"
   ]
  },
  {
   "cell_type": "markdown",
   "metadata": {},
   "source": [
    "## 2.Matrices"
   ]
  },
  {
   "attachments": {
    "image.png": {
     "image/png": "[encoded data removed]"
    }
   },
   "cell_type": "markdown",
   "metadata": {},
   "source": [
    "嵌套列表是表示矩陣的便捷方法。例如矩陣\n",
    "\n",
    "![image.png](attachment:image.png)\n",
    "\n",
    "可能表示為："
   ]
  },
  {
   "attachments": {
    "image.png": {
     "image/png": "[encoded data removed]"
    }
   },
   "cell_type": "markdown",
   "metadata": {},
   "source": [
    "Nested lists are a convenient way to represent a matrix. For example, the matrix\n",
    "\n",
    "![image.png](attachment:image.png)\n",
    "\n",
    "might be represented as:"
   ]
  },
  {
   "cell_type": "code",
   "execution_count": null,
   "metadata": {},
   "outputs": [],
   "source": [
    "M = [[1, 2, 3], [4, 5, 6], [7, 8, 9]]"
   ]
  },
  {
   "cell_type": "markdown",
   "metadata": {},
   "source": [
    "請注意，在這樣的列表中，所有嵌套列表的長度必須相同，並且等於矩陣的維數。\n",
    "\n",
    "當我們想從矩陣中提取元素時，例如元素M[1][2] = 6，第一個索引選擇行，第二個索引選擇列。但是，您知道，它與數學表示形式的不同之處在於，此處的編號從零開始，而不是從一開始。"
   ]
  },
  {
   "cell_type": "markdown",
   "metadata": {},
   "source": [
    "Note that in such a list lengths of all nested lists must be the same, and they are equal to the dimension of the matrix.\n",
    "\n",
    "When we want to extract an element from the matrix, e.g. element M[1][2] = 6, the first index selects the row, and the second index selects the column. However, as you know, it differs from mathematical representation in that numbering here starts from zero, rather than from one."
   ]
  },
  {
   "cell_type": "markdown",
   "metadata": {},
   "source": [
    "## 3.Nested list comprehension"
   ]
  },
  {
   "cell_type": "markdown",
   "metadata": {},
   "source": [
    "要遍歷嵌套列表，我們可以使用嵌套列表推導。它基本上是兩個或多個列表推導的組合，並且非常類似於嵌套的 for 循環。為了說明這種理解的基本語法，讓我們考慮一個示例。\n",
    "\n",
    "想像一所學校是一個班級列表，而班級列表又是學生列表（他們的名字）。"
   ]
  },
  {
   "cell_type": "markdown",
   "metadata": {},
   "source": [
    "To iterate over nested lists, we can use nested list comprehensions. It is basically a combination of two or more list comprehensions and it is quite similar to nested \"for\" loops. To illustrate basic syntax for this kind of comprehension, let's consider an example.\n",
    "\n",
    "Imagine a school as a list of classes that are, in turn, lists of students (their names)."
   ]
  },
  {
   "cell_type": "code",
   "execution_count": null,
   "metadata": {},
   "outputs": [],
   "source": [
    "# original list\n",
    "school = [[\"Mary\", \"Jack\", \"Tiffany\"], \n",
    "          [\"Brad\", \"Claire\"],\n",
    "          [\"Molly\", \"Andy\", \"Carla\"]]"
   ]
  },
  {
   "cell_type": "markdown",
   "metadata": {},
   "source": [
    "如果您想創建所有班級所有學生的列表，而又沒有列表理解，它將如下所示："
   ]
  },
  {
   "cell_type": "markdown",
   "metadata": {},
   "source": [
    "If you want to create a list of all students in all classes without the list comprehension it would look like this:"
   ]
  },
  {
   "cell_type": "code",
   "execution_count": null,
   "metadata": {},
   "outputs": [],
   "source": [
    "student_list = []\n",
    "for class_group in school:\n",
    "    for student in class_group:\n",
    "        student_list.append(student)"
   ]
  },
  {
   "cell_type": "markdown",
   "metadata": {},
   "source": [
    "但是，我們還可以將理解與 double for 迴圈一起使用，然後看起來像這樣："
   ]
  },
  {
   "cell_type": "markdown",
   "metadata": {},
   "source": [
    "But, we can also use a comprehension with a double for loop, then it would look like this:"
   ]
  },
  {
   "cell_type": "code",
   "execution_count": null,
   "metadata": {},
   "outputs": [],
   "source": [
    "student_list = [student for class_group in school for student in class_group]"
   ]
  },
  {
   "cell_type": "markdown",
   "metadata": {},
   "source": [
    "在這兩種情況下，結果將是相同的："
   ]
  },
  {
   "cell_type": "markdown",
   "metadata": {},
   "source": [
    "In both cases the result is going to be the same:"
   ]
  },
  {
   "cell_type": "code",
   "execution_count": null,
   "metadata": {},
   "outputs": [],
   "source": [
    "print(student_list)\n",
    "# result: [\"Mary\", \"Jack\", \"Tiffany\", \"Brad\", \"Claire\", \"Molly\", \"Andy\", \"Carla\"]"
   ]
  },
  {
   "cell_type": "markdown",
   "metadata": {},
   "source": [
    "for 循環的順序與帶有縮進的表示法的順序相同：首先是外循環，然後是內循環。"
   ]
  },
  {
   "cell_type": "markdown",
   "metadata": {},
   "source": [
    "The order of the for loops is the same as in the notation with indentation: first the outer loop, and then the inner loop."
   ]
  },
  {
   "cell_type": "markdown",
   "metadata": {},
   "source": [
    "但是，這種方法可能比沒有列表理解的方法更不清晰，特別是在我們需要使用兩個以上的for循環的情況下：它會使代碼變得不可讀和違反直覺。\n",
    "\n",
    "看看接著的程式碼:"
   ]
  },
  {
   "cell_type": "markdown",
   "metadata": {},
   "source": [
    "However, such a method may be less clear than the one without list comprehension, especially in cases when we need to use more than two for loops: it can make the code unreadable and counter-intuitive.\n",
    "\n",
    "Consider the following line of code:"
   ]
  },
  {
   "cell_type": "code",
   "execution_count": null,
   "metadata": {},
   "outputs": [],
   "source": [
    "matrix = [[j for j in range(5)] for i in range(2)]"
   ]
  },
  {
   "cell_type": "markdown",
   "metadata": {},
   "source": [
    "要理解所創建的矩陣的外觀並不容易。與何時將以這種方式進行比較："
   ]
  },
  {
   "cell_type": "markdown",
   "metadata": {},
   "source": [
    "It’s not that easy to understand what the created matrix will look like. Compare to when we will put it this way:"
   ]
  },
  {
   "cell_type": "code",
   "execution_count": null,
   "metadata": {},
   "outputs": [],
   "source": [
    "matrix = [] \n",
    "  \n",
    "for i in range(2): \n",
    "      \n",
    "    # create empty row (a sublist inside our list)\n",
    "    matrix.append([]) \n",
    "      \n",
    "    for j in range(5): \n",
    "        matrix[i].append(j)"
   ]
  },
  {
   "cell_type": "markdown",
   "metadata": {},
   "source": [
    "它更具可讀性，現在很明顯矩陣看起來像："
   ]
  },
  {
   "cell_type": "markdown",
   "metadata": {},
   "source": [
    "It is much more readable, and now it is clear that the matrix will look like:"
   ]
  },
  {
   "cell_type": "code",
   "execution_count": null,
   "metadata": {},
   "outputs": [],
   "source": [
    "matrix = [[0, 1, 2, 3, 4],\n",
    "          [0, 1, 2, 3, 4]]"
   ]
  },
  {
   "cell_type": "markdown",
   "metadata": {},
   "source": [
    "請務必牢記，較短的代碼並不代表更好的代碼，因此在使用嵌套列表時，您不應濫用列表理解。\n",
    "\n",
    "這樣的列表在資料結構中是一種非常有用的容器，現在您知道如何在一個外部列表中存儲多個內部列表，如何訪問它們並使用它們。"
   ]
  },
  {
   "cell_type": "markdown",
   "metadata": {},
   "source": [
    "It's important to bear in mind that shorter code does not imply better one, so you shouldn’t misuse list comprehension when working with nested lists.\n",
    "\n",
    "Lists as such are a very useful type of container in Data Structures, and now you know how to store multiple inner lists inside an outer one, how to reach them and work with them."
   ]
  }
 ],
 "metadata": {
  "kernelspec": {
   "display_name": "Python 3",
   "language": "python",
   "name": "python3"
  },
  "language_info": {
   "codemirror_mode": {
    "name": "ipython",
    "version": 3
   },
   "file_extension": ".py",
   "mimetype": "text/x-python",
   "name": "python",
   "nbconvert_exporter": "python",
   "pygments_lexer": "ipython3",
   "version": "3.5.5"
  }
 },
 "nbformat": 4,
 "nbformat_minor": 2
}
