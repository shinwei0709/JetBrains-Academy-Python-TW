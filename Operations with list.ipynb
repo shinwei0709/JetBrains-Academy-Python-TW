{
 "cells": [
  {
   "cell_type": "markdown",
   "metadata": {},
   "source": [
    "# Theory: Operations with list"
   ]
  },
  {
   "cell_type": "markdown",
   "metadata": {},
   "source": [
    "您已經知道如何創建列表，甚至可以創建空列表，因此，毫無疑問，您可能希望以某種方式更改列表。列表有很多事情要做，您可以在文檔中閱讀有關它們的信息。在本主題中，我們將僅考慮基本主題。"
   ]
  },
  {
   "cell_type": "markdown",
   "metadata": {},
   "source": [
    "You already know how to create lists, even empty ones, so, no wonder, that you might want to change your lists somehow. There are lots of things to do with a list, you can read about them in the documentation. In this topic, we will consider only basic ones."
   ]
  },
  {
   "cell_type": "markdown",
   "metadata": {},
   "source": [
    "## 1.Adding and removing elements"
   ]
  },
  {
   "cell_type": "markdown",
   "metadata": {},
   "source": [
    "列表是一個動態集合，它意味著您可以添加和刪除元素。為了更仔細地研究，讓我們創建一個空的龍列表。"
   ]
  },
  {
   "cell_type": "markdown",
   "metadata": {},
   "source": [
    "A list is a dynamic collection and it means you can add and remove elements. To take a closer look, let's create an empty list of dragons."
   ]
  },
  {
   "cell_type": "code",
   "execution_count": null,
   "metadata": {},
   "outputs": [],
   "source": [
    "dragons = []  # we do not have dragons yet"
   ]
  },
  {
   "cell_type": "markdown",
   "metadata": {},
   "source": [
    "下一步是什麼？首先想到的當然是將新元素添加到列表中。\n",
    "\n",
    "要將新元素添加到現有列表的末尾，您需要調用list.append（element）函數。它只需要一個參數，因此您一次只能將一個元素添加到列表中。"
   ]
  },
  {
   "cell_type": "markdown",
   "metadata": {},
   "source": [
    "What's next? The first thing that comes to mind is, of course, to add new elements to the list.\n",
    "\n",
    "To add a new element to the end of an existing list, you need to invoke list.append(element) function. It takes only a single argument, so this way you can add only one element to the list at a time. "
   ]
  },
  {
   "cell_type": "code",
   "execution_count": null,
   "metadata": {},
   "outputs": [],
   "source": [
    "dragons.append('Rudror')\n",
    "dragons.append('Targiss')\n",
    "dragons.append('Coporth')"
   ]
  },
  {
   "cell_type": "markdown",
   "metadata": {},
   "source": [
    "現在，您正好有三條龍，而且按照您添加它們的方式對它們進行了排序："
   ]
  },
  {
   "cell_type": "markdown",
   "metadata": {},
   "source": [
    "Now you have exactly three dragons, moreover, they are ordered the way you added them:"
   ]
  },
  {
   "cell_type": "code",
   "execution_count": null,
   "metadata": {},
   "outputs": [],
   "source": [
    "print(dragons)  # ['Rudror', 'Targiss', 'Coporth']"
   ]
  },
  {
   "cell_type": "markdown",
   "metadata": {},
   "source": [
    "還有list.extend（another_list）操作，它將所有可迭代元素添加到列表的末尾。"
   ]
  },
  {
   "cell_type": "markdown",
   "metadata": {},
   "source": [
    "There is also list.extend(another_list) operation which adds all the elements from another iterable to the end of a list."
   ]
  },
  {
   "cell_type": "code",
   "execution_count": null,
   "metadata": {},
   "outputs": [],
   "source": [
    "numbers = [1, 2, 3, 4, 5]\n",
    "numbers.extend([10, 20, 30])\n",
    "print(numbers)  # [1, 2, 3, 4, 5, 10, 20, 30]"
   ]
  },
  {
   "cell_type": "markdown",
   "metadata": {},
   "source": [
    "\n",
    "如果您使用list.append（element）而不是list.extend（another_list），則會將整個列表添加為元素："
   ]
  },
  {
   "cell_type": "markdown",
   "metadata": {},
   "source": [
    "If you use list.append(element) instead of list.extend(another_list), it adds the entire list as an element:"
   ]
  },
  {
   "cell_type": "code",
   "execution_count": null,
   "metadata": {},
   "outputs": [],
   "source": [
    "numbers = [1, 2, 3, 4, 5]\n",
    "numbers.append([10, 20, 30])\n",
    "print(numbers)  # [1, 2, 3, 4, 5, [10, 20, 30]]"
   ]
  },
  {
   "cell_type": "markdown",
   "metadata": {},
   "source": [
    "請注意這些操作。\n",
    "\n",
    "添加元素（刪除元素）的相反操作是藉助list.remove（element）操作完成的。"
   ]
  },
  {
   "cell_type": "markdown",
   "metadata": {},
   "source": [
    "Please, be careful with these operations.\n",
    "\n",
    "The opposite of adding elements — deleting them — is done with the help of list.remove(element) operation."
   ]
  },
  {
   "cell_type": "code",
   "execution_count": null,
   "metadata": {},
   "outputs": [],
   "source": [
    "dragons.remove('Targiss')\n",
    "print(dragons)  # ['Rudror', 'Coporth']"
   ]
  },
  {
   "cell_type": "markdown",
   "metadata": {},
   "source": [
    "\n",
    "現在，列表中只有兩條龍。\n",
    "\n",
    "如果要刪除的元素在列表中出現多次，則該元素的第一個實例將被刪除。"
   ]
  },
  {
   "cell_type": "markdown",
   "metadata": {},
   "source": [
    "Now you have only two dragons in the list.\n",
    "\n",
    "If the element you want to delete occurs several times in the list, the first instance of that element is removed."
   ]
  },
  {
   "cell_type": "code",
   "execution_count": null,
   "metadata": {},
   "outputs": [],
   "source": [
    "numbers = [0, 1, 1, 2, 3, 5, 8, 13, 21]\n",
    "numbers.remove(1)\n",
    "print(numbers)  # [0, 1, 2, 3, 5, 8, 13, 21]"
   ]
  },
  {
   "cell_type": "markdown",
   "metadata": {},
   "source": [
    "## 2.Inserting elements at a specified position"
   ]
  },
  {
   "cell_type": "markdown",
   "metadata": {},
   "source": [
    "\n",
    "我們已經學習瞭如何將新元素添加到列表的末尾。如果要在列表中間添加新元素，請使用list.insert（position，element）操作。第一個參數是要插入元素的索引，因此list.insert（0，element）會將元素插入到列表的開頭，並且list.insert（len（list），element）與list完全相似.append（element）。\n",
    "\n",
    "這是一個例子："
   ]
  },
  {
   "cell_type": "markdown",
   "metadata": {},
   "source": [
    "We've learnt how to add new elements to the end of a list. If we want to add a new element in the middle of a list, we use the list.insert(position, element) operation. The first argument is the index of the element before which to insert, so list.insert(0, element) inserts an element to the beginning of the list, and list.insert(len(list), element) is completely similar to list.append(element).\n",
    "\n",
    "Here is an example:"
   ]
  },
  {
   "cell_type": "code",
   "execution_count": null,
   "metadata": {},
   "outputs": [],
   "source": [
    "years = [2016, 2018, 2019]\n",
    "years.insert(1, 2017)           # [2016, 2017, 2018, 2019]\n",
    "years.insert(0, 2015)           # [2015, 2016, 2017, 2018, 2019]\n",
    "years.insert(len(years), 2020)  # [2015, 2016, 2017, 2018, 2019, 2020]"
   ]
  },
  {
   "cell_type": "markdown",
   "metadata": {},
   "source": [
    "現在，您可以用一些有用的東西填充任何空白列表：）"
   ]
  },
  {
   "cell_type": "markdown",
   "metadata": {},
   "source": [
    "Now, you can fill any empty list with something useful :)"
   ]
  },
  {
   "cell_type": "markdown",
   "metadata": {},
   "source": [
    "## 3.Reversing and sorting lists"
   ]
  },
  {
   "cell_type": "markdown",
   "metadata": {},
   "source": [
    "有兩種常用的操作來修改列表中元素的順序。\n",
    "\n",
    "調用list.reverse（）只會反轉列表中元素的順序。"
   ]
  },
  {
   "cell_type": "markdown",
   "metadata": {},
   "source": [
    "There are two commonly-used operations to modify the order of elements in a list.\n",
    "\n",
    "Invoking list.reverse() just reverses the order of elements in the list."
   ]
  },
  {
   "cell_type": "code",
   "execution_count": null,
   "metadata": {},
   "outputs": [],
   "source": [
    "numbers = [1, 2, 3, 4, 5]\n",
    "numbers.reverse()\n",
    "print(numbers)  # [5, 4, 3, 2, 1]"
   ]
  },
  {
   "cell_type": "markdown",
   "metadata": {},
   "source": [
    "\n",
    "reverse（）函數是不言而喻的。不過請記住，它會在原地執行操作，即它什麼也不返回，因此儘管初始列表仍會更改，但您無法將此函數的結果分配給另一個變量："
   ]
  },
  {
   "cell_type": "markdown",
   "metadata": {},
   "source": [
    "The reverse() function is self-evident. Remember, though, that it performs the operation in place, i.e. it returns nothing, so you can't assign the result of this function to another variable, although the initial list will still be changed:"
   ]
  },
  {
   "cell_type": "code",
   "execution_count": null,
   "metadata": {},
   "outputs": [],
   "source": [
    "initial_list = [1, 2, 3, 4, 5]\n",
    "reversed_list = initial_list.reverse()\n",
    "print(reversed_list)  # None\n",
    "print(initial_list)   # [5, 4, 3, 2, 1]"
   ]
  },
  {
   "cell_type": "markdown",
   "metadata": {},
   "source": [
    "\n",
    "調用list.sort（）會根據存儲元素的自然順序以升序對列表進行排序。"
   ]
  },
  {
   "cell_type": "markdown",
   "metadata": {},
   "source": [
    "Invoking list.sort() sorts the list in the ascending order according to the natural order of stored elements.\n",
    "\n"
   ]
  },
  {
   "cell_type": "code",
   "execution_count": null,
   "metadata": {},
   "outputs": [],
   "source": [
    "numbers = [3, 2, 5, 4, 1]\n",
    "numbers.sort()\n",
    "print(numbers)  # [1, 2, 3, 4, 5]"
   ]
  },
  {
   "cell_type": "markdown",
   "metadata": {},
   "source": [
    "注意，sort（）方法執行就地排序，這意味著它將更改原始列表，並且不返回任何內容。注意這一點！"
   ]
  },
  {
   "cell_type": "markdown",
   "metadata": {},
   "source": [
    "Note, that sort() method performs an inplace sorting, meaning that it changes the original list and doesn't return anything. Be careful with this!"
   ]
  },
  {
   "cell_type": "markdown",
   "metadata": {},
   "source": [
    "要按降序對列表進行排序，需要將反向參數指定為True。"
   ]
  },
  {
   "cell_type": "markdown",
   "metadata": {},
   "source": [
    "To sort a list in the descending order, you need to specify reverse argument as True."
   ]
  },
  {
   "cell_type": "code",
   "execution_count": null,
   "metadata": {},
   "outputs": [],
   "source": [
    "numbers = [3, 2, 5, 4, 1]\n",
    "numbers.sort(reverse=True)\n",
    "print(numbers)  # [5, 4, 3, 2, 1]"
   ]
  },
  {
   "cell_type": "markdown",
   "metadata": {},
   "source": [
    "此函數還可以根據字典的順序對字符串進行排序（例如在字典中）。"
   ]
  },
  {
   "cell_type": "markdown",
   "metadata": {},
   "source": [
    "This function can also sort strings according to their lexicographic order (as in a dictionary)."
   ]
  },
  {
   "cell_type": "code",
   "execution_count": null,
   "metadata": {},
   "outputs": [],
   "source": [
    "strings = ['aa', 'b', 'aaa', 'q', 'qq']\n",
    "strings.sort()\n",
    "print(strings)  # ['aa', 'aaa', 'b', 'q', 'qq']"
   ]
  },
  {
   "cell_type": "markdown",
   "metadata": {},
   "source": [
    "如果您的列表具有不可比的類型（例如字符串和整數在一起），則會拋出錯誤："
   ]
  },
  {
   "cell_type": "markdown",
   "metadata": {},
   "source": [
    "If your list has uncomparable types (like strings and integers together), it will throw an error:"
   ]
  },
  {
   "cell_type": "code",
   "execution_count": null,
   "metadata": {},
   "outputs": [],
   "source": [
    "TypeError: '<' not supported between instances of 'str' and 'int'"
   ]
  },
  {
   "cell_type": "markdown",
   "metadata": {},
   "source": [
    "## 4.Membership testing in a list"
   ]
  },
  {
   "cell_type": "markdown",
   "metadata": {},
   "source": [
    "可能非常有用的另一件事是檢查列表中是否存在項目。使用in和not in運算符可以很簡單地完成它："
   ]
  },
  {
   "cell_type": "markdown",
   "metadata": {},
   "source": [
    "Another thing that can be quite useful is checking if an item is present in the list. It can be done quite straightforwardly using in and not in operators:"
   ]
  },
  {
   "cell_type": "code",
   "execution_count": null,
   "metadata": {},
   "outputs": [],
   "source": [
    "catalog = ['yogurt', 'apples', 'oranges', 'bananas', 'milk', 'cheese']\n",
    " \n",
    "print('bananas' in catalog)      # True\n",
    " \n",
    "product = 'lemon'\n",
    "print(product in catalog)        # False\n",
    "print(product not in catalog)    # True"
   ]
  },
  {
   "cell_type": "markdown",
   "metadata": {},
   "source": [
    "我們對帶有列表的基本操作的討論已經結束。如果您需要更多信息，請查閱文檔。"
   ]
  },
  {
   "cell_type": "markdown",
   "metadata": {},
   "source": [
    "Our discussion of the basic operations with lists has come to its end. If you need more information, check out the documentation."
   ]
  }
 ],
 "metadata": {
  "kernelspec": {
   "display_name": "Python 3",
   "language": "python",
   "name": "python3"
  },
  "language_info": {
   "codemirror_mode": {
    "name": "ipython",
    "version": 3
   },
   "file_extension": ".py",
   "mimetype": "text/x-python",
   "name": "python",
   "nbconvert_exporter": "python",
   "pygments_lexer": "ipython3",
   "version": "3.5.5"
  }
 },
 "nbformat": 4,
 "nbformat_minor": 2
}
