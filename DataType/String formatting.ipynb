{
 "cells": [
  {
   "cell_type": "markdown",
   "metadata": {},
   "source": [
    "# Theory: String formatting"
   ]
  },
  {
   "cell_type": "markdown",
   "metadata": {},
   "source": [
    "在某些情況下，您想使字符串成為“動態”字符串，即根據變量或表達式的值來更改它們。 例如，您想提示用戶輸入他們的名字，並用他們輸入的名字向他們打招呼。 但是如何將變量嵌入字符串中？ 如果您以最直觀的方式進行操作，您會失望的：\n",
    "\n",
    "There are certain situations when you want to make your strings kind of \"dynamic\", i.e. make them change depending on the value of a variable or expression. For example, you want to prompt the user for their name and print the greeting to them with the name they entered. But how can you embed a variable into a string? If you do it in the most intuitive way, you'll be disappointed:"
   ]
  },
  {
   "cell_type": "code",
   "execution_count": null,
   "metadata": {},
   "outputs": [],
   "source": [
    "a = input()\n",
    "print('Hello, a')"
   ]
  },
  {
   "cell_type": "markdown",
   "metadata": {},
   "source": [
    "輸出將是：\n",
    "\n",
    "The output will be:"
   ]
  },
  {
   "cell_type": "code",
   "execution_count": null,
   "metadata": {},
   "outputs": [],
   "source": [
    "Hello, a"
   ]
  },
  {
   "cell_type": "markdown",
   "metadata": {},
   "source": [
    "幸運的是，Python提供了多種方法來按您想要的方式格式化輸出，我們將集中在以下兩個方面：\n",
    "\n",
    "- 格式化的字符串文字\n",
    "- 海峽。 格式（）方法"
   ]
  },
  {
   "cell_type": "markdown",
   "metadata": {},
   "source": [
    "Luckily, Python offers a large variety of methods to format the output the way you want and we'll concentrate on the main two:\n",
    "\n",
    "- Formatted string literals\n",
    "- The str. format () method"
   ]
  },
  {
   "cell_type": "markdown",
   "metadata": {},
   "source": [
    "之前使用**％運算符**。 此內置運算符派生自C語言，在某些情況下，通過遵循以下方案使用它：\n",
    "**string % value**\n",
    "因此，％右邊的變量包含在它左邊的字符串中。 如果我們想將10除以3，則/運算符將返回一個帶有很多小數位的浮點數。 使用％字符，我們可以控制小數位數，例如，將其位數減少為3：\n",
    "\n",
    "```print('%.3f' % (10/3))```\n",
    "\n",
    "對於每個操作，您都必須了解很多說明符，長度修飾符和轉換類型。 大量額外的運算符導致了一些常見的錯誤。 這就是為什麼引入了更現代且易於使用的運算符。 進步永無止境，您知道！\n",
    "\n",
    "格式化字符串還可以使代碼看起來更具可讀性和可編輯性。"
   ]
  },
  {
   "cell_type": "markdown",
   "metadata": {},
   "source": [
    "Earlier **the % operator** was in use. This built-in operator derived from C-language and was used in some situations by following the scheme:\n",
    "**string % value**\n",
    "Thus, the variable to the right of % was included in the string to the left of it. If we'd wanted to divide 10 by 3, the / operator would have returned a float number with a lot of decimal places. With % character we could control the number of decimal places, for example, reduce their number to 3:\n",
    "\n",
    "```print('%.3f' % (10/3))```\n",
    "\n",
    "For every operation, you had to know plenty of specifiers, length modifiers and conversion types. A huge variety of extra operators led to some common errors. That's why more modern and easy to use operators were introduced. Progress never stops, you know!\n",
    "\n",
    "Formatting your strings also makes your code look more readable and easily editable."
   ]
  },
  {
   "cell_type": "markdown",
   "metadata": {},
   "source": [
    "##  &sect;1. The str. format() method"
   ]
  },
  {
   "cell_type": "markdown",
   "metadata": {},
   "source": [
    "該方法的操作已經在其名稱中進行了描述：在**字符串**部分，我們引入了花括號作為**格式部分**中列出的變量的佔位符：\n",
    "\n",
    "The operation of the method is already described in its name: in the **string part**, we introduce curly braces as placeholders for variables enlisted in the **format part**:"
   ]
  },
  {
   "cell_type": "code",
   "execution_count": null,
   "metadata": {},
   "outputs": [],
   "source": [
    "print('Mix {}, {} and a {} to make an ideal omelet.'.format('2 eggs', '30 g of milk', 'pinch of salt'))"
   ]
  },
  {
   "cell_type": "markdown",
   "metadata": {},
   "source": [
    "表達式以被提及的順序放置，而不是大括號：\n",
    "\n",
    "The expressions are put instead of braces in the order they were mentioned:"
   ]
  },
  {
   "cell_type": "code",
   "execution_count": null,
   "metadata": {},
   "outputs": [],
   "source": [
    "Mix 2 eggs, 30 g of milk and a pinch of salt to make an ideal omelet."
   ]
  },
  {
   "cell_type": "markdown",
   "metadata": {},
   "source": [
    "如有必要，您可以在一個字符串中多次使用同一變量。 此外，您可以通過引用花括號中的對象來**尋址**對象（通常，編號從零開始）。 注意：您選擇的順序可能非常重要。 以下兩個代碼：\n",
    "\n",
    "You can use the same variable in one string more than once if it's necessary. Furthermore, you can address the objects by referring to their **positions** in curly braces (as usual, the numbering starts from zero). Attention: the order you choose can be very important. The following two codes:"
   ]
  },
  {
   "cell_type": "code",
   "execution_count": null,
   "metadata": {},
   "outputs": [],
   "source": [
    "print('{0} in the {1} by Frank Sinatra'.format('Strangers', 'Night'))"
   ]
  },
  {
   "cell_type": "markdown",
   "metadata": {},
   "source": [
    "和\n",
    "\n",
    "and"
   ]
  },
  {
   "cell_type": "code",
   "execution_count": null,
   "metadata": {},
   "outputs": [],
   "source": [
    "print('{1} in the {0} by Frank Sinatra'.format('Strangers', 'Night'))"
   ]
  },
  {
   "cell_type": "markdown",
   "metadata": {},
   "source": [
    "將具有不同的輸出：\n",
    "\n",
    "will have different outputs:"
   ]
  },
  {
   "cell_type": "code",
   "execution_count": null,
   "metadata": {},
   "outputs": [],
   "source": [
    "Strangers in the Night by Frank Sinatra"
   ]
  },
  {
   "cell_type": "code",
   "execution_count": null,
   "metadata": {},
   "outputs": [],
   "source": [
    "Night in the Strangers by Frank Sinatra"
   ]
  },
  {
   "cell_type": "markdown",
   "metadata": {},
   "source": [
    "第二個輸出聽起來真的很奇怪，不是嗎？\n",
    "\n",
    "如果您在格式部分提到的變量超過了所需的變量，那麼多餘的變量將被忽略。\n",
    "\n",
    "我們還可以使用關鍵字使此類字符串更具可讀性。 不要忘記，您可以輕鬆地打破界限！ 例如：\n",
    "\n",
    "The second output sounds really weird, doesn't it?\n",
    "\n",
    "If you've mentioned more variables than needed in the format part, the extra ones just will be ignored.\n",
    "\n",
    "We can also use keywords to make such string more readable. Don't forget, that you can easily break the lines! For example:"
   ]
  },
  {
   "cell_type": "code",
   "execution_count": null,
   "metadata": {},
   "outputs": [],
   "source": [
    "print('The {film} at {theatre} was {adjective}!'.format(film='Lord of the Rings',\n",
    "                                                        adjective='incredible',\n",
    "                                                        theatre='BFI IMAX'))"
   ]
  },
  {
   "cell_type": "markdown",
   "metadata": {},
   "source": [
    "請注意，如果使用關鍵字，也可以根據需要混合順序。 這是格式化的字符串：\n",
    "\n",
    "Note that you can also mix the order as you want if you use keywords. Here's the formatted string:"
   ]
  },
  {
   "cell_type": "code",
   "execution_count": null,
   "metadata": {},
   "outputs": [],
   "source": [
    "The Lord of the Rings at BFI IMAX was incredible!"
   ]
  },
  {
   "cell_type": "markdown",
   "metadata": {},
   "source": [
    "另外，您可以結合使用位置參數和關鍵字參數：\n",
    "\n",
    "Also, you can combine both positional and keyword arguments:"
   ]
  },
  {
   "cell_type": "code",
   "execution_count": null,
   "metadata": {},
   "outputs": [],
   "source": [
    "print('The {0} was {adjective}!'.format('Lord of the Rings', adjective='incredible'))\n",
    "# The Lord of the Rings was incredible!"
   ]
  },
  {
   "cell_type": "markdown",
   "metadata": {},
   "source": [
    "不過，請注意參數的順序：\n",
    "\n",
    "Keep tabs on the order of your arguments, though:"
   ]
  },
  {
   "cell_type": "code",
   "execution_count": null,
   "metadata": {},
   "outputs": [],
   "source": [
    "print('The {0} was {adjective}!'.format(adjective='incredible', 'Lord of the Rings'))\n",
    "# SyntaxError: positional argument follows keyword argument"
   ]
  },
  {
   "cell_type": "markdown",
   "metadata": {},
   "source": [
    "最後一個代碼段導致```SyntaxError```，因為首先要提到位置參數。\n",
    "\n",
    "The last code snippet resulted in ```SyntaxError```, since positional arguments are to be mentioned first."
   ]
  },
  {
   "cell_type": "markdown",
   "metadata": {},
   "source": [
    "<td bgcolor=pink>請記住，作為Python規則，關鍵字參數總是寫在位置參數或非關鍵字參數之後。</td>\n"
   ]
  },
  {
   "cell_type": "markdown",
   "metadata": {},
   "source": [
    "<td bgcolor=pink>Remember as a Python rule that keyword arguments are always written after positional, or non-keyword, arguments.</td>\n"
   ]
  },
  {
   "cell_type": "markdown",
   "metadata": {},
   "source": [
    "##  &sect;2. Formatted string literals"
   ]
  },
  {
   "cell_type": "markdown",
   "metadata": {},
   "source": [
    "**格式化的字符串文字**（或簡稱為**f字符串**）用於將表達式的值嵌入到字符串文字中。 這種方法應該是最簡單的方法：您只需要在字符串前放置**f**，然後將要嵌入的變量放在花括號中即可。 它們也是Python中所有字符串格式化方法中的最新功能。\n",
    "\n",
    "**Formatted string literals** (or, simply, **f-strings**) are used to embed the values of expressions inside string literals. This way is supposed to be the easiest one: you only need to put **f** before the string and put the variables you want to embed into the string in curly braces. They are also the newest feature among all string formatting methods in Python."
   ]
  },
  {
   "cell_type": "code",
   "execution_count": null,
   "metadata": {},
   "outputs": [],
   "source": [
    "name = 'Elizabeth II'\n",
    "title = 'Queen of the United Kingdom and the other Commonwealth realms'\n",
    "reign = 'the longest-lived and longest-reigning British monarch'\n",
    "f'{name}, the {title}, is {reign}.'"
   ]
  },
  {
   "cell_type": "markdown",
   "metadata": {},
   "source": [
    "如果打印此短字符串，則會看到輸出，其輸出比其在代碼中的表示長五倍：\n",
    "\n",
    "If you print this short string, you'll see an output that is five times longer than its representation in code:"
   ]
  },
  {
   "cell_type": "code",
   "execution_count": null,
   "metadata": {},
   "outputs": [],
   "source": [
    "Elizabeth II, the Queen of the United Kingdom and the other Commonwealth realms, is the longest-lived and longest-reigning British monarch."
   ]
  },
  {
   "cell_type": "markdown",
   "metadata": {},
   "source": [
    "您也可以將不同的格式規範用於f-literal，例如，四捨五入小數將如下所示：\n",
    "\n",
    "You can also use different formatting specifications with f-literals, for example rounding decimals would look like this:"
   ]
  },
  {
   "cell_type": "code",
   "execution_count": null,
   "metadata": {},
   "outputs": [],
   "source": [
    "hundred_percent_number = 1823\n",
    "needed_percent = 16\n",
    "needed_percent_number = hundred_percent_number * needed_percent / 100\n",
    " \n",
    "print(f'{needed_percent}% from {hundred_percent_number} is {needed_percent_number}')\n",
    "# 16% from 1823 is 291.68\n",
    " \n",
    "print(f'Rounding {needed_percent_number} to 1 decimal place is {needed_percent_number:.1f}')\n",
    "# Rounding 291.68 to 1 decimal place is 291.7"
   ]
  },
  {
   "cell_type": "markdown",
   "metadata": {},
   "source": [
    "您可以在[官方文檔](https://docs.python.org/3.6/library/string.html#format-specification-mini-language)中閱讀有關Python格式規範迷你語言的更多信息。\n",
    "\n",
    "也許，您會認為這些方法並不重要且被高估了，但是它們使您有機會使代碼看起來更漂亮且更具可讀性。\n",
    "\n",
    "You can read more about Format Specification Mini-Language in Python in the [official documentation](https://docs.python.org/3.6/library/string.html#format-specification-mini-language).\n",
    "\n",
    "Maybe, you'll think that these methods are not important and overrated but they give you the opportunity to make your code look fancy and readable."
   ]
  }
 ],
 "metadata": {
  "kernelspec": {
   "display_name": "Python 3",
   "language": "python",
   "name": "python3"
  },
  "language_info": {
   "codemirror_mode": {
    "name": "ipython",
    "version": 3
   },
   "file_extension": ".py",
   "mimetype": "text/x-python",
   "name": "python",
   "nbconvert_exporter": "python",
   "pygments_lexer": "ipython3",
   "version": "3.6.8"
  }
 },
 "nbformat": 4,
 "nbformat_minor": 2
}
