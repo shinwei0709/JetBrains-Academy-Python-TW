{
 "cells": [
  {
   "cell_type": "markdown",
   "metadata": {},
   "source": [
    "整數運算 (Integer arithmetic)\n",
    "\n",
    "1.被零除 Division by zero\n",
    "\n",
    "如果在Python中將任何數字除以零會發生什麼？\n",
    "\n",
    "What will happen if you divide any number by zero in Python?\n",
    "\n",
    "Select one option from the list\n",
    "\n",
    "(a)undefined\n",
    "\n",
    "(b)0\n",
    "\n",
    "(c)ZeroDivisionError exception\n",
    "\n",
    "(d)InvalidOperation exception\n",
    "\n",
    "2.讓我們算一些數學 Let's do some math\n",
    "\n",
    "以下Python算式的結果是什麼？\n",
    "\n",
    "What is the result of the following Python expression?\n"
   ]
  },
  {
   "cell_type": "code",
   "execution_count": null,
   "metadata": {},
   "outputs": [],
   "source": [
    "print(((3 + 5) // 2 * 2 ** 3) % 7)"
   ]
  },
  {
   "cell_type": "markdown",
   "metadata": {},
   "source": [
    "3.計算餘數 Calculate a remainder\n",
    "\n",
    "寫一個程是，計算10的餘數除以3並輸出結果\n",
    "\n",
    "Write a program that calculates the remainder of 10 divided by 3 and prints the result\n"
   ]
  },
  {
   "cell_type": "code",
   "execution_count": null,
   "metadata": {},
   "outputs": [],
   "source": [
    "print(10%3)"
   ]
  },
  {
   "cell_type": "markdown",
   "metadata": {},
   "source": [
    "\n",
    "4.次方 The power\n",
    "\n",
    "請print（）以下操作的結果：首先將31提高到331次方；將結果除以20\n"
   ]
  },
  {
   "cell_type": "code",
   "execution_count": null,
   "metadata": {},
   "outputs": [],
   "source": [
    "a=31 ** 331 % 20\n",
    "print(a)\n"
   ]
  },
  {
   "cell_type": "markdown",
   "metadata": {},
   "source": [
    "5.平方根 Square root\n",
    "\n",
    "取數字的平方根等同於取此數字的某次方。我們是在說幾次方？\n",
    "\n",
    "Extracting the square root of a number is equivalent to raising this number to a certain power. What power are we talking about?"
   ]
  }
 ],
 "metadata": {
  "kernelspec": {
   "display_name": "Python 3",
   "language": "python",
   "name": "python3"
  },
  "language_info": {
   "codemirror_mode": {
    "name": "ipython",
    "version": 3
   },
   "file_extension": ".py",
   "mimetype": "text/x-python",
   "name": "python",
   "nbconvert_exporter": "python",
   "pygments_lexer": "ipython3",
   "version": "3.7.6"
  }
 },
 "nbformat": 4,
 "nbformat_minor": 4
}
