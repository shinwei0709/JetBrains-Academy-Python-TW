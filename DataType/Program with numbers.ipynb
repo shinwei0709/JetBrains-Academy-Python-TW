{
 "cells": [
  {
   "cell_type": "markdown",
   "metadata": {},
   "source": [
    "# Theory: Program with numbers\n"
   ]
  },
  {
   "cell_type": "markdown",
   "metadata": {},
   "source": [
    "無需計算的程序非常罕見。 因此，學習用數字編程永遠不是一個壞選擇。 我們將要學習的更有價值的技能是用戶數據的處理。 借助它，您可以創建交互式且更加靈活的應用程序。 因此，讓我們開始吧！\n",
    "\n",
    "Programs in which there's nothing to calculate are quite rare. Therefore, learning to program with numbers is never a bad choice. Even more valuable skill we are about to learn is the processing of user data. By means of it, you can create interactive and by far more flexible applications. So let's get started!"
   ]
  },
  {
   "cell_type": "markdown",
   "metadata": {},
   "source": [
    "##  &sect;1. Reading numbers from user input"
   ]
  },
  {
   "cell_type": "markdown",
   "metadata": {},
   "source": [
    "由於您已經熟悉Python中的```input（）```函數，因此傳遞給該函數的任何數據都被視為字符串對您來說並不陌生。 但是，我們應該如何處理數值呢？ 通常，將它們顯式轉換為相應的數字類型：\n",
    "\n",
    "Since you have become familiar with the input() function in Python, it's hardly new to you that any data passed to this function is treated as a string. But how should we deal with numerical values? As a general rule, they are explicitly converted to corresponding numerical types:"
   ]
  },
  {
   "cell_type": "code",
   "execution_count": null,
   "metadata": {},
   "outputs": [],
   "source": [
    "integer = int(input())\n",
    "floating_point = float(input())"
   ]
  },
  {
   "cell_type": "markdown",
   "metadata": {},
   "source": [
    "注意當前的最佳實踐：至關重要的是不要將變量命名為內置類型（例如，float或int）。 另一個警告與用戶錯誤有關。 如果用戶輸入的輸入不正確，則會發生```ValueError```。 目前，我們將僅限於此。 不用擔心，有關錯誤的更多信息可在專用主題中找到。 現在，考慮處理數字輸入的更詳細，更實際的示例。\n",
    "\n",
    "Pay attention to current best practices: it's crucial not to name your variables as built-in types (say, float or int). Yet another caveat is related to user mistakes. If a user writes an inaccurate input, ValueError will occur. At the moment, we'll limit ourselves to this. But not to worry, more information about errors is available in a dedicated topic. Now, consider a more detailed and pragmatic example of handling numerical inputs."
   ]
  },
  {
   "cell_type": "markdown",
   "metadata": {},
   "source": [
    "## &sect;2. Free air miles"
   ]
  },
  {
   "cell_type": "markdown",
   "metadata": {},
   "source": [
    "想像一下，您有一張帶有免費航空里程獎勵計劃的信用卡（或者您可能已經有一張）。 作為用戶，您應該每月輸入平均從此卡上花費的金額。 假設獎金計劃為您每消費1美元，即可獲得2英里的免費飛行里程。 這是一個簡單的程序，可以弄清楚何時可以免費旅行：\n",
    "\n",
    "Imagine you have a credit card with a free air miles bonus program (or maybe you already have one). As a user, you are expected to input the amount of money you spend on average from this card per month. Let's assume that the bonus program gives you 2 free air miles for every dollar you spend. Here's a simple program to figure out when you can travel somewhere for free:"
   ]
  },
  {
   "cell_type": "code",
   "execution_count": null,
   "metadata": {},
   "outputs": [],
   "source": [
    "# the average amount of money per month\n",
    "money = int(input(\"How much money do you spend per month: \"))\n",
    " \n",
    "# the number of miles per piece of money\n",
    "n_miles = 2\n",
    " \n",
    "# earned miles\n",
    "miles_per_month = money * n_miles\n",
    " \n",
    "# the distance between London and Paris\n",
    "distance = 215\n",
    " \n",
    "# how many months do you need to get\n",
    "# a free trip from London to Paris and back\n",
    "print(distance * 2 / miles_per_month)"
   ]
  },
  {
   "cell_type": "markdown",
   "metadata": {},
   "source": [
    "該程序將計算您需要多少個月才能往返選定的距離。\n",
    "\n",
    "This program will calculate how many months you need to travel the selected distance and back."
   ]
  },
  {
   "cell_type": "markdown",
   "metadata": {},
   "source": [
    "<td bgcolor=pink>儘管建議在input（）函數中為用戶編寫消息，但在我們的教育性編程挑戰中避免它們，否則您的代碼可能無法通過我們的測試。</td>\n"
   ]
  },
  {
   "cell_type": "markdown",
   "metadata": {},
   "source": [
    "<td bgcolor=pink>Although it is recommended to write messages for users in the input() function, avoid them in our educational programming challenges, otherwise your code may not pass our tests.</td>"
   ]
  },
  {
   "cell_type": "markdown",
   "metadata": {},
   "source": [
    "## &sect;3. Advanced forms of assignment"
   ]
  },
  {
   "cell_type": "markdown",
   "metadata": {},
   "source": [
    "每當使用等號=時，實際上就為名稱分配了一些值。 因此，```=```通常稱為賦值運算符。 同時，還有其他可在Python中使用的賦值運算符。 它們也稱為複合賦值運算符，因為它們可以一步執行算術運算和賦值。 看看下面的代碼片段：\n",
    "\n",
    "Whenever you use an equal sign =, you actually assign some value to a name. For that reason, = is typically referred to as an assignment operator. Meanwhile, there are other assignment operators you can use in Python. They are also called compound assignment operators, for they carry out an arithmetic operation and assignment in one step. Have a look at the code snippet below:"
   ]
  },
  {
   "cell_type": "code",
   "execution_count": null,
   "metadata": {},
   "outputs": [],
   "source": [
    "# simple assignment\n",
    "number = 10\n",
    "number = number + 1  # 11"
   ]
  },
  {
   "cell_type": "markdown",
   "metadata": {},
   "source": [
    "此代碼等效於以下代碼：\n",
    "\n",
    "This code is equivalent to the following one:"
   ]
  },
  {
   "cell_type": "code",
   "execution_count": null,
   "metadata": {},
   "outputs": [],
   "source": [
    "# compound assignment\n",
    "number = 10\n",
    "number += 1  # 11"
   ]
  },
  {
   "cell_type": "markdown",
   "metadata": {},
   "source": [
    "從示例中可以清楚地看到第二段代碼更加簡潔（因為它沒有重複變量的名稱）。\n",
    "\n",
    "自然，其餘的算術運算也存在類似的賦值形式：```-=，*=，/=，//=，％=，**=```。 如果有機會，可以利用它們節省時間和精力。\n",
    "\n",
    "接下來是複合分配的一種可能的應用。\n",
    "\n",
    "One can clearly see from the example that the second piece of code is more concise (for it doesn't repeat the variable's name).\n",
    "\n",
    "Naturally, similar assignment forms exist for the rest of arithmetic operations: -=, *=, /=, //=, %=, **=. Given the opportunity, use them to save time and effort.\n",
    "\n",
    "One possible application of compound assignment comes next."
   ]
  },
  {
   "cell_type": "markdown",
   "metadata": {},
   "source": [
    "## &sect;4. Counter variable"
   ]
  },
  {
   "cell_type": "markdown",
   "metadata": {},
   "source": [
    "在編程中，循環與稱為計數器的特殊變量一起使用。 計數器計算特定代碼的運行次數。 同樣，計數器應為整數。 現在我們到了要點-您可以使用運算符```+=```和```-=```分別增加或減少計數器。\n",
    "\n",
    "考慮以下示例，其中用戶確定計數器增加的值：\n",
    "\n",
    "In programming, loops are used alongside with special variables called counters. A counter counts how many times a particular code is run. It also follows that counters should be integers. Now we are getting to the point - you can use the operators += and -= to increase or decrease the counter respectively.\n",
    "\n",
    "Consider this example where a user determines the value by which the counter is increased:"
   ]
  },
  {
   "cell_type": "code",
   "execution_count": null,
   "metadata": {},
   "outputs": [],
   "source": [
    "counter = 1\n",
    "step = int(input())  # let it be 3\n",
    "counter += step\n",
    "print(counter)  # it should be 4, then"
   ]
  },
  {
   "cell_type": "markdown",
   "metadata": {},
   "source": [
    "如果您只需要用戶提供非負整數（畢竟我們要增加計數器！），則可以使用```abs（）```函數防止輸入錯誤。 它適用於Python內置函數，並返回數字的絕對值（即，值與其符號無關）。 讓我們重新調整最後一個程序：\n",
    "\n",
    "In case you need only non-negative integers from the user (we are increasing the counter after all!), you can prevent incorrect inputs by using the abs() function. It pertains to Python built-ins and returns the absolute value of a number (that is, value regardless of its sign). Let's readjust our last program a bit:"
   ]
  },
  {
   "cell_type": "code",
   "execution_count": null,
   "metadata": {},
   "outputs": [],
   "source": [
    "counter = 1\n",
    "step = abs(int(input()))  # user types -3\n",
    "counter += step\n",
    "print(counter)  # it's still 4"
   ]
  },
  {
   "cell_type": "markdown",
   "metadata": {},
   "source": [
    "如您所見，多虧了```abs（）```函數，我們得到了一個正數。\n",
    "\n",
    "As you can see, thanks to the abs() function we got a positive number."
   ]
  },
  {
   "cell_type": "markdown",
   "metadata": {},
   "source": [
    "<td bgcolor=blue>到目前為止，您可以對傳遞錯誤，循環和內置函數（在Python中進行數學運算）所提及的內容不了解太多。 我們將追趕並確保您全面了解這些主題。 繼續與我們學習！</td>"
   ]
  },
  {
   "cell_type": "markdown",
   "metadata": {},
   "source": [
    "<td bgcolor=blue>For now, it's all right that you do not know that much about mentioned in passing errors, loops and built-in functions doing the math in Python. We will catch up and make sure that you know these topics comprehensively. Keep learning with us!</td>"
   ]
  },
  {
   "cell_type": "markdown",
   "metadata": {},
   "source": [
    "因此，我們闡明了有關整數運算和Python中數字輸入處理的新細節。 隨時在將來的項目中使用它們。\n",
    "\n",
    "Thus, we have shed some light on new details about integer arithmetic and the processing of numerical inputs in Python. Feel free to use them in your future projects."
   ]
  }
 ],
 "metadata": {
  "kernelspec": {
   "display_name": "Python 3",
   "language": "python",
   "name": "python3"
  },
  "language_info": {
   "codemirror_mode": {
    "name": "ipython",
    "version": 3
   },
   "file_extension": ".py",
   "mimetype": "text/x-python",
   "name": "python",
   "nbconvert_exporter": "python",
   "pygments_lexer": "ipython3",
   "version": "3.6.8"
  }
 },
 "nbformat": 4,
 "nbformat_minor": 2
}
