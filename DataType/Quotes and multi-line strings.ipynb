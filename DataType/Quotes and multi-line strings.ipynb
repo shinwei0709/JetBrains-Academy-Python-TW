{
 "cells": [
  {
   "cell_type": "markdown",
   "metadata": {},
   "source": [
    "# Theory: Quotes and multi-line strings"
   ]
  },
  {
   "cell_type": "markdown",
   "metadata": {},
   "source": [
    "您已經熟悉了在編程中極為常見和有用的字符串。 讓我們看一下與引號和多行字符串有關的Python字符串的某些功能。\n",
    "\n",
    "You are already familiar with strings that are extremely common and useful in programming. Let's take a look at some features of Python strings related to quotes and multi-line strings."
   ]
  },
  {
   "cell_type": "markdown",
   "metadata": {},
   "source": [
    "##  &sect;1. Quotes"
   ]
  },
  {
   "cell_type": "markdown",
   "metadata": {},
   "source": [
    "如您所知，字符串文字被一對單引號或雙引號引起來。 兩者之間基本上沒有區別，但是有一些關於用法的通用約定：\n",
    " - 如果您的字符串包含單引號，請使用雙引號，例如，```\"您做得很好！\"```\n",
    " - 如果您的字符串包含雙引號，請使用單引號，例如，```'您是否閱讀過\" Hamlet\"？'```\n",
    " - 不要在一個文字中混合使用兩種樣式，例如``` \"string！'```之類的東西 是不正確的\n",
    " - 最重要的是，**請保持一致！**\n",
    " \n",
    "\n",
    "As you know, a string literal is surrounded by a pair of single or double quotes. There is basically no difference between the two, but there are some common conventions concerning the use:\n",
    " - use double quotes if your string contains single quotes, for example, ```\"You're doing great!\"```\n",
    " - use single quotes if your string contains double quotes, for example, ```'Have you read \"Hamlet\"?'```\n",
    " - do NOT mix two styles in one literal, for example, something like ```\"string!' ```is NOT correct\n",
    " - most importantly, be **consistent** in your use!"
   ]
  },
  {
   "cell_type": "markdown",
   "metadata": {},
   "source": [
    "不管外部引號的樣式如何，都有一種在字符串中包括所有引號的方法，即在字符串內部的引號之前使用**反斜杠符號（\\）**。 反斜杠基本上會告訴Python，其後的引號是字符串的一部分，而不是字符串的結尾或開頭。 這稱為**轉義**，您將在下一個主題中詳細了解它。\n",
    "\n",
    "因此，在下面的示例中，兩種寫字符串的方法都是正確的，並且會產生相同的結果：\n",
    "\n",
    "There is a way to include any quotes in your string, regardless of the style of the outer quotes, and that is to use the **backslash symbol (\\)**before the quotes inside of the string. The backslash will basically tell Python that the quote symbol that follows it is a part of the string rather than its end or beginning. It is called **escaping**, and you'll learn about it in detail in the next topics. \n",
    "\n",
    "So in the examples below both ways of writing the strings are correct and will produce the same result:"
   ]
  },
  {
   "cell_type": "code",
   "execution_count": null,
   "metadata": {},
   "outputs": [],
   "source": [
    "# example 1\n",
    "print(\"You're doing great!\")\n",
    "print('You\\'re doing great!')\n",
    "# example 2\n",
    "print(\"Have you read \\\"Hamlet\\\"?\")\n",
    "print('Have you read \"Hamlet\"?')"
   ]
  },
  {
   "cell_type": "markdown",
   "metadata": {},
   "source": [
    "##  &sect;2. Multiline strings"
   ]
  },
  {
   "cell_type": "markdown",
   "metadata": {},
   "source": [
    "字符串可以表示一個長文本，一個字符或什至零個字符（如空字符串）。 但是到目前為止，無論多長時間，我們的琴弦都只能排成一行。 您還可以在Python中編寫**多行字符串**，為此，您需要在字符串文字的每一側使用**三引號**。 同樣，單引號還是雙引號由您決定，兩者都可以在Python中正常工作。\n",
    "\n",
    "Strings can represent a long text, a single character or even zero characters (like an empty string). But so far our strings were just in one line, no matter how long they were. You can also write **multi-line** strings in Python, and to do that you need to use **triple quotes** on each side of the string literal. Again, which quotes to choose, single or double, is up to you, both work fine in Python."
   ]
  },
  {
   "cell_type": "markdown",
   "metadata": {},
   "source": [
    "- Multi-line string in double quotes:"
   ]
  },
  {
   "cell_type": "code",
   "execution_count": null,
   "metadata": {},
   "outputs": [],
   "source": [
    "print(\"\"\"This\n",
    "is\n",
    "a\n",
    "multi-line\n",
    "string\"\"\")"
   ]
  },
  {
   "cell_type": "markdown",
   "metadata": {},
   "source": [
    "- Multi-line string in single quotes:"
   ]
  },
  {
   "cell_type": "code",
   "execution_count": null,
   "metadata": {},
   "outputs": [],
   "source": [
    "print('''This\n",
    "is\n",
    "a\n",
    "multi-line\n",
    "string''')"
   ]
  },
  {
   "cell_type": "markdown",
   "metadata": {},
   "source": [
    "Both examples print the same result:"
   ]
  },
  {
   "cell_type": "code",
   "execution_count": null,
   "metadata": {},
   "outputs": [],
   "source": [
    "This\n",
    "is\n",
    "a\n",
    "multi-line\n",
    "string"
   ]
  },
  {
   "cell_type": "markdown",
   "metadata": {},
   "source": [
    "好吧，這些只是一些基礎知識，Python中的字符串更加有趣，您可以使用它們做很多事情！\n",
    "\n",
    "Well, these are just some basics, strings in Python are much more interesting, and there are so many things you can do with them!"
   ]
  }
 ],
 "metadata": {
  "kernelspec": {
   "display_name": "Python 3",
   "language": "python",
   "name": "python3"
  },
  "language_info": {
   "codemirror_mode": {
    "name": "ipython",
    "version": 3
   },
   "file_extension": ".py",
   "mimetype": "text/x-python",
   "name": "python",
   "nbconvert_exporter": "python",
   "pygments_lexer": "ipython3",
   "version": "3.6.8"
  }
 },
 "nbformat": 4,
 "nbformat_minor": 2
}
