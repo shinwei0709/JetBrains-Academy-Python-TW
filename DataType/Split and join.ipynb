{
 "cells": [
  {
   "cell_type": "markdown",
   "metadata": {},
   "source": [
    "# Theory: Split and join"
   ]
  },
  {
   "cell_type": "markdown",
   "metadata": {},
   "source": [
    "在Python中，字符串和列表非常相似。 首先，它們都屬於**序列**，儘管字符串只限於字符，而列表可以存儲不同類型的數據。 另外，您可以**遍歷**字符串和列表。 但是，有時您需要將字符串轉換為列表，反之亦然。 Python有這種工具。 可以幫助您完成此任務的方法是```split（）```，```join（）```和```splitlines（）```。\n",
    "\n",
    "In Python, strings and lists are quite similar. Firstly, they both pertain to **sequences**, although strings are limited to characters while lists can store data of different types. In addition, you can **iterate** both over strings and lists. However, sometimes you need to turn a string into a list or vice versa. Python has this kind of tools. The methods that will help you to accomplish this task are ```split()```, ```join()``` and ```splitlines()```."
   ]
  },
  {
   "cell_type": "markdown",
   "metadata": {},
   "source": [
    "##  &sect;1. Split a string"
   ]
  },
  {
   "cell_type": "markdown",
   "metadata": {},
   "source": [
    "```split（）```方法通過**分隔符**將字符串劃分為子字符串。 如果未指定分隔符，則默認使用空格。 該方法返回所有子字符串的**列表**，並且值得注意的是，分隔符本身不包含在任何子字符串中。\n",
    "\n",
    "The ```split()``` method divides a string into substrings by a **separator**. If the separator isn't given, whitespace is used as a default. The method returns a **list** of all the substrings and, notably, the separator itself is not included in any of the substrings."
   ]
  },
  {
   "cell_type": "code",
   "execution_count": null,
   "metadata": {},
   "outputs": [],
   "source": [
    "# split example\n",
    "definition = input()  # 'Coin of the realm is the legal money of the country' \n",
    " \n",
    "definition.split()\n",
    "# ['Coin', 'of', 'the', 'realm', 'is', 'the', 'legal', 'money', 'of', 'the', 'country']\n",
    " \n",
    "definition.split(\"legal\")\n",
    "# ['Coin of the realm is the ', ' money of the country']"
   ]
  },
  {
   "cell_type": "markdown",
   "metadata": {},
   "source": [
    "您還可以使用分隔符後的```maxsplit```參數指定要進行多少次拆分。 結果列表中的元素數將等於```maxsplit + 1```。\n",
    "\n",
    "如果未指定參數，則會進行所有可能的分割。\n",
    "\n",
    "You can also specify how many times the split is going to be done with the ```maxsplit``` argument that comes after the separator. The number of elements in the resulting list will be equal to ```maxsplit + 1```.\n",
    "\n",
    "If the argument isn't specified, all possible splits are made."
   ]
  },
  {
   "cell_type": "code",
   "execution_count": null,
   "metadata": {},
   "outputs": [],
   "source": [
    "# maxsplit example\n",
    "definition = input()  # 'Coin of the realm is the legal money of the country'\n",
    " \n",
    "definition.split(\"of\", 1)\n",
    "# ['Coin ', ' the realm is the legal money of the country']\n",
    " \n",
    "definition.split(\"of\")\n",
    "# ['Coin ', ' the realm is the legal money ', ' the country']"
   ]
  },
  {
   "cell_type": "markdown",
   "metadata": {},
   "source": [
    "如果字符串中未出現分隔符，則該方法的結果將是一個列表，其中原始字符串是其唯一元素：\n",
    "\n",
    "If the separator doesn't occur in the string, then the result of the method is a list with the original string as its only element:"
   ]
  },
  {
   "cell_type": "code",
   "execution_count": null,
   "metadata": {},
   "outputs": [],
   "source": [
    "definition = input()  # 'Coin of the realm is the legal money of the country'\n",
    " \n",
    "definition.split(\"hi!\")  # wrong separator\n",
    "# ['Coin of the realm is the legal money of the country']"
   ]
  },
  {
   "cell_type": "markdown",
   "metadata": {},
   "source": [
    "因此，在所有情況下，```split（）```都允許我們將字符串轉換為列表。\n",
    "\n",
    "使用```split（）```將輸入直接讀取到多個變量中可能也很有用：\n",
    "\n",
    "\n",
    "Thus, in all cases ```split()``` allows us to convert a string into a list.\n",
    "\n",
    "It may also be useful to read input directly into several variables with ```split()```:"
   ]
  },
  {
   "cell_type": "code",
   "execution_count": null,
   "metadata": {},
   "outputs": [],
   "source": [
    "name, surname = input().split()  # Forrest Gump\n",
    " \n",
    "print(name)     # Forrest\n",
    "print(surname)  # Gump"
   ]
  },
  {
   "cell_type": "markdown",
   "metadata": {},
   "source": [
    "當您知道輸入值的確切數量時，這非常有效。 如果您不這樣做，很可能會導致```ValueError```並顯示一條消息，告訴您有太多無法解包的值或其中的值不足。 所以記住這一點！\n",
    "\n",
    "It's pretty efficient when you know the exact number of input values. In case you don't, it's likely to result in ```ValueError``` with a message telling you either that there are too many values to unpack or not enough of them. So keep that in mind!"
   ]
  },
  {
   "cell_type": "markdown",
   "metadata": {},
   "source": [
    "##  &sect;2. Join a list"
   ]
  },
  {
   "cell_type": "markdown",
   "metadata": {},
   "source": [
    "```join（）```方法用於從字符串集合中創建一個字符串。 但是，其使用有許多限制。 首先，方法的參數必須是一個以字符串為元素的**可迭代對象**。 其次，該方法必須應用於**分隔符**：一個字符串，該字符串將分隔結果字符串對像中的元素。 參見以下示例：\n",
    "\n",
    "The ```join()``` method is used to create a string out of a collection of strings. However, its use has a number of limitations. First, the argument of the method must be an **iterable** object with strings as its elements. And second, the method must be applied to a **separator**: a string that will separate the elements in a resulting string object. See below the examples of that:"
   ]
  },
  {
   "cell_type": "code",
   "execution_count": null,
   "metadata": {},
   "outputs": [],
   "source": [
    "word_list  = [\"dog\", \"cat\", \"rabbit\", \"parrot\"]\n",
    " \n",
    "\" \".join(word_list)  # \"dog cat rabbit parrot\"\n",
    "\"\".join(word_list)  # \"dogcatrabbitparrot\"\n",
    "\"_\".join(word_list)  # \"dog_cat_rabbit_parrot\"\n",
    "\" and \".join(word_list)  # \"dog and cat and rabbit and parrot\""
   ]
  },
  {
   "cell_type": "markdown",
   "metadata": {},
   "source": [
    "請注意，僅當可迭代對像中的元素是**字符串**時，此方法才有效。 例如，如果您要創建一個整數字符串，則它將不起作用。 在這種情況下，您需要將整數明確轉換為字符串，或者僅從一開始就使用字符串。\n",
    "\n",
    "Note that this method only works if the elements in the iterable object are **strings**. If, for example, you want to create a string of integers, it will not work. In this case, you need to convert the integers into strings explicitly or just work with strings right from the outset."
   ]
  },
  {
   "cell_type": "code",
   "execution_count": null,
   "metadata": {},
   "outputs": [],
   "source": [
    "int_list = [1, 2, 3]\n",
    "\" \".join(int_list)  # TypeError!\n",
    " \n",
    "str_list = [\"1\", \"2\", \"3\"]\n",
    "\" \".join(str_list)  # \"1 2 3\""
   ]
  },
  {
   "cell_type": "markdown",
   "metadata": {},
   "source": [
    "##  &sect;3. Split multiple lines"
   ]
  },
  {
   "cell_type": "markdown",
   "metadata": {},
   "source": [
    "```splitlines（）```方法與```split（）```類似，但是它專門用於按行邊界分割字符串。 有許多轉義序列表示行的結尾，但是```split（）```方法只能採用一個分隔符。 所以這是```splitlines（）```方法派上用場的地方：\n",
    "\n",
    "The ```splitlines()``` method is similar to ```split()```, but it is used specifically to split the string by the line boundaries. There are many escape sequences that signify the end of the line, but the ```split()``` method can only take one separator. So this is where the ```splitlines()``` method comes in handy:"
   ]
  },
  {
   "cell_type": "code",
   "execution_count": null,
   "metadata": {},
   "outputs": [],
   "source": [
    "# splitlines example\n",
    "long_text = 'first line\\nsecond line\\rthird line\\r\\nforth line'\n",
    " \n",
    "long_text.splitlines()\n",
    "# ['first line', 'second line', 'third line', 'forth line']"
   ]
  },
  {
   "cell_type": "markdown",
   "metadata": {},
   "source": [
    "該方法具有一個可選的參數```keepends```，該值的值為True或False。 如果```keepends = True```換行符包含在結果列表中：\n",
    "\n",
    "The method has an optional argument ```keepends``` that has a True or False value. If ```keepends = True``` linebreaks are included in the resulting list:"
   ]
  },
  {
   "cell_type": "code",
   "execution_count": null,
   "metadata": {},
   "outputs": [],
   "source": [
    "# keepends\n",
    "long_text = 'first line\\nsecond line\\rthird line\\r\\nforth line'\n",
    " \n",
    "long_text.splitlines(keepends=True)\n",
    "# ['first line\\n', 'second line\\r', 'third line\\r\\n', 'forth line']"
   ]
  },
  {
   "cell_type": "markdown",
   "metadata": {},
   "source": [
    "您也可以一次使用多個字符串方法。 這稱為**鏈接**，它之所以有效，是因為大多數字符串方法都返回原始字符串的副本：\n",
    "\n",
    "You can also use several string methods at once. It is called **chaining**, and it works because most of the string methods return a copy of  the original string:"
   ]
  },
  {
   "cell_type": "code",
   "execution_count": null,
   "metadata": {},
   "outputs": [],
   "source": [
    "# chaining example\n",
    "sent = input()  # \"Mary had a little lamb\"\n",
    "new_sent = sent.lower().split()\n",
    "# [\"mary\", \"had\", \"a\", \"little\", \"lamb\"]"
   ]
  },
  {
   "cell_type": "markdown",
   "metadata": {},
   "source": [
    "但是不要氣carried，因為一行的長度不應超過79個字符，我們絕對不希望破壞PEP 8！\n",
    "\n",
    "But do not get carried away, because the length of a line should be no more than 79 characters, and we definitely do not want to break PEP 8!"
   ]
  },
  {
   "cell_type": "markdown",
   "metadata": {},
   "source": [
    "##  &sect;4. Conclusion"
   ]
  },
  {
   "cell_type": "markdown",
   "metadata": {},
   "source": [
    "我們已經學習瞭如何通過```split（）```和```splitlines（）```方法將字符串轉換為列表，以及如何通過```join（）```方法從列表中獲取字符串。 作為回顧，請考慮以下內容：\n",
    "- 拆分和聯接方法**不會更改**原始字符串。\n",
    "- 如果需要多次使用“更改的”字符串，則需要將相應方法的結果分配給變量。\n",
    "- 如果只需要使用一次此結果，則可以當場使用它，例如，```print（）```它。\n",
    "- 字符串方法中有很多參數。 如果需要微調程序，可以查看[文檔](https://docs.python.org/3/library/stdtypes.html#str)。"
   ]
  },
  {
   "cell_type": "markdown",
   "metadata": {},
   "source": [
    "We have learned how to convert strings to lists via the ```split()``` and ```splitlines()``` methods, and how to get strings back from lists via the ```join()``` method. As a recap, consider the following:\n",
    "\n",
    "- Splitting and joining methods **do not change** the original string.\n",
    "- If you need to use the \"changed\" string several times, you need to assign the result of the respective method to a variable.\n",
    "- If you need to use this result only once, you can work with it on spot, for example, ```print()``` it.\n",
    "- There are a lot of parameters in string methods. You can check the [documentation](https://docs.python.org/3/library/stdtypes.html#str) if you need to fine-tune your program."
   ]
  }
 ],
 "metadata": {
  "kernelspec": {
   "display_name": "Python 3",
   "language": "python",
   "name": "python3"
  },
  "language_info": {
   "codemirror_mode": {
    "name": "ipython",
    "version": 3
   },
   "file_extension": ".py",
   "mimetype": "text/x-python",
   "name": "python",
   "nbconvert_exporter": "python",
   "pygments_lexer": "ipython3",
   "version": "3.6.8"
  }
 },
 "nbformat": 4,
 "nbformat_minor": 2
}
