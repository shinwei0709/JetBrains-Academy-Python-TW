{
 "cells": [
  {
   "cell_type": "markdown",
   "metadata": {},
   "source": [
    "索引 (Indexes)\n",
    "\n",
    "1.猜結果 Guess the outcome\n",
    "\n",
    "猜猜我們在運行下面的程式碼時會發生什麼：\n",
    "\n",
    "Guess what happens when we run the code below:"
   ]
  },
  {
   "cell_type": "code",
   "execution_count": null,
   "metadata": {},
   "outputs": [],
   "source": [
    "boat = [1, 2, 3, 'dog']\n",
    "print(boat[4])"
   ]
  },
  {
   "cell_type": "markdown",
   "metadata": {},
   "source": [
    "\n",
    "Select one option from the list\n",
    "\n",
    "(a)boat[4]\n",
    "\n",
    "(b)1\n",
    "\n",
    "(c)'dog'\n",
    "\n",
    "(d)IndexError\n",
    "\n",
    "2.發現錯誤 Find an error\n",
    "\n",
    "哪一行程式碼會導致錯誤？\n",
    "\n",
    "Which line of code will cause an error?\n"
   ]
  },
  {
   "cell_type": "code",
   "execution_count": null,
   "metadata": {},
   "outputs": [],
   "source": [
    "fruits = [\"apple\", \"pear\", \"orange\", \"mango\", \"peach\"]\n",
    " \n",
    "print(fruits[0])     # 1\n",
    "print(fruits[-5])    # 2\n",
    "print(fruits[5])     # 3\n",
    "print(fruits[4-2])   # 4"
   ]
  },
  {
   "cell_type": "markdown",
   "metadata": {},
   "source": [
    "\n",
    "Select one or more options from the list\n",
    "\n",
    "(a)1\n",
    "\n",
    "(b)2\n",
    "\n",
    "(c)3\n",
    "\n",
    "(d)4\n",
    "\n",
    "3.拉丁字母 Latin alphabet\n",
    "\n",
    "我們為alphabet創建了一個變量：\n",
    "\n",
    "We have created a variable for the lowercase English alphabet:\n"
   ]
  },
  {
   "cell_type": "code",
   "execution_count": null,
   "metadata": {},
   "outputs": [],
   "source": [
    "alphabet = 'abcdefghijklmnopqrstuvwxyz'"
   ]
  },
  {
   "cell_type": "markdown",
   "metadata": {},
   "source": [
    "\n",
    "Your task is to print the 15th letter of this string.\n",
    "\n",
    "\n",
    "你的任務是輸出此字串的第15個字母。\n"
   ]
  },
  {
   "cell_type": "code",
   "execution_count": null,
   "metadata": {},
   "outputs": [],
   "source": [
    "alphabet = 'abcdefghijklmnopqrstuvwxyz'\n",
    "print(alphabet[14])"
   ]
  },
  {
   "cell_type": "markdown",
   "metadata": {},
   "source": [
    "\n",
    "4.尾巴 Tail\n",
    "\n",
    "句子通常以特定的標點符號結尾：句點。，感嘆號！或問號？\n",
    "\n",
    "找出是哪個符號存儲在字串的結尾並輸出\n"
   ]
  },
  {
   "cell_type": "code",
   "execution_count": null,
   "metadata": {},
   "outputs": [],
   "source": [
    "a=len(sentence)\n",
    "print(sentence[a-1])\n"
   ]
  },
  {
   "cell_type": "markdown",
   "metadata": {},
   "source": [
    "5.修改資料 Modifying data\n",
    "\n",
    "列表與字串不同，列表是可變的。我們可以使用它來修改帶有索引的數據。\n",
    "\n",
    "這裡有一個planets的列表，上面有太陽系行星的名字。但是，不是第5顆行星，而是X。將其重新分配為第5顆行星的真實名稱。\n",
    "\n",
    "請注意，已經定義了planets列表，您只需要更改一個元素即可。\n",
    "\n",
    "Lists, unlike strings, are mutable. We can use that to modify their data with indexes.\n",
    "\n",
    "There is a list planets with the names of the Solar system planets. However, instead of the 5th planet, there's an X. Reassign it to the real name of the 5th planet.\n",
    "\n",
    "Note that the list planets has already been defined, you just need to change one element.\n"
   ]
  },
  {
   "cell_type": "code",
   "execution_count": null,
   "metadata": {},
   "outputs": [],
   "source": [
    "planets[4] = \"Jupiter\""
   ]
  }
 ],
 "metadata": {
  "kernelspec": {
   "display_name": "Python 3",
   "language": "python",
   "name": "python3"
  },
  "language_info": {
   "codemirror_mode": {
    "name": "ipython",
    "version": 3
   },
   "file_extension": ".py",
   "mimetype": "text/x-python",
   "name": "python",
   "nbconvert_exporter": "python",
   "pygments_lexer": "ipython3",
   "version": "3.7.6"
  }
 },
 "nbformat": 4,
 "nbformat_minor": 4
}
