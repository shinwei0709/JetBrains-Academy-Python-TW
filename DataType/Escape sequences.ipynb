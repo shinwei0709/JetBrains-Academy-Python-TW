{
 "cells": [
  {
   "cell_type": "markdown",
   "metadata": {},
   "source": [
    "轉義序列 (escape sequences)\n",
    "\n",
    "1.不存在 Non-being\n",
    "\n",
    "哪個轉義序列不存在？\n",
    "\n",
    "Which escape sequence does not exist?\n",
    "\n",
    "Select one option from the list\n",
    "\n",
    "(a)\\m - markdown\n",
    "\n",
    "(b)\\n - new line\n",
    "\n",
    "(c)\\b - backspace\n",
    "\n",
    "(d)\\t - tabulation\n",
    "\n",
    "2.禁用 Disable\n",
    "\n",
    "哪個轉義序列用於輸出不包含元素的字符串？\n",
    "\n",
    "Which escape sequence is used to print the string without an element?\n",
    "\n",
    "Select one option from the list\n",
    "\n",
    "(a)\\t\n",
    "\n",
    "(b)\\b\n",
    "\n",
    "(c)\\v\n",
    "\n",
    "(d)\\n\n",
    "\n",
    "3.找到長度 Find the length\n",
    "\n",
    "編寫一個程是來輸出字串'That is \\n mine'.的長度。單引號不屬於此字串的一部分。\n",
    "\n",
    "Write a program that will print the length of the string 'That is \\n mine'. The single quotes are not part of this string.\n"
   ]
  },
  {
   "cell_type": "code",
   "execution_count": null,
   "metadata": {},
   "outputs": [],
   "source": [
    "a=len('That is \\n mine')\n",
    "print(a)"
   ]
  },
  {
   "cell_type": "markdown",
   "metadata": {},
   "source": [
    "\n",
    "4.優秀的工程師 Good programmer\n",
    "\n",
    "你真的很擅長於寫程式，因此你的同事決定向你祝賀完成的作業，並顯示一條消息：“You are the best programmer！”。但是該怎麼做呢？\n",
    "\n",
    "使用轉義序列輸出此字串的程式，使句子中的每個單字都會換行。\n",
    "\n",
    "You are really good at what you do (programming), so your colleague has decided to congratulate you on the completed project with a message \"You are the best programmer!\". But how to do this?\n",
    "\n",
    "Write the code that prints this message using an escape sequence so that each word of the sentence would be on a new line.\n",
    "\n"
   ]
  },
  {
   "cell_type": "code",
   "execution_count": null,
   "metadata": {},
   "outputs": [],
   "source": [
    "print(\"You\\n are\\n the\\n best\\n programmer!\\n\")\n"
   ]
  },
  {
   "cell_type": "markdown",
   "metadata": {},
   "source": [
    "5.輸出符號 Print a sign\n",
    "\n",
    "輸出兩個反斜杠字元 \\\\。\n",
    "\n",
    "Print two backslash characters \\\\.\n"
   ]
  },
  {
   "cell_type": "code",
   "execution_count": null,
   "metadata": {},
   "outputs": [],
   "source": [
    "a=\"\\\\\\\\\"\n",
    "print(a)\n"
   ]
  }
 ],
 "metadata": {
  "kernelspec": {
   "display_name": "Python 3",
   "language": "python",
   "name": "python3"
  },
  "language_info": {
   "codemirror_mode": {
    "name": "ipython",
    "version": 3
   },
   "file_extension": ".py",
   "mimetype": "text/x-python",
   "name": "python",
   "nbconvert_exporter": "python",
   "pygments_lexer": "ipython3",
   "version": "3.7.6"
  }
 },
 "nbformat": 4,
 "nbformat_minor": 4
}
