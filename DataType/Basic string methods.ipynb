{
 "cells": [
  {
   "cell_type": "markdown",
   "metadata": {},
   "source": [
    "# 理論:基本的字符串方法\n",
    "\n",
    "如您所知，字符串是Python中最重要的數據類型之一。為了使使用字符串更容易，Python有許多特殊的內置字符串方法。我們將學習其中的一些。\n",
    "\n",
    "As you already know, the string is one of the most important data types in Python. To make working with strings easier, Python has many special built-in string methods. We are about to learn some of them\n",
    "\n",
    "但是要記住的重要一點是，字符串是不可變的數據類型！這意味著您不能只就地的更改字符串，因此大多數字符串方法都返回字符串的副本（有幾個例外）。要保存對字符串所做的更改以供以後使用，您需要為此創建的副本來創建一個新變量，或為該副本分配相同的名稱。因此，如何處理這些方法的輸出取決於您是要使用原始字符串還是稍後使用其副本。\n",
    "\n",
    "An important thing to remember, however, is that the string is an immutable data type! It means that you cannot just change the string in-place, so most string methods return a copy of the string (with several exceptions). To save the changes made to the string for later use you need to create a new variable for the copy that you made or assign the same name to the copy. So, what to do with the output of the methods depends on whether you are going to use the original string or its copy later.\n",
    "\n"
   ]
  },
  {
   "cell_type": "markdown",
   "metadata": {},
   "source": [
    "## 1.更改字符串\n",
    "\n",
    "第一組字符串方法由特定方式“更改”字符串的方法組成，也就是說，它們返回進行了某些更改的副本。\n",
    "\n",
    "The first group of string methods consists of the ones that \"change\" the string in a specific way, that is they return the copy with some changes made.\n",
    "\n",
    "調用方法的語法如下：首先給出一個字符串（或一個包含字符串的變量的名稱），然後是一個句點，其後是方法名稱和括號，其中列出了參數。\n",
    "\n",
    "The syntax for calling a method is as follows: a string is given first (or the name of a variable that holds a string), then comes a period followed by the method name and parentheses in which arguments are listed.\n",
    "\n",
    "這是這種常見的字符串方法的列表：\n",
    "\n",
    "Here’s a list of common string methods of that kind:\n",
    "\n",
    "str.replace(old, new[, count]) 用一個替換所有出現的old字符串new。該count參數是可選的，如果有指定話，count則在指定的字符串中僅替換首次出現的參數。\n",
    "\n",
    "str.upper() 將字符串的所有字符轉換為大寫。\n",
    "\n",
    "str.lower() 將字符串的所有字符轉換為小寫。\n",
    "\n",
    "str.title() 將每個單詞的第一個字符轉換為大寫。\n",
    "\n",
    "str.swapcase() 將大寫轉換為小寫，反之亦然。\n",
    "\n",
    "str.capitalize() 將字符串的第一個字符更改為標題大小寫，其餘更改為小寫。\n",
    "\n",
    "\n",
    "str.replace(old, new[, count]) replaces all occurrences of the old string with the new one. The count parameter is optional, and if specified, only the first count occurrences are replaced in the given string.\n",
    "\n",
    "str.upper() converts all characters of the string to the upper case.\n",
    "\n",
    "str.lower() converts all characters of the string to the lower case.\n",
    "\n",
    "str.title() converts the first character of each word to upper case.\n",
    "\n",
    "str.swapcase() converts upper case to lower case and vice versa.\n",
    "\n",
    "str.capitalize() changes the first character of the string to the title case and the rest to the lower case."
   ]
  },
  {
   "cell_type": "markdown",
   "metadata": {},
   "source": [
    "###### 如何使用這些方法的範例（請注意，我們不會保存每個方法的結果）\n",
    "###### And here's an example of how these methods are used (note that we don't save the result of every method):"
   ]
  },
  {
   "cell_type": "code",
   "execution_count": null,
   "metadata": {},
   "outputs": [],
   "source": [
    "message = \"bonjour and welcome to Paris!\"\n",
    " \n",
    "print(message.upper())  # BONJOUR AND WELCOME TO PARIS!\n",
    "# `message` is not changed\n",
    "print(message)  # bonjour and welcome to Paris!\n",
    " \n",
    "title_message = message.title() \n",
    "# `title_message` contains a new string with all words capitalized\n",
    "print(title_message)  # Bonjour And Welcome To Paris!\n",
    " \n",
    "print(message.replace(\"Paris\", \"Lyon\"))  # bonjour and welcome to Lyon!\n",
    "replaced_message = message.replace(\"o\", \"!\", 2)\n",
    "print(replaced_message)  # b!nj!ur and welcome to Paris!\n",
    " \n",
    "# again, the source string is unchanged, only its copy is modified\n",
    "print(message)  # bonjour and welcome to Paris!"
   ]
  },
  {
   "cell_type": "markdown",
   "metadata": {},
   "source": [
    "## 2.編輯字符串\n",
    "\n",
    "通常，當您從某處（文件或輸入）讀取字符串時，需要對其進行編輯，以使其僅包含所需的信息。例如，輸入字符串可能有很多不必要的空格或字符的某些尾隨組合。在“編輯”的方法，可以提供幫助的是strip()，rstrip()和lstrip()。\n",
    "\n",
    "Often, when you read a string from somewhere (a file or the input) you need to edit it so that it contains only the information you need. For instance, the input string can have a lot of unnecessary whitespaces or some trailing combinations of characters. The \"editing\" methods that can help with that are strip(), rstrip() and lstrip().\n",
    "\n",
    "tr.lstrip([chars]) 刪除前導字符（即左側的字符）。如果chars 未指定參數，則將刪除前導空格。\n",
    "\n",
    "str.rstrip([chars]) 刪除尾隨字符（即右側的字符）。參數的默認值chars也是空白。\n",
    "\n",
    "str.strip([chars]) 刪除開頭和結尾字符。默認為空格。\n",
    "\n",
    "str.lstrip([chars]) removes the leading characters (i.e. characters from the left side). If the argument chars isn’t specified, leading whitespaces are removed.\n",
    "\n",
    "str.rstrip([chars]) removes the trailing characters (i.e. characters from the right side). The default for the argument chars is also whitespace.\n",
    "\n",
    "str.strip([chars]) removes both the leading and the trailing characters. The default is whitespace.\n",
    "\n",
    "chars指定參數時，該參數是一串字符串，這些字符串應從單詞的最後或開頭刪除（取決於您使用的方法）。在以下範例中，它是normal_string的第一個和最後一個字符。\n",
    "\n",
    "The chars argument, when specified, is a string of characters that are meant to be removed from the very end or beginning of the word (depending on the method you're using). In the examples below, it is the first and the last character of the normal_string.\n",
    "\n",
    "###### 查看如何使用這些方法：\n",
    "###### See how these methods are used:"
   ]
  },
  {
   "cell_type": "code",
   "execution_count": null,
   "metadata": {},
   "outputs": [],
   "source": [
    "whitespace_string = \"     hey      \"\n",
    "normal_string = \"incomprehensibilities\"\n",
    " \n",
    "# delete spaces from the left side\n",
    "whitespace_string.lstrip()  # \"hey      \"\n",
    " \n",
    "# delete \"i\" or \"s\" or \"is\" from the left side\n",
    "normal_string.lstrip(\"is\")  # \"ncomprehensibilities\"\n",
    " \n",
    "# delete spaces from the right side\n",
    "whitespace_string.rstrip()  # \"     hey\"\n",
    " \n",
    "# delete \"i\" or \"s\" or \"is\" from the right side\n",
    "normal_string.rstrip(\"is\")  # \"incomprehensibilitie\"\n",
    " \n",
    "# no spaces from both sides\n",
    "whitespace_string.strip()  # \"hey\"\n",
    " \n",
    "# delete trailing \"i\" or \"s\" or \"is\" from both sides\n",
    "normal_string.strip(\"is\")  # \"ncomprehensibilitie\""
   ]
  },
  {
   "cell_type": "markdown",
   "metadata": {},
   "source": [
    "###### 請記住，方法strip()，lstrip()，rstrip()並擺脫所有可能的指定字符組合\n",
    "###### Keep in mind that the methods strip(), lstrip() and rstrip() get rid of all possible combinations of specified characters:"
   ]
  },
  {
   "cell_type": "code",
   "execution_count": null,
   "metadata": {},
   "outputs": [],
   "source": [
    "word = \"Mississippi\"\n",
    "print(word.lstrip(\"ips\"))  # \"Mississippi\"\n",
    "print(word.rstrip(\"ips\"))  # \"M\"\n",
    "print(word.strip(\"Mips\"))  # \"\""
   ]
  },
  {
   "cell_type": "markdown",
   "metadata": {},
   "source": [
    "小心使用它們，否則您可能會得到一個空字符串。\n",
    "\n",
    "Use them carefully, or you may end up with an empty string."
   ]
  },
  {
   "cell_type": "markdown",
   "metadata": {},
   "source": [
    "## 3.結論\n",
    "\n",
    "因此，我們考慮了字符串的主要方法。這是一個簡短的回顧：\n",
    "\n",
    "Thus, we have considered the main methods for strings. Here is a brief recap:\n",
    "\n",
    "在使用字符串時，您必須記住字符串是不可變的，因此所有“更改”它們的方法僅返回具有必要更改的字符串副本。\n",
    "如果要保存方法調用的結果以供以後使用，則需要將此結果分配給變量（相同或不同名稱的變量）。\n",
    "如果您只想使用一次此結果（例如，在比較中或僅打印格式化的字符串），則可以隨意使用該結果，就像我們在中所做的那樣  print()。\n",
    "\n",
    "While working with string, you have to remember that strings are immutable, thus all the methods that \"change\" them only return the copy of a string with necessary changes.\n",
    "If you want to save the result of the method call for later use, you need to assign this result to a variable (either the same or the one with a different name).\n",
    "If you want to use this result only once, for example, in comparisons or just to print the formatted string, you are free to use the result on spot, as we did within print()."
   ]
  },
  {
   "cell_type": "code",
   "execution_count": null,
   "metadata": {},
   "outputs": [],
   "source": []
  }
 ],
 "metadata": {
  "kernelspec": {
   "display_name": "Python 3",
   "language": "python",
   "name": "python3"
  },
  "language_info": {
   "codemirror_mode": {
    "name": "ipython",
    "version": 3
   },
   "file_extension": ".py",
   "mimetype": "text/x-python",
   "name": "python",
   "nbconvert_exporter": "python",
   "pygments_lexer": "ipython3",
   "version": "3.7.4"
  }
 },
 "nbformat": 4,
 "nbformat_minor": 2
}
