{
 "cells": [
  {
   "cell_type": "markdown",
   "metadata": {},
   "source": [
    "# Theory: Any and all\n",
    "\n",
    "目前為止你確實了解了Python有一大堆不同的內部函數幫助開發者有效率的工作，\n",
    "內部函數永遠都是可調用的，所以你不需要宣告或匯入它們。只要直接呼叫此函數當任何你需要它們的時候。你已經看過其中一種函數print(),今天我們將再學習另外兩個內部函數:all() 和 any() 並且了解如何與何時使用它們。\n",
    "\n",
    "請注意，這些函數僅適用於可以疊代的對象，如strings 和 lists 這兩種對象是可以疊代的\n",
    "因此我們將利用它們來說明理論部分並展示any() 與all()的運作方式。\n",
    "\n",
    "\n",
    "By now, you certainly know that Python has a lot of different built-in functions that help developers work more efficiently. Built-in functions are always available, so you don't need to declare or import them. Just call such a function whenever you need it. You have already seen one of those functions, it is  print(). Today we will learn two more built-in functions any() and all() and find out how and when to use them.\n",
    "\n",
    "Be careful though, these functions work only with iterable objects, e.g. strings and lists. A list is iterable, so we will use it to illustrate the theoretical part and to show how any() and all() work.\n",
    "\n",
    "## 1. Function Any()\n",
    "\n",
    "函數any的回傳結果是布林值:如果可疊代對象中的一個或一組元素評估為True，則回傳True。若否她返回False。\n",
    "讓我們來看一個例子，假設你和朋友Jam與Andy編寫了一個測試然後獲得了一個list形式的True與False值。\n",
    "如果至少一個答案是正確的則測試通過，現在你需要檢查您和您朋友是否通過測試。\n",
    "\n",
    "The result of the any() function call is the boolean value: it returns True if an element or a group of elements in an iterable object are evaluated True. Otherwise, it returns False. Let’s take a look at the example. Imagine that you and your friends, Jam and Andy, wrote a test and got your results in the form of a list with True and False values.  The test is passed if at least one answer is correct. Now you need to check if you and your friends passed that test."
   ]
  },
  {
   "cell_type": "code",
   "execution_count": 1,
   "metadata": {},
   "outputs": [
    {
     "name": "stdout",
     "output_type": "stream",
     "text": [
      "True\n"
     ]
    }
   ],
   "source": [
    "your_results = [True, False, False]\n",
    "print(any(your_results))  # True"
   ]
  },
  {
   "cell_type": "markdown",
   "metadata": {},
   "source": [
    "如你所知，True值對應1，False用0表示。\n",
    "因此你可以用上述的數字值替換布林值，並且獲得相同結果。\n",
    "\n",
    "As you know, the value True corresponds to 1, while False can be represented by 0, therefore, you can replace the boolean values with the numerical ones in the list above and get the same result."
   ]
  },
  {
   "cell_type": "code",
   "execution_count": 2,
   "metadata": {},
   "outputs": [
    {
     "name": "stdout",
     "output_type": "stream",
     "text": [
      "True\n"
     ]
    }
   ],
   "source": [
    "your_results = [1, 0, 0]\n",
    "print(any(your_results))  # True"
   ]
  },
  {
   "cell_type": "code",
   "execution_count": 6,
   "metadata": {},
   "outputs": [
    {
     "name": "stdout",
     "output_type": "stream",
     "text": [
      "False\n"
     ]
    }
   ],
   "source": [
    "andy_results = [False, False, False]\n",
    "print(any(andy_results))  # False"
   ]
  },
  {
   "cell_type": "markdown",
   "metadata": {},
   "source": [
    "Andy不幸運的失敗了。\n",
    "\n",
    "那Jam 怎麼樣呢? 好吧，你的朋友似乎沒有寫任何測試，所以它得到一個空的list結果\n",
    "\n",
    "Unfortunately, your friend Andy failed. What about Jam? Well, this friend of yours didn't write the test at all, so he got an empty list of results."
   ]
  },
  {
   "cell_type": "code",
   "execution_count": 7,
   "metadata": {},
   "outputs": [
    {
     "name": "stdout",
     "output_type": "stream",
     "text": [
      "False\n"
     ]
    }
   ],
   "source": [
    "jam_results = []\n",
    "print(any(jam_results))  # False"
   ]
  },
  {
   "cell_type": "markdown",
   "metadata": {},
   "source": [
    "該List不包含任何元素，並且找不到任何True值所以any()函數回傳False\n",
    "\n",
    "那麼any()函數的作用為何? 首先它將一個List做為引數，然後鑑定此List所有元素中是否能找到一個元素為True，如果為真則回傳True，否則回傳False。\n",
    "\n",
    "The list doesn't contain any elements, and since no True value is to be found the any() function returns False.\n",
    "\n",
    "So what does the any() function do? First, it takes a list as an argument, then evaluates all the elements of this list to find at least one True, if so, it returns True, otherwise, the result is False."
   ]
  },
  {
   "cell_type": "markdown",
   "metadata": {},
   "source": [
    "## 2.Function all() \n",
    "all()函數的功能與any()相同。 區別在於all（）函數檢查可疊代對象的所有元素是否均為True，如果為true，則返回True。 否則，您將得到False。 您還記得我們檢查測試結果的上一部分的故事嗎？ 讓我們繼續。 想像另一個測試，這次是最後一個測試。 為了成功，您應該正確回答所有問題。 這次您和您的兩個朋友的情況如何？\n",
    "\n",
    "The all() function works the same way as any(). The difference is that all() function checks if all the elements of an iterable object are True and returns True if they are. Otherwise, you get False. Do you remember the story from the previous section where we checked the results of the test? Let's proceed. Imagine yet another test, this time the final one. To succeed, you should answer all the questions correctly. How did it go this time for you and the two friends of yours?"
   ]
  },
  {
   "cell_type": "code",
   "execution_count": 8,
   "metadata": {},
   "outputs": [
    {
     "name": "stdout",
     "output_type": "stream",
     "text": [
      "False\n"
     ]
    }
   ],
   "source": [
    "your_results = [True, False, False]\n",
    "print(all(your_results))  # False"
   ]
  },
  {
   "cell_type": "markdown",
   "metadata": {},
   "source": [
    "如您所見，在你的結果中並非所有回答都是True，所以你沒有通過測試。\n",
    "那Andy的結果又是如何呢?\n",
    "\n",
    "\n",
    "As you can see, not all the answers in your case are correct, so you didn't pass the test. What about Andy's results?"
   ]
  },
  {
   "cell_type": "code",
   "execution_count": 9,
   "metadata": {},
   "outputs": [
    {
     "name": "stdout",
     "output_type": "stream",
     "text": [
      "True\n"
     ]
    }
   ],
   "source": [
    "andy_results = [True, True, True]\n",
    "print(all(andy_results))  # True"
   ]
  },
  {
   "cell_type": "markdown",
   "metadata": {},
   "source": [
    "Andy很幸運地通過了。Jam似乎在放假，他的list還是空的。\n",
    "Luckily, Andy passed. Jam seems to have a vacation. His list of results is empty again."
   ]
  },
  {
   "cell_type": "code",
   "execution_count": 10,
   "metadata": {},
   "outputs": [
    {
     "name": "stdout",
     "output_type": "stream",
     "text": [
      "True\n"
     ]
    }
   ],
   "source": [
    "jam_results = []\n",
    "print(all(jam_results))  # True"
   ]
  },
  {
   "cell_type": "markdown",
   "metadata": {},
   "source": [
    "該List沒有包含任何元素，但是all()函數會回傳True因為他找不到任何False值。\n",
    "沒有False值所以回傳True。需要注意這種情況。\n",
    "\n",
    "The list doesn't contain any elements, but the all() function will return True because it searches for any False values. No False values result in True. Be careful with this scenario."
   ]
  },
  {
   "cell_type": "markdown",
   "metadata": {},
   "source": [
    "## 3.Non-boolean values\n",
    "\n",
    "注意any 和all()可以採用一個包含非布林值的list，讓我們回想下他是如何評估的。\n",
    "\n",
    "空序列，如字串與lists，元素0和False是等效的。對於常量None也是如此。非空序列等效True。\n",
    "\n",
    "Pay attention to the fact that any() and all() can take a list containing non-boolean values. Let's recall how they are evaluated.\n",
    "\n",
    "Empty sequences, e.g. strings and lists, as well as zero, are equivalent to False, the same applies to the constant None. Non-empty sequences are equivalent to True.\n",
    "\n",
    "請注意在空序列上調用all()函數的結果，與將空序列傳換為布林值不同。\n",
    "all(list())結果為True\n",
    "bool(list())結果為False\n",
    "\n",
    "Be cautious, the result of calling the all() function on an empty sequence differs from converting an empty sequence to a boolean value. The result of all(list())  is True, the result of bool(list()) is False.\n",
    "\n",
    "這裡有個含False值的List，在此範例中 any()和all()將具有相同的表現\n",
    "Here is a list with false values. any() and all() will have the same behavior in this example:"
   ]
  },
  {
   "cell_type": "code",
   "execution_count": 23,
   "metadata": {},
   "outputs": [
    {
     "name": "stdout",
     "output_type": "stream",
     "text": [
      "False\n",
      "False\n"
     ]
    }
   ],
   "source": [
    "rocket_science_scores = [0, -0, 0.0, +0]\n",
    "print(any(rocket_science_scores))  # False\n",
    "print(all(rocket_science_scores))  # False"
   ]
  },
  {
   "cell_type": "markdown",
   "metadata": {},
   "source": [
    "現在，讓我們看一些簡易的學科分數：\n",
    "\n",
    "Now, let's look at the scores of some simpler subject:"
   ]
  },
  {
   "cell_type": "code",
   "execution_count": 22,
   "metadata": {},
   "outputs": [
    {
     "name": "stdout",
     "output_type": "stream",
     "text": [
      "True\n",
      "False\n"
     ]
    }
   ],
   "source": [
    "math_scores = [0, 1, 2, 3]\n",
    "print(any(math_scores))  # True\n",
    "print(all(math_scores))  # False"
   ]
  },
  {
   "cell_type": "markdown",
   "metadata": {},
   "source": [
    "如圖所示，all()不會return true，因為該列表中存在false，考慮最後一種情況。\n",
    "\n",
    "As shown, all() doesn't return True for a list where false values are present. Consider the last case:"
   ]
  },
  {
   "cell_type": "code",
   "execution_count": 26,
   "metadata": {},
   "outputs": [
    {
     "name": "stdout",
     "output_type": "stream",
     "text": [
      "True\n",
      "True\n"
     ]
    }
   ],
   "source": [
    "biology_scores = [1, 2, 3, 4]\n",
    "print(any(biology_scores))  # True\n",
    "print(all(biology_scores))  # True"
   ]
  },
  {
   "cell_type": "markdown",
   "metadata": {},
   "source": [
    "list biology_scores沒有任何false值，所以這兩函數都回傳True。\n",
    "另外你可以通過將list中的元素替換成布林值。\n",
    "假設我們有一個分數list，並且想檢查一些分數是否大於3，可以這樣完成:\n",
    "\n",
    "The list biology_scores has no false values, that's why both functions result in True.\n",
    "Also, you can turn the elements of your list into the boolean values via comparison. Suppose, we have a list of scores and want to check whether some are equal to 3 or greater. It can be done like this:"
   ]
  },
  {
   "cell_type": "code",
   "execution_count": 27,
   "metadata": {},
   "outputs": [
    {
     "name": "stdout",
     "output_type": "stream",
     "text": [
      "True\n",
      "False\n"
     ]
    }
   ],
   "source": [
    "scores = [1, 2, 3, 4]\n",
    "boolean_scores = [score >= 3 for score in scores]  # [False, False, True, True]\n",
    "print(any(boolean_scores))  # True\n",
    "print(all(boolean_scores))  # False"
   ]
  },
  {
   "cell_type": "markdown",
   "metadata": {},
   "source": [
    "然而list中可能包含不同元素如字串或者巢狀list，這種情況下all()和any()的行為將很大程度取決於內容，請注意這點。\n",
    "\n",
    "However, lists may contain different elements, e.g. strings or nested lists, in such cases, the behavior of any() and all() would depend largely on the contents. Keep that in mind."
   ]
  },
  {
   "cell_type": "markdown",
   "metadata": {},
   "source": [
    "## 4.Conditions\n",
    "\n",
    "編碼人員成承載條件中使用all()與any()函數，他有助於快速檢查可疊代對象的元素，並且避免複雜的程式結構。\n",
    "\n",
    "讓我們為情人節選擇一個糖果盒子，每個盒子包含幾種類型的糖果。而你對於每種類型的糖果總數量為偶數的感興趣，因為很顯然你將與你另一半分享它們。\n",
    "\n",
    "\n",
    "Coders often use any() and all() functions in conditions. It helps to check the elements of iterable objects quickly and to avoid complex constructions.\n",
    "\n",
    "Let's choose a candy box for Valentine's Day. Each box contains several types of sweets. But you are interested in the even amount of candies of each type because, obviously, you will share them with your valentine."
   ]
  },
  {
   "cell_type": "code",
   "execution_count": 28,
   "metadata": {},
   "outputs": [
    {
     "name": "stdout",
     "output_type": "stream",
     "text": [
      "It is not a proper gift.\n"
     ]
    }
   ],
   "source": [
    "box = [10, 20, 33]\n",
    " \n",
    "if any([candy % 2 for candy in box]):\n",
    "    print(\"It is not a proper gift.\")\n",
    "else:\n",
    "    print(\"Perfect!\")"
   ]
  },
  {
   "cell_type": "markdown",
   "metadata": {},
   "source": [
    "程式碼簡短而甜蜜，不是嗎? 生活就像一盒巧克力!\n",
    "只要你處理的數值可以轉換為True 或者False，就可以在此情況中同時使用這兩個函數。\n",
    "\n",
    "Short and sweet, isn't it? Life is like a box of chocolates! As long as the values you deal with can be converted to True and False, it's safe to use both functions in conditions."
   ]
  },
  {
   "cell_type": "markdown",
   "metadata": {},
   "source": [
    "## 5.To sum up\n",
    "\n",
    "我們了解了any()和all()函數可以做些什麼以及如何工作。如你所見，這些功能為一種有效的工具，可以幫助你檢查條件並提高代碼的可讀性。\n",
    "\n",
    "We learned what any() and all() functions can do and how they work. As you can see, these functions are an efficient tool that helps check conditions and may improve the readability of your code."
   ]
  }
 ],
 "metadata": {
  "kernelspec": {
   "display_name": "Python 3",
   "language": "python",
   "name": "python3"
  },
  "language_info": {
   "codemirror_mode": {
    "name": "ipython",
    "version": 3
   },
   "file_extension": ".py",
   "mimetype": "text/x-python",
   "name": "python",
   "nbconvert_exporter": "python",
   "pygments_lexer": "ipython3",
   "version": "3.7.0"
  }
 },
 "nbformat": 4,
 "nbformat_minor": 2
}
