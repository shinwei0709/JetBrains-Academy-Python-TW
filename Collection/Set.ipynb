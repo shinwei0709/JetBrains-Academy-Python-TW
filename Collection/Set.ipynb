{
 "cells": [
  {
   "cell_type": "markdown",
   "metadata": {},
   "source": [
    "# Theory: Set"
   ]
  },
  {
   "cell_type": "markdown",
   "metadata": {},
   "source": [
    "當您需要去除序列中的重複項或意圖執行某些數學運算時，可以使用```set```對象。 ```集合```是可哈希對象的```無序```容器。 稍後，您將了解有關可```哈希```對象的更多信息，請記住，只有不可變數據類型才能成為集合的元素。 由於其形式，集合```不會```記錄元素的位置或插入順序，因此無法通過元素的索引檢索元素。\n",
    "\n",
    "When you need to get rid of duplicates in a sequence or intent to perform some mathematical operations, you may use a ```set``` object. A ```set``` is an ```unordered``` container of ```hashable``` objects. You will learn more about hashable objects later, for now, remember that only immutable data types can be elements of a set. Due to their form, sets ```do NOT``` record element position or order of insertion, so you cannot retrieve an element by its index."
   ]
  },
  {
   "cell_type": "markdown",
   "metadata": {},
   "source": [
    "##  &sect;1. Creating sets"
   ]
  },
  {
   "cell_type": "markdown",
   "metadata": {},
   "source": [
    "首先，我們通過在花括號中列出其元素來創建集合。 唯一的例外是可以通過```set（）```函數形成的空集：\n",
    "\n",
    "First things first, we create a set by listing its elements in curly braces. The only exception would be an empty set that can be formed with the help of a ```set()```function:"
   ]
  },
  {
   "cell_type": "code",
   "execution_count": null,
   "metadata": {},
   "outputs": [],
   "source": [
    "empty_set = set()\n",
    "print(type(empty_set))   # <class 'set'>\n",
    " \n",
    "empty_dict = {}\n",
    "print(type(empty_dict))  # <class 'dict'>"
   ]
  },
  {
   "cell_type": "markdown",
   "metadata": {},
   "source": [
    "如果將字符串或列表傳遞到```set（）```中，該函數將返回一個包含此字符串/列表的所有元素的集合：\n",
    "\n",
    "If you pass a string or a list into ```set()```, the function will return a set consisting of all the elements of this string/list:"
   ]
  },
  {
   "cell_type": "code",
   "execution_count": null,
   "metadata": {},
   "outputs": [],
   "source": [
    "flowers = {'rose', 'lilac', 'daisy'}\n",
    " \n",
    "# the order is not preserved\n",
    "print(flowers)  # {'daisy', 'lilac', 'rose'}  \n",
    " \n",
    " \n",
    "letters = set('philharmonic')\n",
    "print(letters)  # {'h', 'r', 'i', 'c', 'o', 'l', 'a', 'p', 'm', 'n'}"
   ]
  },
  {
   "cell_type": "markdown",
   "metadata": {},
   "source": [
    "每個元素僅被視為集合的一部分，因此雙字母被視為一個元素：\n",
    "\n",
    "Each element is considered a part of a set only once, so double letters are counted as one element:"
   ]
  },
  {
   "cell_type": "code",
   "execution_count": null,
   "metadata": {},
   "outputs": [],
   "source": [
    "letters = set('Hello')\n",
    "print(len(letters))  # the length equals 4\n",
    "print(letters)       # {'H', 'e', 'o', 'l'}"
   ]
  },
  {
   "cell_type": "markdown",
   "metadata": {},
   "source": [
    "此外，使用集合可以幫助您避免重複：\n",
    "\n",
    "Moreover, using sets can help you avoid repetitions:"
   ]
  },
  {
   "cell_type": "code",
   "execution_count": null,
   "metadata": {},
   "outputs": [],
   "source": [
    "states = ['Russia', 'USA', 'USA', 'Germany', 'Italy']\n",
    "print(set(states))  # {'Russia', 'USA', 'Italy', 'Germany'}"
   ]
  },
  {
   "cell_type": "markdown",
   "metadata": {},
   "source": [
    "看看：由於元素的命名順序沒有任何作用，因此以下兩組是相等的。\n",
    "\n",
    "Have a look: as the order of naming the elements doesn’t play any role, the following two sets will be equal."
   ]
  },
  {
   "cell_type": "code",
   "execution_count": null,
   "metadata": {},
   "outputs": [],
   "source": [
    "set1 = {'A', 'B', 'C'}\n",
    "set2 = {'B', 'C', 'A'}\n",
    "print(set1 == set2)  # True"
   ]
  },
  {
   "cell_type": "markdown",
   "metadata": {},
   "source": [
    "##  &sect;2. Working with a set’s elements"
   ]
  },
  {
   "cell_type": "markdown",
   "metadata": {},
   "source": [
    "You can:\n",
    "- 在```len（）```函數的幫助下獲取集合的元素數。\n",
    "- 使用```for循環```遍歷所有元素。\n",
    "- 檢查元素是否屬於特定集合（```在運算符中/不在運算符中```），您將獲得布爾值。\n",
    "\n",
    "\n",
    "You can:\n",
    "- get the number of set’s elements with the help of ```len()``` function.\n",
    "- go through all the elements using for loop.\n",
    "- check whether an element belongs to a specific set or not (```in / not in``` operators), you get the boolean value."
   ]
  },
  {
   "cell_type": "code",
   "execution_count": null,
   "metadata": {},
   "outputs": [],
   "source": [
    "nums = {1, 2, 2, 3}\n",
    "print(1 in nums, 4 not in nums)  # True True"
   ]
  },
  {
   "cell_type": "markdown",
   "metadata": {},
   "source": [
    "- 使用```add（）```方法將新元素添加到集合中，或使用另一個集合將其```update（）```\n",
    "\n",
    "\n",
    "- add a new element to the set with add() method or update() it with another collection"
   ]
  },
  {
   "cell_type": "code",
   "execution_count": null,
   "metadata": {},
   "outputs": [],
   "source": [
    "nums = {1, 2, 2, 3}\n",
    "nums.add(5)\n",
    "print(nums)  # {1, 2, 3, 5}"
   ]
  },
  {
   "cell_type": "markdown",
   "metadata": {},
   "source": [
    "- 使用```丟棄/刪除```方法從特定集合中刪除元素。 它們之間唯一的區別是該集合中缺少刪除的元素時的情況。 在這種情況下，```丟棄```將不執行任何操作，並且```刪除```將生成```KeyError```異常。\n",
    "\n",
    "- delete an element from a specific set using ```discard/remove``` methods. The only difference between them operating is a situation when the deleted element is absent from this set. In this case, ```discard``` does nothing and ```remove``` generates a ```KeyError``` exception."
   ]
  },
  {
   "cell_type": "code",
   "execution_count": null,
   "metadata": {},
   "outputs": [],
   "source": [
    "nums.remove(2)\n",
    "print(nums)  # {1, 3, 5}\n",
    " \n",
    " \n",
    "empty_set = set()\n",
    "empty_set.remove(2)\n",
    "print(empty_set)  # KeyError: 2"
   ]
  },
  {
   "cell_type": "markdown",
   "metadata": {},
   "source": [
    "- 使用```pop（）```方法刪除一個隨機元素。 由於這是隨機的，因此您無需選擇參數。\n",
    "\n",
    "- remove one random element using ```pop()``` method. As it’s going to be random, you don’t need to choose an argument."
   ]
  },
  {
   "cell_type": "code",
   "execution_count": null,
   "metadata": {},
   "outputs": [],
   "source": [
    "nums = {1, 2, 2, 3}\n",
    "nums.pop()\n",
    "print(nums)  # {2, 3}"
   ]
  },
  {
   "cell_type": "markdown",
   "metadata": {},
   "source": [
    "- 使用```clear（）```方法從集合中刪除所有元素。\n",
    "- delete all elements from the set with ```clear()``` method."
   ]
  },
  {
   "cell_type": "markdown",
   "metadata": {},
   "source": [
    "##  &sect;3. When to use sets?"
   ]
  },
  {
   "cell_type": "markdown",
   "metadata": {},
   "source": [
    "集合（以及通常所有無序集合）的一項重要功能是，它們使您可以比列表更快地運行成員資格測試。在現實生活中，如果您有一個列表，並且嘗試手動檢查其中是否存在某個特定項目，那麼唯一的方法就是瀏覽整個列表，直到找到該項目為止。 Python做同樣的事情：它從列表的開頭開始尋找所需的項目，因為它不知道它可能放在哪裡。如果項目位於末尾或根本沒有這樣的項目，Python會在發現這一事實時對列表中的大多數項目進行迭代。因此，如果您的程序多次查找大型列表中的項目，則速度會很慢。\n",
    "\n",
    "這就是集合可以幫助我們的地方！在集合中，成員資格測試幾乎立即生效，因為它們使用了另一種存儲和安排值的方式。因此，根據情況，您需要確定對您來說更重要的事情：保留收藏集中的項目順序或以更快的方式測試成員資格。在第一種情況下，將項目存儲在列表中是合理的，在第二種情況下，最好使用set。\n",
    "\n",
    "One important feature of sets (and all unordered collections in general) is that they allow you to run membership tests much faster than lists. In real life, if you have a list and you try to check by hand whether a particular item is present there, the only way to do this is to look through the entire list until you find this item. Python does the same thing: it looks for the needed item starting from the beginning of a list, because it has no idea where it may be placed. If the item is located at the end or there is no such item at all, Python will iterate over the majority of items in the list by the time it discovers this fact. So, in case your program is looking for items in a large list many times, it will be slow.\n",
    "\n",
    "And that's where sets come to help us! In sets membership testing works almost instantly, since they use a different way of storing and arranging values. So, depending on the situation, you need to decide what is more important to you: preserving the order of items in your collection or testing for membership in a faster way. In the first case, it's reasonable to store your items in the list, in the second it's better to use set."
   ]
  },
  {
   "cell_type": "markdown",
   "metadata": {},
   "source": [
    "##  &sect;4. Conclusions"
   ]
  },
  {
   "cell_type": "markdown",
   "metadata": {},
   "source": [
    "考慮到所有問題，現在您知道如何使用集合了：\n",
    "- 您知道如何創建新集合以及可以存儲在集合中的內容（僅不可變數據類型）。\n",
    "- 您了解集合和其他Python對象之間的區別。\n",
    "- 您可以使用集合的元素：添加或刪除新元素，區分```丟棄```和```刪除```方法等。\n",
    "- 您知道何時使用集（這確實可以節省您的時間！）。"
   ]
  },
  {
   "cell_type": "markdown",
   "metadata": {},
   "source": [
    "All things considered, now you know how to work with sets:\n",
    "- you know how to create a new set and what can be stored in a set (immutable data types only).\n",
    "- you understand the difference between the set and other Python objects.\n",
    "- you can work with a set's elements: add new elements or delete them, differentiate ```discard``` and ```remove``` methods, etc.\n",
    "- you know when to use sets (this really can save your time!).\n"
   ]
  }
 ],
 "metadata": {
  "kernelspec": {
   "display_name": "Python 3",
   "language": "python",
   "name": "python3"
  },
  "language_info": {
   "codemirror_mode": {
    "name": "ipython",
    "version": 3
   },
   "file_extension": ".py",
   "mimetype": "text/x-python",
   "name": "python",
   "nbconvert_exporter": "python",
   "pygments_lexer": "ipython3",
   "version": "3.6.8"
  }
 },
 "nbformat": 4,
 "nbformat_minor": 2
}
