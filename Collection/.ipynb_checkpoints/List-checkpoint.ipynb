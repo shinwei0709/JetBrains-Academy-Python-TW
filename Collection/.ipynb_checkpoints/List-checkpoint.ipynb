{
 "cells": [
  {
   "cell_type": "markdown",
   "metadata": {},
   "source": [
    "# Theory: List"
   ]
  },
  {
   "cell_type": "markdown",
   "metadata": {
    "collapsed": true
   },
   "source": [
    "在你的程式中，你經常需要對多個元素進行組合，以便將它們視為單一物件來處理。為此，你將需要使用不同的集合。Python中最有用的集合之一就是列表。它是Python中最重要的東西中的一佪。\n",
    "\n",
    "In your programs, you often need to group several elements in order to process them as a single object. For this, you will need to use different collections. One of the most useful collections in Python is a list. It is one of the most important things in Python."
   ]
  },
  {
   "cell_type": "markdown",
   "metadata": {},
   "source": [
    "## 1. 建立和列印列表  Creating and printing lists"
   ]
  },
  {
   "cell_type": "markdown",
   "metadata": {},
   "source": [
    "看一個簡單的列表，其中存了幾種狗的品種：\n",
    "\n",
    "Look at a simple list that stores several names of dogs' breeds:"
   ]
  },
  {
   "cell_type": "code",
   "execution_count": null,
   "metadata": {},
   "outputs": [],
   "source": [
    "狗的品種 = [\"柯基犬\", \"拉布拉多犬\", \"貴賓犬\", \"傑克羅素\"]  # 不建議使用\n",
    "print(狗的品種)\n",
    "\n",
    "dog_breeds = [\"柯基犬\", \"拉布拉多犬\", \"貴賓犬\", \"傑克羅素\"]\n",
    "print(dog_breeds)  # [\"柯基犬\", \"拉布拉多犬\", \"貴賓犬\", \"傑克羅素\"]\n",
    "\n",
    "dog_breeds = ['corgi', 'labrador', 'poodle', 'jack russel']\n",
    "print(dog_breeds)  # ['corgi', 'labrador', 'poodle', 'jack russel']"
   ]
  },
  {
   "cell_type": "markdown",
   "metadata": {},
   "source": [
    "在第一行中，我們使用中括號建立一個四個元素的列表，然後將其指定給 dog_breeds 變數。在第二行中，通過變數的名稱來列印列表。因為列表是有順序的，所有的元素都是按照存在列表中的順序列印出來。\n",
    "\n",
    "In the first line, we use square brackets to create a list that contains four elements and then assign it to the dog_breeds variable. In the second line, the list is printed through the variable's name. All the elements are printed in the same order as they were stored in the list because lists are ordered."
   ]
  },
  {
   "cell_type": "markdown",
   "metadata": {},
   "source": [
    "下面是另一個包含五個整數的列表。\n",
    "\n",
    "Here is another list that contains five integers:"
   ]
  },
  {
   "cell_type": "code",
   "execution_count": null,
   "metadata": {},
   "outputs": [],
   "source": [
    "numbers = [1, 2, 3, 4, 5]\n",
    "print(numbers)  # [1, 2, 3, 4, 5]"
   ]
  },
  {
   "cell_type": "markdown",
   "metadata": {},
   "source": [
    "建立列表的另一種方法是使用 list 函數。 您可以從可迭代物件中建立列表，可迭代物件是你可以從物件中逐一獲取其元素。列表本身是可迭代的，Python中的其他集合以及字串也是可迭代的。\n",
    "\n",
    "Another way to create a list is to invoke the list function. You do so when you want to create a list out of an iterable object: that is, a kind of object where you can get its elements one by one. A list itself is iterable, so are other collections in Python, as well as a string. \n",
    "\n",
    "The following example demonstrates the difference between using list and [] when creating a list:"
   ]
  },
  {
   "cell_type": "code",
   "execution_count": null,
   "metadata": {},
   "outputs": [],
   "source": [
    "multi_elements_list = list('danger!')\n",
    "print(multi_elements_list)  # ['d', 'a', 'n', 'g', 'e', 'r', '!']\n",
    "print(type(multi_elements_list))\n",
    "    \n",
    "single_element_list = ['danger!']\n",
    "print(single_element_list)  # ['danger!']\n",
    "print(type(single_element_list))"
   ]
  },
  {
   "cell_type": "markdown",
   "metadata": {},
   "source": [
    "因此，list 函數建立一個列表，其中包含可迭代物件中的每個元素，例如字串。 您可以根據您的任務，使用中括號或使用 list 函數。\n",
    "\n",
    "So, the list function creates a list containing each element from the given iterable object such as a string.\n",
    "You can use square brackets or invoke the list functions depending on your task."
   ]
  },
  {
   "cell_type": "markdown",
   "metadata": {},
   "source": [
    "## 2. 列表的特點 Features of lists\n",
    "列表可以根據需要儲存多個重複的值。\n",
    "\n",
    "Lists can store duplicate values as many times as needed."
   ]
  },
  {
   "cell_type": "code",
   "execution_count": null,
   "metadata": {},
   "outputs": [],
   "source": [
    "on_off_list = ['on', 'off', 'on', 'off', 'on']\n",
    "print(on_off_list)  # ['on', 'off', 'on', 'off', 'on']"
   ]
  },
  {
   "cell_type": "markdown",
   "metadata": {},
   "source": [
    "列表的另一個重要特點是，它可以包含不同類型的元素。所以既沒有限制，也沒有固定的列表類型，你可以在列表中添加任何你想要的資料，比如下面的例子。\n",
    "\n",
    "Another important thing about lists is that they can contain different types of elements. So there are neither restrictions, nor fixed list types, and you can add to your list any data you want, like in the following example:"
   ]
  },
  {
   "cell_type": "code",
   "execution_count": null,
   "metadata": {},
   "outputs": [],
   "source": [
    "different_objects = ['a', 1, 'b', 2]"
   ]
  },
  {
   "cell_type": "markdown",
   "metadata": {},
   "source": [
    "## 3. Length of a list\n",
    "有時您需要知道列表中有多少個元素。 有一個 len() 的內建函數，可應用於任何可迭代物件，並且傳回該物件的長度。當 len() 函數用於列表時，它將傅回該列表中元素的數量。\n",
    "\n",
    "Sometimes you need to know how many elements are there in a list. There is a built-in function called len that can be applied to any iterable object, and it returns simply the length of that object\n",
    "\n",
    "So, when applied to a list, it returns the number of elements in that list."
   ]
  },
  {
   "cell_type": "code",
   "execution_count": null,
   "metadata": {},
   "outputs": [],
   "source": [
    "numbers = [1, 2, 3, 4, 5]\n",
    "print(len(numbers))  # 5\n",
    " \n",
    "empty_list = list()\n",
    "print(len(empty_list))  # 0\n",
    " \n",
    "single_element_list = ['danger!']\n",
    "print(len(single_element_list))  # 1\n",
    " \n",
    "multi_elements_list = list('danger!')\n",
    "print(len(multi_elements_list))  # 7"
   ]
  },
  {
   "cell_type": "markdown",
   "metadata": {},
   "source": [
    "上面的例子中，你可以看到 len() 函數的工作原理。再一次注意 list() 和 [] 的區別，因為用於字串的時候，它的結果可能不是你所期望的。\n",
    "\n",
    "In the example above, you can see how the len() function works. Again, pay attention to the difference between list() and [] as applied to strings: it may not result in what you expected."
   ]
  },
  {
   "cell_type": "markdown",
   "metadata": {},
   "source": [
    "## 4. Recap\n",
    "\n",
    "作一個總結，我們注意到列表是：\n",
    "\n",
    "* 有序的，即每個元素在列表中都有固定的位置；\n",
    "* 可迭代的，即您可以逐一獲取它們的元素；\n",
    "* 能夠儲存重複的值；\n",
    "* 能夠儲存不同類型的元素。\n",
    "\n",
    "As a recap, we note that lists are:\n",
    "\n",
    "* ordered, i.e. each element has a fixed position in a list;\n",
    "* iterable, i.e. you can get their elements one by one;\n",
    "* able to store duplicate values;\n",
    "* able to store different types of elements."
   ]
  }
 ],
 "metadata": {
  "kernelspec": {
   "display_name": "Python 3",
   "language": "python",
   "name": "python3"
  },
  "language_info": {
   "codemirror_mode": {
    "name": "ipython",
    "version": 3
   },
   "file_extension": ".py",
   "mimetype": "text/x-python",
   "name": "python",
   "nbconvert_exporter": "python",
   "pygments_lexer": "ipython3",
   "version": "3.7.6"
  }
 },
 "nbformat": 4,
 "nbformat_minor": 2
}
