{
  "cells": [
    {
      "metadata": {},
      "cell_type": "markdown",
      "source": "# Theory: List"
    },
    {
      "metadata": {
        "collapsed": true
      },
      "cell_type": "markdown",
      "source": "在你的程式中，你經常需要對多個元素進行組合，以便將它們視為單一物件來處理。為此，你將需要使用不同的集合。Python中最有用的集合之一就是列表。它是Python中最重要的東西中的一佪。\n\nIn your programs, you often need to group several elements in order to process them as a single object. For this, you will need to use different collections. One of the most useful collections in Python is a list. It is one of the most important things in Python."
    },
    {
      "metadata": {},
      "cell_type": "markdown",
      "source": "## 1. 建立和列印列表  Creating and printing lists"
    },
    {
      "metadata": {},
      "cell_type": "markdown",
      "source": "看一個簡單的列表，其中存了幾種狗的品種：\n\nLook at a simple list that stores several names of dogs' breeds:"
    },
    {
      "metadata": {
        "trusted": true
      },
      "cell_type": "code",
      "source": "狗的品種 = [\"柯基犬\", \"拉布拉多犬\", \"貴賓犬\", \"傑克羅素\"]  # 不建議使用\nprint(狗的品種)\n\ndog_breeds = [\"柯基犬\", \"拉布拉多犬\", \"貴賓犬\", \"傑克羅素\"]\nprint(dog_breeds)  # [\"柯基犬\", \"拉布拉多犬\", \"貴賓犬\", \"傑克羅素\"]\n\ndog_breeds = ['corgi', 'labrador', 'poodle', 'jack russel']\nprint(dog_breeds)  # ['corgi', 'labrador', 'poodle', 'jack russel']",
      "execution_count": 1,
      "outputs": [
        {
          "output_type": "stream",
          "text": "['柯基犬', '拉布拉多犬', '貴賓犬', '傑克羅素']\n['柯基犬', '拉布拉多犬', '貴賓犬', '傑克羅素']\n['corgi', 'labrador', 'poodle', 'jack russel']\n",
          "name": "stdout"
        }
      ]
    },
    {
      "metadata": {},
      "cell_type": "markdown",
      "source": "在第一行中，我們使用中括號建立一個四個元素的列表，然後將其指定給 dog_breeds 變數。在第二行中，通過變數的名稱來列印列表。因為列表是有順序的，所有的元素都是按照存在列表中的順序列印出來。\n\nIn the first line, we use square brackets to create a list that contains four elements and then assign it to the dog_breeds variable. In the second line, the list is printed through the variable's name. All the elements are printed in the same order as they were stored in the list because lists are ordered."
    },
    {
      "metadata": {},
      "cell_type": "markdown",
      "source": "下面是另一個包含五個整數的列表。\n\nHere is another list that contains five integers:"
    },
    {
      "metadata": {
        "trusted": true
      },
      "cell_type": "code",
      "source": "numbers = [1, 2, 3, 4, 5]\nprint(numbers)  # [1, 2, 3, 4, 5]",
      "execution_count": 2,
      "outputs": [
        {
          "output_type": "stream",
          "text": "[1, 2, 3, 4, 5]\n",
          "name": "stdout"
        }
      ]
    },
    {
      "metadata": {},
      "cell_type": "markdown",
      "source": "建立列表的另一種方法是使用 list 函數。 您可以從可迭代物件中建立列表，可迭代物件是你可以從物件中逐一獲取其元素。列表本身是可迭代的，Python中的其他集合以及字串也是可迭代的。\n\nAnother way to create a list is to invoke the list function. You do so when you want to create a list out of an iterable object: that is, a kind of object where you can get its elements one by one. A list itself is iterable, so are other collections in Python, as well as a string. \n\nThe following example demonstrates the difference between using list and [] when creating a list:"
    },
    {
      "metadata": {
        "trusted": true
      },
      "cell_type": "code",
      "source": "multi_elements_list = list('danger!')\nprint(multi_elements_list)  # ['d', 'a', 'n', 'g', 'e', 'r', '!']\nprint(type(multi_elements_list))\n    \nsingle_element_list = ['danger!']\nprint(single_element_list)  # ['danger!']\nprint(type(single_element_list))",
      "execution_count": 3,
      "outputs": [
        {
          "output_type": "stream",
          "text": "['d', 'a', 'n', 'g', 'e', 'r', '!']\n<class 'list'>\n['danger!']\n<class 'list'>\n",
          "name": "stdout"
        }
      ]
    },
    {
      "metadata": {},
      "cell_type": "markdown",
      "source": "因此，list 函數建立一個列表，其中包含可迭代物件中的每個元素，例如字串。 您可以根據您的任務，使用中括號或使用 list 函數。\n\nSo, the list function creates a list containing each element from the given iterable object such as a string.\nYou can use square brackets or invoke the list functions depending on your task."
    },
    {
      "metadata": {},
      "cell_type": "markdown",
      "source": "## 2. 列表的特點 Features of lists\n列表可以根據需要儲存多個重複的值。\n\nLists can store duplicate values as many times as needed."
    },
    {
      "metadata": {
        "trusted": true
      },
      "cell_type": "code",
      "source": "on_off_list = ['on', 'off', 'on', 'off', 'on']\nprint(on_off_list)  # ['on', 'off', 'on', 'off', 'on']",
      "execution_count": 1,
      "outputs": [
        {
          "output_type": "stream",
          "text": "['on', 'off', 'on', 'off', 'on']\n",
          "name": "stdout"
        }
      ]
    },
    {
      "metadata": {},
      "cell_type": "markdown",
      "source": "列表的另一個重要特點是，它可以包含不同類型的元素。所以既沒有限制，也沒有固定的列表類型，你可以在列表中添加任何你想要的資料，比如下面的例子。\n\nAnother important thing about lists is that they can contain different types of elements. So there are neither restrictions, nor fixed list types, and you can add to your list any data you want, like in the following example:"
    },
    {
      "metadata": {
        "trusted": true
      },
      "cell_type": "code",
      "source": "different_objects = ['a', 1, 'b', 2]",
      "execution_count": 6,
      "outputs": []
    },
    {
      "metadata": {},
      "cell_type": "markdown",
      "source": "## 3. Length of a list\n有時您需要知道列表中有多少個元素。 有一個 len() 的內建函數，可應用於任何可迭代物件，並且傳回該物件的長度。當 len() 函數用於列表時，它將傅回該列表中元素的數量。\n\nSometimes you need to know how many elements are there in a list. There is a built-in function called len that can be applied to any iterable object, and it returns simply the length of that object\n\nSo, when applied to a list, it returns the number of elements in that list."
    },
    {
      "metadata": {
        "trusted": true
      },
      "cell_type": "code",
      "source": "numbers = [1, 2, 3, 4, 5]\nprint(len(numbers))  # 5\n \nempty_list = list()\nprint(len(empty_list))  # 0\n \nsingle_element_list = ['danger!']\nprint(len(single_element_list))  # 1\n \nmulti_elements_list = list('danger!')\nprint(len(multi_elements_list))  # 7",
      "execution_count": 7,
      "outputs": [
        {
          "output_type": "stream",
          "text": "5\n0\n1\n7\n",
          "name": "stdout"
        }
      ]
    },
    {
      "metadata": {},
      "cell_type": "markdown",
      "source": "上面的例子中，你可以看到 len() 函數的工作原理。再一次注意 list() 和 [] 的區別，因為用於字串的時候，它的結果可能不是你所期望的。\n\nIn the example above, you can see how the len() function works. Again, pay attention to the difference between list() and [] as applied to strings: it may not result in what you expected."
    },
    {
      "metadata": {},
      "cell_type": "markdown",
      "source": "## 4. Recap\n\n作一個總結，我們注意到列表是：\n\n* 有序的，即每個元素在列表中都有固定的位置；\n* 可迭代的，即您可以逐一獲取它們的元素；\n* 能夠儲存重複的值；\n* 能夠儲存不同類型的元素。\n\nAs a recap, we note that lists are:\n\n* ordered, i.e. each element has a fixed position in a list;\n* iterable, i.e. you can get their elements one by one;\n* able to store duplicate values;\n* able to store different types of elements."
    },
    {
      "metadata": {
        "trusted": true
      },
      "cell_type": "code",
      "source": "",
      "execution_count": null,
      "outputs": []
    }
  ],
  "metadata": {
    "kernelspec": {
      "name": "python36",
      "display_name": "Python 3.6",
      "language": "python"
    },
    "language_info": {
      "mimetype": "text/x-python",
      "nbconvert_exporter": "python",
      "name": "python",
      "pygments_lexer": "ipython3",
      "version": "3.6.6",
      "file_extension": ".py",
      "codemirror_mode": {
        "version": 3,
        "name": "ipython"
      }
    }
  },
  "nbformat": 4,
  "nbformat_minor": 2
}