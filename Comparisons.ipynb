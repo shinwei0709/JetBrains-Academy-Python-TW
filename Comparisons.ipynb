{
 "cells": [
  {
   "cell_type": "markdown",
   "metadata": {},
   "source": [
    "# 理論:比較\n",
    "編寫程式碼而不比較其中的任何值的話也就止步於此了。現在，該掌握這項技能了。\n",
    "\n",
    "Writing code without comparing any values in it will get you only so far. Now, it's time to master this skill."
   ]
  },
  {
   "cell_type": "markdown",
   "metadata": {},
   "source": [
    "## 1.比較運算符\n",
    "比較或關係運算使您可以比較兩個值並確定它們之間的關係。Python中有十個比較運算符：\n",
    "\n",
    "Comparison or relation operations let you compare two values and determine the relation between them. There are ten comparison operators in Python:\n",
    "\n",
    "###### <嚴格小於\n",
    "###### <= 小於或等於\n",
    "###### > 嚴格大於\n",
    "###### >= 大於或等於\n",
    "###### == 等於\n",
    "###### != 不相等\n",
    "###### is 對象身份\n",
    "###### is not 否定對象身份\n",
    "###### in 會員資格\n",
    "###### not in 否定的成員資格。\n",
    "\n",
    "###### < strictly less than\n",
    "###### <= less than or equal\n",
    "###### > strictly greater than\n",
    "###### >= greater than or equal\n",
    "###### == equal\n",
    "###### != not equal\n",
    "###### is object identity\n",
    "###### is not negated object identity\n",
    "###### in membership\n",
    "###### not in negated membership."
   ]
  },
  {
   "cell_type": "markdown",
   "metadata": {},
   "source": [
    "應用這些運算符的結果始終是bool。以下各節重點介紹前六個運算符，但是在下一個主題中，您可以找到有關身份和成員資格測試的更多詳細信息。\n",
    "\n",
    "The result of applying these operators is always bool. The following sections focus on the first six operators, but you can find more details about identity and membership testing in the next topics."
   ]
  },
  {
   "cell_type": "markdown",
   "metadata": {},
   "source": [
    "## 2.比較整數\n",
    "在本主題中，我們將僅討論整數比較。\n",
    "\n",
    "In this topic, we will cover only integer comparison."
   ]
  },
  {
   "cell_type": "code",
   "execution_count": null,
   "metadata": {},
   "outputs": [],
   "source": [
    "a = 5\n",
    "b = -10\n",
    "c = 15\n",
    " \n",
    "result_1 = a < b   # False\n",
    "result_2 = a == a  # True\n",
    "result_3 = a != b  # True\n",
    "result_4 = b >= c  # False"
   ]
  },
  {
   "cell_type": "markdown",
   "metadata": {},
   "source": [
    "###### 任何返回整數的表達式也是有效的比較操作數：\n",
    "\n",
    "###### Any expression that returns integer is a valid comparison operand too:"
   ]
  },
  {
   "cell_type": "code",
   "execution_count": null,
   "metadata": {},
   "outputs": [],
   "source": [
    "calculated_result = a == b + c  # True"
   ]
  },
  {
   "cell_type": "markdown",
   "metadata": {},
   "source": [
    "由於定義的變量a，b和c，我們基本上檢查，如果5等於-10 + 15，代表這是真的\n",
    "\n",
    "Given the defined variables a, b and c, we basically check if 5 is equal to -10 + 15, which is true."
   ]
  },
  {
   "cell_type": "markdown",
   "metadata": {},
   "source": [
    "## 3.比較鏈\n",
    "\n",
    "由於比較操作返回布林值，因此可以使用邏輯運算符將它們連接在一起。\n",
    "\n",
    "Since comparison operations return boolean values, you can join them using logical operators."
   ]
  },
  {
   "cell_type": "code",
   "execution_count": null,
   "metadata": {},
   "outputs": [],
   "source": [
    "x = -5\n",
    "y = 10\n",
    "z = 12\n",
    " \n",
    "result = x < y and y <= z  # True"
   ]
  },
  {
   "cell_type": "markdown",
   "metadata": {},
   "source": [
    "在Python中，有一種更簡單的方法可以編寫複雜的比較。這稱為鏈接。例如，x < y <= z幾乎等於您在上一個範例中看到的表達式。不同之處在於y僅評估一次。\n",
    "\n",
    "In Python, there is a fancier way to write complex comparisons. It is called chaining. For example, x < y <= z is almost equivalent to the expression you saw in the last example. The difference is that y evaluated only once."
   ]
  },
  {
   "cell_type": "code",
   "execution_count": null,
   "metadata": {},
   "outputs": [],
   "source": [
    "result = 10 < (100 * 100) <= 10000  # True, the multiplication is evaluated once"
   ]
  },
  {
   "cell_type": "code",
   "execution_count": null,
   "metadata": {},
   "outputs": [],
   "source": []
  }
 ],
 "metadata": {
  "kernelspec": {
   "display_name": "Python 3",
   "language": "python",
   "name": "python3"
  },
  "language_info": {
   "codemirror_mode": {
    "name": "ipython",
    "version": 3
   },
   "file_extension": ".py",
   "mimetype": "text/x-python",
   "name": "python",
   "nbconvert_exporter": "python",
   "pygments_lexer": "ipython3",
   "version": "3.7.4"
  }
 },
 "nbformat": 4,
 "nbformat_minor": 2
}
